{
 "cells": [
  {
   "cell_type": "code",
   "execution_count": 1,
   "metadata": {},
   "outputs": [],
   "source": [
    "# data gather through tweepy API\n",
    "import pandas as pd\n",
    "import time\n",
    "import json\n",
    "import csv\n",
    "from tqdm import tqdm\n",
    "import tweepy\n",
    "import requests\n",
    "import os\n",
    "import numpy as np\n",
    "api = pd.read_csv(r'C:\\Users\\63014\\Desktop\\twitter key.txt')\n",
    "consumer_key        = api.iloc[0,1]\n",
    "consumer_secret     = api.iloc[1,1]\n",
    "access_token        = api.iloc[3,1]\n",
    "access_token_secret = api.iloc[4,1]\n",
    "bearer_token        = api.iloc[2,1]"
   ]
  },
  {
   "cell_type": "code",
   "execution_count": 2,
   "metadata": {},
   "outputs": [],
   "source": [
    "auth = tweepy.OAuthHandler(consumer_key,consumer_secret)\n",
    "auth.set_access_token(access_token,access_token_secret)\n",
    "api = tweepy.API(auth,wait_on_rate_limit=True)\n",
    "client = tweepy.Client(bearer_token=bearer_token)"
   ]
  },
  {
   "cell_type": "code",
   "execution_count": 24,
   "metadata": {},
   "outputs": [
    {
     "data": {
      "text/html": [
       "<div>\n",
       "<style scoped>\n",
       "    .dataframe tbody tr th:only-of-type {\n",
       "        vertical-align: middle;\n",
       "    }\n",
       "\n",
       "    .dataframe tbody tr th {\n",
       "        vertical-align: top;\n",
       "    }\n",
       "\n",
       "    .dataframe thead th {\n",
       "        text-align: right;\n",
       "    }\n",
       "</style>\n",
       "<table border=\"1\" class=\"dataframe\">\n",
       "  <thead>\n",
       "    <tr style=\"text-align: right;\">\n",
       "      <th></th>\n",
       "      <th>user_id</th>\n",
       "      <th>label</th>\n",
       "    </tr>\n",
       "  </thead>\n",
       "  <tbody>\n",
       "    <tr>\n",
       "      <th>0</th>\n",
       "      <td>572341498827522049</td>\n",
       "      <td>racism</td>\n",
       "    </tr>\n",
       "    <tr>\n",
       "      <th>1</th>\n",
       "      <td>572340476503724032</td>\n",
       "      <td>racism</td>\n",
       "    </tr>\n",
       "    <tr>\n",
       "      <th>2</th>\n",
       "      <td>572334712804384768</td>\n",
       "      <td>racism</td>\n",
       "    </tr>\n",
       "    <tr>\n",
       "      <th>3</th>\n",
       "      <td>572332655397629952</td>\n",
       "      <td>racism</td>\n",
       "    </tr>\n",
       "    <tr>\n",
       "      <th>4</th>\n",
       "      <td>575949086055997440</td>\n",
       "      <td>racism</td>\n",
       "    </tr>\n",
       "  </tbody>\n",
       "</table>\n",
       "</div>"
      ],
      "text/plain": [
       "              user_id   label\n",
       "0  572341498827522049  racism\n",
       "1  572340476503724032  racism\n",
       "2  572334712804384768  racism\n",
       "3  572332655397629952  racism\n",
       "4  575949086055997440  racism"
      ]
     },
     "execution_count": 24,
     "metadata": {},
     "output_type": "execute_result"
    }
   ],
   "source": [
    "df = pd.read_csv('../../data/NAACL_SRW_2016.csv')\n",
    "df.columns = ['user_id','label']\n",
    "df.head()"
   ]
  },
  {
   "cell_type": "code",
   "execution_count": 25,
   "metadata": {},
   "outputs": [
    {
     "data": {
      "text/plain": [
       "(16906, 2)"
      ]
     },
     "execution_count": 25,
     "metadata": {},
     "output_type": "execute_result"
    }
   ],
   "source": [
    "df.shape"
   ]
  },
  {
   "cell_type": "code",
   "execution_count": 26,
   "metadata": {},
   "outputs": [],
   "source": [
    "# 有重复的号码\n",
    "df = df.drop_duplicates(subset='user_id',keep='first')"
   ]
  },
  {
   "cell_type": "code",
   "execution_count": 6,
   "metadata": {},
   "outputs": [
    {
     "data": {
      "text/plain": [
       "array(['none', 'racism', 'sexism'], dtype=object)"
      ]
     },
     "execution_count": 6,
     "metadata": {},
     "output_type": "execute_result"
    }
   ],
   "source": [
    "np.unique(df.label)"
   ]
  },
  {
   "cell_type": "code",
   "execution_count": 27,
   "metadata": {},
   "outputs": [
    {
     "data": {
      "text/plain": [
       "(2527, 2)"
      ]
     },
     "execution_count": 27,
     "metadata": {},
     "output_type": "execute_result"
    }
   ],
   "source": [
    "df = df.sample(frac=0.15,random_state=123).reset_index(drop=True)\n",
    "df.shape"
   ]
  },
  {
   "cell_type": "code",
   "execution_count": 8,
   "metadata": {},
   "outputs": [],
   "source": [
    "def tqdm_enumerate(iter):\n",
    "    i = 0\n",
    "    for y in tqdm(iter):\n",
    "        yield i, y\n",
    "        i += 1"
   ]
  },
  {
   "cell_type": "code",
   "execution_count": null,
   "metadata": {},
   "outputs": [],
   "source": [
    "df"
   ]
  },
  {
   "cell_type": "code",
   "execution_count": 9,
   "metadata": {},
   "outputs": [
    {
     "name": "stderr",
     "output_type": "stream",
     "text": [
      "  3%|▎         | 75/2527 [00:22<20:48,  1.96it/s]"
     ]
    },
    {
     "name": "stdout",
     "output_type": "stream",
     "text": [
      "we need to sleep to avoid reaching limit\n"
     ]
    },
    {
     "name": "stderr",
     "output_type": "stream",
     "text": [
      "  4%|▍         | 101/2527 [00:29<17:45,  2.28it/s]"
     ]
    },
    {
     "name": "stdout",
     "output_type": "stream",
     "text": [
      "we need to sleep to avoid reaching limit\n"
     ]
    },
    {
     "name": "stderr",
     "output_type": "stream",
     "text": [
      "  5%|▍         | 125/2527 [00:35<21:30,  1.86it/s]"
     ]
    },
    {
     "name": "stdout",
     "output_type": "stream",
     "text": [
      "we need to sleep to avoid reaching limit\n"
     ]
    },
    {
     "name": "stderr",
     "output_type": "stream",
     "text": [
      "  6%|▌         | 150/2527 [00:42<21:11,  1.87it/s]"
     ]
    },
    {
     "name": "stdout",
     "output_type": "stream",
     "text": [
      "we need to sleep to avoid reaching limit\n"
     ]
    },
    {
     "name": "stderr",
     "output_type": "stream",
     "text": [
      "  8%|▊         | 200/2527 [00:54<21:02,  1.84it/s]"
     ]
    },
    {
     "name": "stdout",
     "output_type": "stream",
     "text": [
      "we need to sleep to avoid reaching limit\n"
     ]
    },
    {
     "name": "stderr",
     "output_type": "stream",
     "text": [
      "  9%|▉         | 226/2527 [01:01<16:49,  2.28it/s]"
     ]
    },
    {
     "name": "stdout",
     "output_type": "stream",
     "text": [
      "we need to sleep to avoid reaching limit\n"
     ]
    },
    {
     "name": "stderr",
     "output_type": "stream",
     "text": [
      " 12%|█▏        | 300/2527 [01:19<19:34,  1.90it/s]"
     ]
    },
    {
     "name": "stdout",
     "output_type": "stream",
     "text": [
      "we need to sleep to avoid reaching limit\n"
     ]
    },
    {
     "name": "stderr",
     "output_type": "stream",
     "text": [
      " 14%|█▍        | 350/2527 [01:31<19:12,  1.89it/s]"
     ]
    },
    {
     "name": "stdout",
     "output_type": "stream",
     "text": [
      "we need to sleep to avoid reaching limit\n"
     ]
    },
    {
     "name": "stderr",
     "output_type": "stream",
     "text": [
      " 15%|█▍        | 375/2527 [01:38<18:59,  1.89it/s]"
     ]
    },
    {
     "name": "stdout",
     "output_type": "stream",
     "text": [
      "we need to sleep to avoid reaching limit\n"
     ]
    },
    {
     "name": "stderr",
     "output_type": "stream",
     "text": [
      " 16%|█▌        | 400/2527 [01:45<18:39,  1.90it/s]"
     ]
    },
    {
     "name": "stdout",
     "output_type": "stream",
     "text": [
      "we need to sleep to avoid reaching limit\n"
     ]
    },
    {
     "name": "stderr",
     "output_type": "stream",
     "text": [
      " 17%|█▋        | 425/2527 [01:52<18:37,  1.88it/s]"
     ]
    },
    {
     "name": "stdout",
     "output_type": "stream",
     "text": [
      "we need to sleep to avoid reaching limit\n"
     ]
    },
    {
     "name": "stderr",
     "output_type": "stream",
     "text": [
      " 19%|█▉        | 475/2527 [02:04<18:22,  1.86it/s]"
     ]
    },
    {
     "name": "stdout",
     "output_type": "stream",
     "text": [
      "we need to sleep to avoid reaching limit\n"
     ]
    },
    {
     "name": "stderr",
     "output_type": "stream",
     "text": [
      " 20%|█▉        | 500/2527 [02:11<18:19,  1.84it/s]"
     ]
    },
    {
     "name": "stdout",
     "output_type": "stream",
     "text": [
      "we need to sleep to avoid reaching limit\n"
     ]
    },
    {
     "name": "stderr",
     "output_type": "stream",
     "text": [
      " 22%|██▏       | 550/2527 [02:24<17:23,  1.90it/s]"
     ]
    },
    {
     "name": "stdout",
     "output_type": "stream",
     "text": [
      "we need to sleep to avoid reaching limit\n"
     ]
    },
    {
     "name": "stderr",
     "output_type": "stream",
     "text": [
      " 24%|██▎       | 600/2527 [02:36<17:13,  1.86it/s]"
     ]
    },
    {
     "name": "stdout",
     "output_type": "stream",
     "text": [
      "we need to sleep to avoid reaching limit\n"
     ]
    },
    {
     "name": "stderr",
     "output_type": "stream",
     "text": [
      " 25%|██▍       | 625/2527 [02:43<16:46,  1.89it/s]"
     ]
    },
    {
     "name": "stdout",
     "output_type": "stream",
     "text": [
      "we need to sleep to avoid reaching limit\n"
     ]
    },
    {
     "name": "stderr",
     "output_type": "stream",
     "text": [
      " 26%|██▌       | 651/2527 [02:50<13:26,  2.33it/s]"
     ]
    },
    {
     "name": "stdout",
     "output_type": "stream",
     "text": [
      "we need to sleep to avoid reaching limit\n"
     ]
    },
    {
     "name": "stderr",
     "output_type": "stream",
     "text": [
      " 27%|██▋       | 675/2527 [02:57<16:58,  1.82it/s]"
     ]
    },
    {
     "name": "stdout",
     "output_type": "stream",
     "text": [
      "we need to sleep to avoid reaching limit\n"
     ]
    },
    {
     "name": "stderr",
     "output_type": "stream",
     "text": [
      " 28%|██▊       | 700/2527 [03:04<16:36,  1.83it/s]"
     ]
    },
    {
     "name": "stdout",
     "output_type": "stream",
     "text": [
      "we need to sleep to avoid reaching limit\n"
     ]
    },
    {
     "name": "stderr",
     "output_type": "stream",
     "text": [
      " 30%|██▉       | 750/2527 [03:17<15:46,  1.88it/s]"
     ]
    },
    {
     "name": "stdout",
     "output_type": "stream",
     "text": [
      "we need to sleep to avoid reaching limit\n"
     ]
    },
    {
     "name": "stderr",
     "output_type": "stream",
     "text": [
      " 32%|███▏      | 800/2527 [03:29<15:32,  1.85it/s]"
     ]
    },
    {
     "name": "stdout",
     "output_type": "stream",
     "text": [
      "we need to sleep to avoid reaching limit\n"
     ]
    },
    {
     "name": "stderr",
     "output_type": "stream",
     "text": [
      " 34%|███▎      | 850/2527 [03:42<15:08,  1.85it/s]"
     ]
    },
    {
     "name": "stdout",
     "output_type": "stream",
     "text": [
      "we need to sleep to avoid reaching limit\n"
     ]
    },
    {
     "name": "stderr",
     "output_type": "stream",
     "text": [
      " 36%|███▌      | 900/2527 [03:53<06:35,  4.11it/s]Rate limit reached. Sleeping for: 664\n",
      " 39%|███▊      | 975/2527 [15:19<14:25,  1.79it/s]    "
     ]
    },
    {
     "name": "stdout",
     "output_type": "stream",
     "text": [
      "we need to sleep to avoid reaching limit\n"
     ]
    },
    {
     "name": "stderr",
     "output_type": "stream",
     "text": [
      " 40%|███▉      | 1000/2527 [15:26<14:03,  1.81it/s]"
     ]
    },
    {
     "name": "stdout",
     "output_type": "stream",
     "text": [
      "we need to sleep to avoid reaching limit\n"
     ]
    },
    {
     "name": "stderr",
     "output_type": "stream",
     "text": [
      " 41%|████      | 1025/2527 [15:33<13:21,  1.87it/s]"
     ]
    },
    {
     "name": "stdout",
     "output_type": "stream",
     "text": [
      "we need to sleep to avoid reaching limit\n"
     ]
    },
    {
     "name": "stderr",
     "output_type": "stream",
     "text": [
      " 42%|████▏     | 1050/2527 [15:40<13:01,  1.89it/s]"
     ]
    },
    {
     "name": "stdout",
     "output_type": "stream",
     "text": [
      "we need to sleep to avoid reaching limit\n"
     ]
    },
    {
     "name": "stderr",
     "output_type": "stream",
     "text": [
      " 43%|████▎     | 1075/2527 [15:47<13:07,  1.84it/s]"
     ]
    },
    {
     "name": "stdout",
     "output_type": "stream",
     "text": [
      "we need to sleep to avoid reaching limit\n"
     ]
    },
    {
     "name": "stderr",
     "output_type": "stream",
     "text": [
      " 45%|████▍     | 1125/2527 [16:00<12:37,  1.85it/s]"
     ]
    },
    {
     "name": "stdout",
     "output_type": "stream",
     "text": [
      "we need to sleep to avoid reaching limit\n"
     ]
    },
    {
     "name": "stderr",
     "output_type": "stream",
     "text": [
      " 48%|████▊     | 1225/2527 [16:26<12:19,  1.76it/s]"
     ]
    },
    {
     "name": "stdout",
     "output_type": "stream",
     "text": [
      "we need to sleep to avoid reaching limit\n"
     ]
    },
    {
     "name": "stderr",
     "output_type": "stream",
     "text": [
      " 49%|████▉     | 1250/2527 [16:33<11:28,  1.86it/s]"
     ]
    },
    {
     "name": "stdout",
     "output_type": "stream",
     "text": [
      "we need to sleep to avoid reaching limit\n"
     ]
    },
    {
     "name": "stderr",
     "output_type": "stream",
     "text": [
      " 52%|█████▏    | 1325/2527 [16:52<10:56,  1.83it/s]"
     ]
    },
    {
     "name": "stdout",
     "output_type": "stream",
     "text": [
      "we need to sleep to avoid reaching limit\n"
     ]
    },
    {
     "name": "stderr",
     "output_type": "stream",
     "text": [
      " 54%|█████▍    | 1375/2527 [17:05<10:48,  1.78it/s]"
     ]
    },
    {
     "name": "stdout",
     "output_type": "stream",
     "text": [
      "we need to sleep to avoid reaching limit\n"
     ]
    },
    {
     "name": "stderr",
     "output_type": "stream",
     "text": [
      " 57%|█████▋    | 1450/2527 [17:24<09:43,  1.85it/s]"
     ]
    },
    {
     "name": "stdout",
     "output_type": "stream",
     "text": [
      "we need to sleep to avoid reaching limit\n"
     ]
    },
    {
     "name": "stderr",
     "output_type": "stream",
     "text": [
      " 58%|█████▊    | 1475/2527 [17:31<09:43,  1.80it/s]"
     ]
    },
    {
     "name": "stdout",
     "output_type": "stream",
     "text": [
      "we need to sleep to avoid reaching limit\n"
     ]
    },
    {
     "name": "stderr",
     "output_type": "stream",
     "text": [
      " 59%|█████▉    | 1500/2527 [17:38<09:13,  1.85it/s]"
     ]
    },
    {
     "name": "stdout",
     "output_type": "stream",
     "text": [
      "we need to sleep to avoid reaching limit\n"
     ]
    },
    {
     "name": "stderr",
     "output_type": "stream",
     "text": [
      " 61%|██████▏   | 1550/2527 [17:52<09:00,  1.81it/s]"
     ]
    },
    {
     "name": "stdout",
     "output_type": "stream",
     "text": [
      "we need to sleep to avoid reaching limit\n"
     ]
    },
    {
     "name": "stderr",
     "output_type": "stream",
     "text": [
      " 63%|██████▎   | 1600/2527 [18:04<08:37,  1.79it/s]"
     ]
    },
    {
     "name": "stdout",
     "output_type": "stream",
     "text": [
      "we need to sleep to avoid reaching limit\n"
     ]
    },
    {
     "name": "stderr",
     "output_type": "stream",
     "text": [
      " 65%|██████▌   | 1650/2527 [18:17<08:00,  1.83it/s]"
     ]
    },
    {
     "name": "stdout",
     "output_type": "stream",
     "text": [
      "we need to sleep to avoid reaching limit\n"
     ]
    },
    {
     "name": "stderr",
     "output_type": "stream",
     "text": [
      " 66%|██████▋   | 1675/2527 [18:24<07:37,  1.86it/s]"
     ]
    },
    {
     "name": "stdout",
     "output_type": "stream",
     "text": [
      "we need to sleep to avoid reaching limit\n"
     ]
    },
    {
     "name": "stderr",
     "output_type": "stream",
     "text": [
      " 67%|██████▋   | 1700/2527 [18:32<08:29,  1.62it/s]"
     ]
    },
    {
     "name": "stdout",
     "output_type": "stream",
     "text": [
      "we need to sleep to avoid reaching limit\n"
     ]
    },
    {
     "name": "stderr",
     "output_type": "stream",
     "text": [
      " 68%|██████▊   | 1725/2527 [18:39<07:18,  1.83it/s]"
     ]
    },
    {
     "name": "stdout",
     "output_type": "stream",
     "text": [
      "we need to sleep to avoid reaching limit\n"
     ]
    },
    {
     "name": "stderr",
     "output_type": "stream",
     "text": [
      " 70%|███████   | 1775/2527 [18:51<06:45,  1.85it/s]"
     ]
    },
    {
     "name": "stdout",
     "output_type": "stream",
     "text": [
      "we need to sleep to avoid reaching limit\n"
     ]
    },
    {
     "name": "stderr",
     "output_type": "stream",
     "text": [
      " 71%|███████   | 1800/2527 [18:58<06:45,  1.79it/s]Rate limit reached. Sleeping for: 659\n"
     ]
    },
    {
     "name": "stdout",
     "output_type": "stream",
     "text": [
      "we need to sleep to avoid reaching limit\n"
     ]
    },
    {
     "name": "stderr",
     "output_type": "stream",
     "text": [
      " 72%|███████▏  | 1825/2527 [30:06<06:42,  1.74it/s]    "
     ]
    },
    {
     "name": "stdout",
     "output_type": "stream",
     "text": [
      "we need to sleep to avoid reaching limit\n"
     ]
    },
    {
     "name": "stderr",
     "output_type": "stream",
     "text": [
      " 73%|███████▎  | 1851/2527 [30:13<04:59,  2.26it/s]"
     ]
    },
    {
     "name": "stdout",
     "output_type": "stream",
     "text": [
      "we need to sleep to avoid reaching limit\n"
     ]
    },
    {
     "name": "stderr",
     "output_type": "stream",
     "text": [
      " 74%|███████▍  | 1875/2527 [30:20<05:55,  1.83it/s]"
     ]
    },
    {
     "name": "stdout",
     "output_type": "stream",
     "text": [
      "we need to sleep to avoid reaching limit\n"
     ]
    },
    {
     "name": "stderr",
     "output_type": "stream",
     "text": [
      " 75%|███████▌  | 1900/2527 [30:27<05:33,  1.88it/s]"
     ]
    },
    {
     "name": "stdout",
     "output_type": "stream",
     "text": [
      "we need to sleep to avoid reaching limit\n"
     ]
    },
    {
     "name": "stderr",
     "output_type": "stream",
     "text": [
      " 76%|███████▌  | 1925/2527 [30:34<05:29,  1.83it/s]"
     ]
    },
    {
     "name": "stdout",
     "output_type": "stream",
     "text": [
      "we need to sleep to avoid reaching limit\n"
     ]
    },
    {
     "name": "stderr",
     "output_type": "stream",
     "text": [
      " 77%|███████▋  | 1950/2527 [30:40<05:05,  1.89it/s]"
     ]
    },
    {
     "name": "stdout",
     "output_type": "stream",
     "text": [
      "we need to sleep to avoid reaching limit\n"
     ]
    },
    {
     "name": "stderr",
     "output_type": "stream",
     "text": [
      " 79%|███████▉  | 2000/2527 [30:53<04:40,  1.88it/s]"
     ]
    },
    {
     "name": "stdout",
     "output_type": "stream",
     "text": [
      "we need to sleep to avoid reaching limit\n"
     ]
    },
    {
     "name": "stderr",
     "output_type": "stream",
     "text": [
      " 82%|████████▏ | 2075/2527 [31:11<03:59,  1.89it/s]"
     ]
    },
    {
     "name": "stdout",
     "output_type": "stream",
     "text": [
      "we need to sleep to avoid reaching limit\n"
     ]
    },
    {
     "name": "stderr",
     "output_type": "stream",
     "text": [
      " 84%|████████▍ | 2125/2527 [31:23<03:35,  1.86it/s]"
     ]
    },
    {
     "name": "stdout",
     "output_type": "stream",
     "text": [
      "we need to sleep to avoid reaching limit\n"
     ]
    },
    {
     "name": "stderr",
     "output_type": "stream",
     "text": [
      " 86%|████████▌ | 2175/2527 [31:36<03:09,  1.86it/s]"
     ]
    },
    {
     "name": "stdout",
     "output_type": "stream",
     "text": [
      "we need to sleep to avoid reaching limit\n"
     ]
    },
    {
     "name": "stderr",
     "output_type": "stream",
     "text": [
      " 87%|████████▋ | 2200/2527 [31:43<02:57,  1.84it/s]"
     ]
    },
    {
     "name": "stdout",
     "output_type": "stream",
     "text": [
      "we need to sleep to avoid reaching limit\n"
     ]
    },
    {
     "name": "stderr",
     "output_type": "stream",
     "text": [
      " 88%|████████▊ | 2225/2527 [31:50<02:42,  1.86it/s]"
     ]
    },
    {
     "name": "stdout",
     "output_type": "stream",
     "text": [
      "we need to sleep to avoid reaching limit\n"
     ]
    },
    {
     "name": "stderr",
     "output_type": "stream",
     "text": [
      " 89%|████████▉ | 2250/2527 [31:56<02:26,  1.89it/s]"
     ]
    },
    {
     "name": "stdout",
     "output_type": "stream",
     "text": [
      "we need to sleep to avoid reaching limit\n"
     ]
    },
    {
     "name": "stderr",
     "output_type": "stream",
     "text": [
      " 90%|█████████ | 2275/2527 [32:03<02:15,  1.87it/s]"
     ]
    },
    {
     "name": "stdout",
     "output_type": "stream",
     "text": [
      "we need to sleep to avoid reaching limit\n"
     ]
    },
    {
     "name": "stderr",
     "output_type": "stream",
     "text": [
      " 91%|█████████ | 2300/2527 [32:10<02:02,  1.85it/s]"
     ]
    },
    {
     "name": "stdout",
     "output_type": "stream",
     "text": [
      "we need to sleep to avoid reaching limit\n"
     ]
    },
    {
     "name": "stderr",
     "output_type": "stream",
     "text": [
      " 92%|█████████▏| 2325/2527 [32:17<01:44,  1.93it/s]"
     ]
    },
    {
     "name": "stdout",
     "output_type": "stream",
     "text": [
      "we need to sleep to avoid reaching limit\n"
     ]
    },
    {
     "name": "stderr",
     "output_type": "stream",
     "text": [
      " 93%|█████████▎| 2351/2527 [32:24<01:18,  2.26it/s]"
     ]
    },
    {
     "name": "stdout",
     "output_type": "stream",
     "text": [
      "we need to sleep to avoid reaching limit\n"
     ]
    },
    {
     "name": "stderr",
     "output_type": "stream",
     "text": [
      " 94%|█████████▍| 2375/2527 [32:30<01:21,  1.87it/s]"
     ]
    },
    {
     "name": "stdout",
     "output_type": "stream",
     "text": [
      "we need to sleep to avoid reaching limit\n"
     ]
    },
    {
     "name": "stderr",
     "output_type": "stream",
     "text": [
      " 95%|█████████▍| 2400/2527 [32:37<01:07,  1.89it/s]"
     ]
    },
    {
     "name": "stdout",
     "output_type": "stream",
     "text": [
      "we need to sleep to avoid reaching limit\n"
     ]
    },
    {
     "name": "stderr",
     "output_type": "stream",
     "text": [
      " 96%|█████████▌| 2425/2527 [32:45<01:01,  1.67it/s]"
     ]
    },
    {
     "name": "stdout",
     "output_type": "stream",
     "text": [
      "we need to sleep to avoid reaching limit\n"
     ]
    },
    {
     "name": "stderr",
     "output_type": "stream",
     "text": [
      " 98%|█████████▊| 2475/2527 [32:58<00:28,  1.79it/s]"
     ]
    },
    {
     "name": "stdout",
     "output_type": "stream",
     "text": [
      "we need to sleep to avoid reaching limit\n"
     ]
    },
    {
     "name": "stderr",
     "output_type": "stream",
     "text": [
      " 99%|█████████▉| 2500/2527 [33:05<00:14,  1.89it/s]"
     ]
    },
    {
     "name": "stdout",
     "output_type": "stream",
     "text": [
      "we need to sleep to avoid reaching limit\n"
     ]
    },
    {
     "name": "stderr",
     "output_type": "stream",
     "text": [
      "100%|█████████▉| 2526/2527 [33:12<00:00,  2.23it/s]"
     ]
    },
    {
     "name": "stdout",
     "output_type": "stream",
     "text": [
      "we need to sleep to avoid reaching limit\n"
     ]
    },
    {
     "name": "stderr",
     "output_type": "stream",
     "text": [
      "100%|██████████| 2527/2527 [33:12<00:00,  1.27it/s]\n"
     ]
    }
   ],
   "source": [
    "delete = []\n",
    "text_list = []\n",
    "hashtags_list = []\n",
    "id_list = []\n",
    "location_list = []\n",
    "followers_count_list = []\n",
    "friends_count_list = []\n",
    "country_list = []\n",
    "retweet_count_list = []\n",
    "favorite_count_list = []\n",
    "for count,i in tqdm_enumerate(iter=df.user_id):\n",
    "    try:\n",
    "        status = api.get_status(id=str(i))._json\n",
    "        count+=1\n",
    "    except:\n",
    "        delete.append(i)\n",
    "        continue\n",
    "    else:\n",
    "        text = status['text']\n",
    "        hashtags = status['entities']['hashtags']\n",
    "        if hashtags.__len__()==0:\n",
    "            hashtext = np.NaN\n",
    "        else:\n",
    "            hashtext = hashtags[0]['text']\n",
    "        id = status['user']['id']\n",
    "        location = status['user']['location']\n",
    "        followers_count = status['user']['followers_count']\n",
    "        friends_count = status['user']['friends_count']\n",
    "        try:\n",
    "            country = status['place']['country']\n",
    "        except:\n",
    "            country = np.NaN\n",
    "        retweet_count = status['retweet_count']\n",
    "        favorite_count = status['favorite_count']\n",
    "        text_list.append(text)\n",
    "        hashtags_list.append(hashtext)\n",
    "        id_list.append(id)\n",
    "        location_list.append(location)\n",
    "        followers_count_list.append(followers_count)\n",
    "        friends_count_list.append(friends_count)\n",
    "        country_list.append(country)\n",
    "        retweet_count_list.append(retweet_count)\n",
    "        favorite_count_list.append(favorite_count)\n",
    "    if count%25==0:\n",
    "        time.sleep(1)\n",
    "        print('we need to sleep to avoid reaching limit')\n",
    "    elif count%100==0:\n",
    "        time.sleep(5)\n",
    "        print('we need to sleep more to avoid reaching limit')\n",
    "        \n",
    "    \n",
    "\n"
   ]
  },
  {
   "cell_type": "code",
   "execution_count": 15,
   "metadata": {},
   "outputs": [
    {
     "data": {
      "text/html": [
       "<div>\n",
       "<style scoped>\n",
       "    .dataframe tbody tr th:only-of-type {\n",
       "        vertical-align: middle;\n",
       "    }\n",
       "\n",
       "    .dataframe tbody tr th {\n",
       "        vertical-align: top;\n",
       "    }\n",
       "\n",
       "    .dataframe thead th {\n",
       "        text-align: right;\n",
       "    }\n",
       "</style>\n",
       "<table border=\"1\" class=\"dataframe\">\n",
       "  <thead>\n",
       "    <tr style=\"text-align: right;\">\n",
       "      <th></th>\n",
       "      <th>user_id</th>\n",
       "      <th>label</th>\n",
       "      <th>text</th>\n",
       "    </tr>\n",
       "  </thead>\n",
       "  <tbody>\n",
       "    <tr>\n",
       "      <th>0</th>\n",
       "      <td>562874396155850752</td>\n",
       "      <td>none</td>\n",
       "      <td>RT @randi_ebooks: Twitter just switched to mon...</td>\n",
       "    </tr>\n",
       "    <tr>\n",
       "      <th>1</th>\n",
       "      <td>470393182505545728</td>\n",
       "      <td>none</td>\n",
       "      <td>Because if Elliot Rodger had killed just ONE w...</td>\n",
       "    </tr>\n",
       "    <tr>\n",
       "      <th>4</th>\n",
       "      <td>567937595390300160</td>\n",
       "      <td>none</td>\n",
       "      <td>@Grummz @rxptor @Spacekatgal @TheQuinnspiracy ...</td>\n",
       "    </tr>\n",
       "    <tr>\n",
       "      <th>8</th>\n",
       "      <td>575948706039492609</td>\n",
       "      <td>none</td>\n",
       "      <td>My face every time I hear or see Kat....hope i...</td>\n",
       "    </tr>\n",
       "    <tr>\n",
       "      <th>10</th>\n",
       "      <td>537647038649741312</td>\n",
       "      <td>none</td>\n",
       "      <td>Empathy is the social skill that informs all o...</td>\n",
       "    </tr>\n",
       "    <tr>\n",
       "      <th>...</th>\n",
       "      <td>...</td>\n",
       "      <td>...</td>\n",
       "      <td>...</td>\n",
       "    </tr>\n",
       "    <tr>\n",
       "      <th>2521</th>\n",
       "      <td>572330892972068864</td>\n",
       "      <td>none</td>\n",
       "      <td>Beans on toast for dinner tonight. Would score...</td>\n",
       "    </tr>\n",
       "    <tr>\n",
       "      <th>2522</th>\n",
       "      <td>564099641604861952</td>\n",
       "      <td>sexism</td>\n",
       "      <td>Is it lost on most #QuestionsForMen was essent...</td>\n",
       "    </tr>\n",
       "    <tr>\n",
       "      <th>2523</th>\n",
       "      <td>566067783457591297</td>\n",
       "      <td>none</td>\n",
       "      <td>Step 1: post to facebook.\\nStep 2: KiA links t...</td>\n",
       "    </tr>\n",
       "    <tr>\n",
       "      <th>2524</th>\n",
       "      <td>571499576152231936</td>\n",
       "      <td>sexism</td>\n",
       "      <td>RT @fruitondabottom: @MT8_9 Didn't you hear ab...</td>\n",
       "    </tr>\n",
       "    <tr>\n",
       "      <th>2525</th>\n",
       "      <td>575956161670873088</td>\n",
       "      <td>none</td>\n",
       "      <td>Wouldn't it nice if Annie ends up in sudden de...</td>\n",
       "    </tr>\n",
       "  </tbody>\n",
       "</table>\n",
       "<p>1533 rows × 3 columns</p>\n",
       "</div>"
      ],
      "text/plain": [
       "                 user_id   label  \\\n",
       "0     562874396155850752    none   \n",
       "1     470393182505545728    none   \n",
       "4     567937595390300160    none   \n",
       "8     575948706039492609    none   \n",
       "10    537647038649741312    none   \n",
       "...                  ...     ...   \n",
       "2521  572330892972068864    none   \n",
       "2522  564099641604861952  sexism   \n",
       "2523  566067783457591297    none   \n",
       "2524  571499576152231936  sexism   \n",
       "2525  575956161670873088    none   \n",
       "\n",
       "                                                   text  \n",
       "0     RT @randi_ebooks: Twitter just switched to mon...  \n",
       "1     Because if Elliot Rodger had killed just ONE w...  \n",
       "4     @Grummz @rxptor @Spacekatgal @TheQuinnspiracy ...  \n",
       "8     My face every time I hear or see Kat....hope i...  \n",
       "10    Empathy is the social skill that informs all o...  \n",
       "...                                                 ...  \n",
       "2521  Beans on toast for dinner tonight. Would score...  \n",
       "2522  Is it lost on most #QuestionsForMen was essent...  \n",
       "2523  Step 1: post to facebook.\\nStep 2: KiA links t...  \n",
       "2524  RT @fruitondabottom: @MT8_9 Didn't you hear ab...  \n",
       "2525  Wouldn't it nice if Annie ends up in sudden de...  \n",
       "\n",
       "[1533 rows x 3 columns]"
      ]
     },
     "execution_count": 15,
     "metadata": {},
     "output_type": "execute_result"
    }
   ],
   "source": [
    "df"
   ]
  },
  {
   "cell_type": "code",
   "execution_count": 17,
   "metadata": {},
   "outputs": [],
   "source": [
    "df_clean = df.query('user_id not in @delete').copy()\n",
    "df_clean.loc[:,'id'] = id_list\n",
    "df_clean.loc[:,'text'] = text_list\n",
    "df_clean.loc[:,'hashtag'] = hashtags_list\n",
    "df_clean.loc[:,'location'] = location_list\n",
    "df_clean.loc[:,'follower_count'] = followers_count_list\n",
    "df_clean.loc[:,'friends_count'] = friends_count_list\n",
    "df_clean.loc[:,'country'] = country_list\n",
    "df_clean.loc[:,'retweet_count'] = retweet_count_list\n",
    "df_clean.loc[:,'favorite_count'] = favorite_count_list"
   ]
  },
  {
   "cell_type": "code",
   "execution_count": 40,
   "metadata": {},
   "outputs": [
    {
     "data": {
      "text/html": [
       "<div>\n",
       "<style scoped>\n",
       "    .dataframe tbody tr th:only-of-type {\n",
       "        vertical-align: middle;\n",
       "    }\n",
       "\n",
       "    .dataframe tbody tr th {\n",
       "        vertical-align: top;\n",
       "    }\n",
       "\n",
       "    .dataframe thead th {\n",
       "        text-align: right;\n",
       "    }\n",
       "</style>\n",
       "<table border=\"1\" class=\"dataframe\">\n",
       "  <thead>\n",
       "    <tr style=\"text-align: right;\">\n",
       "      <th></th>\n",
       "      <th>user_id</th>\n",
       "      <th>label</th>\n",
       "      <th>text</th>\n",
       "      <th>hashtag</th>\n",
       "      <th>id</th>\n",
       "      <th>location</th>\n",
       "      <th>follower_count</th>\n",
       "      <th>friends_count</th>\n",
       "      <th>country</th>\n",
       "      <th>retweet_count</th>\n",
       "      <th>favorite_count</th>\n",
       "    </tr>\n",
       "  </thead>\n",
       "  <tbody>\n",
       "    <tr>\n",
       "      <th>1643</th>\n",
       "      <td>572338814716272640</td>\n",
       "      <td>none</td>\n",
       "      <td>New #MKR format is 20Twenty... 20 teams in twe...</td>\n",
       "      <td>MKR</td>\n",
       "      <td>42542097</td>\n",
       "      <td>Shoalhaven</td>\n",
       "      <td>348</td>\n",
       "      <td>1169</td>\n",
       "      <td>NaN</td>\n",
       "      <td>0</td>\n",
       "      <td>0</td>\n",
       "    </tr>\n",
       "    <tr>\n",
       "      <th>337</th>\n",
       "      <td>572364747674292225</td>\n",
       "      <td>sexism</td>\n",
       "      <td>Girls claiming they're hot generally have an o...</td>\n",
       "      <td>mkr</td>\n",
       "      <td>1523942082</td>\n",
       "      <td>Perth, Western Australia</td>\n",
       "      <td>1194</td>\n",
       "      <td>1736</td>\n",
       "      <td>NaN</td>\n",
       "      <td>0</td>\n",
       "      <td>1</td>\n",
       "    </tr>\n",
       "    <tr>\n",
       "      <th>2429</th>\n",
       "      <td>573180997631537152</td>\n",
       "      <td>none</td>\n",
       "      <td>@GentlerMouse http://t.co/qYgaRbGQDP</td>\n",
       "      <td>NaN</td>\n",
       "      <td>13857342</td>\n",
       "      <td>Portland, OR</td>\n",
       "      <td>19172</td>\n",
       "      <td>797</td>\n",
       "      <td>NaN</td>\n",
       "      <td>0</td>\n",
       "      <td>0</td>\n",
       "    </tr>\n",
       "    <tr>\n",
       "      <th>1883</th>\n",
       "      <td>575957444112748546</td>\n",
       "      <td>none</td>\n",
       "      <td>This humiliates you? I wonder what she thinks ...</td>\n",
       "      <td>MKR</td>\n",
       "      <td>347048522</td>\n",
       "      <td>Sydney</td>\n",
       "      <td>2650</td>\n",
       "      <td>2497</td>\n",
       "      <td>NaN</td>\n",
       "      <td>0</td>\n",
       "      <td>1</td>\n",
       "    </tr>\n",
       "    <tr>\n",
       "      <th>461</th>\n",
       "      <td>561984177701421056</td>\n",
       "      <td>none</td>\n",
       "      <td>RT @g56yu: @PierceCotwa is now on twitter. If ...</td>\n",
       "      <td>NaN</td>\n",
       "      <td>2756873076</td>\n",
       "      <td>Earth</td>\n",
       "      <td>1796</td>\n",
       "      <td>1858</td>\n",
       "      <td>NaN</td>\n",
       "      <td>2</td>\n",
       "      <td>0</td>\n",
       "    </tr>\n",
       "  </tbody>\n",
       "</table>\n",
       "</div>"
      ],
      "text/plain": [
       "                 user_id   label  \\\n",
       "1643  572338814716272640    none   \n",
       "337   572364747674292225  sexism   \n",
       "2429  573180997631537152    none   \n",
       "1883  575957444112748546    none   \n",
       "461   561984177701421056    none   \n",
       "\n",
       "                                                   text hashtag          id  \\\n",
       "1643  New #MKR format is 20Twenty... 20 teams in twe...     MKR    42542097   \n",
       "337   Girls claiming they're hot generally have an o...     mkr  1523942082   \n",
       "2429               @GentlerMouse http://t.co/qYgaRbGQDP     NaN    13857342   \n",
       "1883  This humiliates you? I wonder what she thinks ...     MKR   347048522   \n",
       "461   RT @g56yu: @PierceCotwa is now on twitter. If ...     NaN  2756873076   \n",
       "\n",
       "                      location  follower_count  friends_count country  \\\n",
       "1643                Shoalhaven             348           1169     NaN   \n",
       "337   Perth, Western Australia            1194           1736     NaN   \n",
       "2429              Portland, OR           19172            797     NaN   \n",
       "1883                    Sydney            2650           2497     NaN   \n",
       "461                     Earth             1796           1858     NaN   \n",
       "\n",
       "      retweet_count  favorite_count  \n",
       "1643              0               0  \n",
       "337               0               1  \n",
       "2429              0               0  \n",
       "1883              0               1  \n",
       "461               2               0  "
      ]
     },
     "execution_count": 40,
     "metadata": {},
     "output_type": "execute_result"
    }
   ],
   "source": [
    "df_clean.sample(n=5)"
   ]
  },
  {
   "cell_type": "code",
   "execution_count": 41,
   "metadata": {},
   "outputs": [],
   "source": [
    "df_clean.to_csv('./hate_speech.csv')"
   ]
  }
 ],
 "metadata": {
  "kernelspec": {
   "display_name": "Python 3.9.12 ('base')",
   "language": "python",
   "name": "python3"
  },
  "language_info": {
   "codemirror_mode": {
    "name": "ipython",
    "version": 3
   },
   "file_extension": ".py",
   "mimetype": "text/x-python",
   "name": "python",
   "nbconvert_exporter": "python",
   "pygments_lexer": "ipython3",
   "version": "3.9.12"
  },
  "orig_nbformat": 4,
  "vscode": {
   "interpreter": {
    "hash": "5179d32cf6ec497baf3f8a3ef987cc77c5d2dc691fdde20a56316522f61a7323"
   }
  }
 },
 "nbformat": 4,
 "nbformat_minor": 2
}
