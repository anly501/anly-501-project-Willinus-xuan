{
 "cells": [
  {
   "cell_type": "code",
   "execution_count": 2,
   "metadata": {},
   "outputs": [],
   "source": [
    "# data gather through tweepy API\n",
    "import pandas as pd\n",
    "import time\n",
    "import json\n",
    "import csv\n",
    "from tqdm import tqdm\n",
    "import tweepy\n",
    "import requests\n",
    "import os\n",
    "import numpy as np\n",
    "api = pd.read_csv(r'C:\\Users\\63014\\Desktop\\twitter key.txt')\n",
    "consumer_key        = api.iloc[0,1]\n",
    "consumer_secret     = api.iloc[1,1]\n",
    "access_token        = api.iloc[3,1]\n",
    "access_token_secret = api.iloc[4,1]\n",
    "bearer_token        = api.iloc[2,1]"
   ]
  },
  {
   "cell_type": "code",
   "execution_count": 3,
   "metadata": {},
   "outputs": [],
   "source": [
    "auth = tweepy.OAuthHandler(consumer_key,consumer_secret)\n",
    "auth.set_access_token(access_token,access_token_secret)\n",
    "api = tweepy.API(auth,wait_on_rate_limit=True)\n",
    "client = tweepy.Client(bearer_token=bearer_token)"
   ]
  },
  {
   "cell_type": "code",
   "execution_count": 9,
   "metadata": {},
   "outputs": [
    {
     "name": "stdout",
     "output_type": "stream",
     "text": [
      "(3370, 2)\n",
      "['none' 'racism' 'sexism']\n"
     ]
    }
   ],
   "source": [
    "df = pd.read_csv('../../data/NAACL_SRW_2016.csv')\n",
    "df.columns = ['user_id','label']\n",
    "# 有重复的号码\n",
    "df = df.drop_duplicates(subset='user_id',keep='first').reset_index(drop=True)\n",
    "df = df.sample(frac=0.2)\n",
    "df.head()\n",
    "print(df.shape)\n",
    "print(np.unique(df.label))"
   ]
  },
  {
   "cell_type": "code",
   "execution_count": 5,
   "metadata": {},
   "outputs": [],
   "source": [
    "def tqdm_enumerate(iter):\n",
    "    i = 0\n",
    "    for y in tqdm(iter):\n",
    "        yield i, y\n",
    "        i += 1"
   ]
  },
  {
   "cell_type": "code",
   "execution_count": 10,
   "metadata": {},
   "outputs": [
    {
     "name": "stderr",
     "output_type": "stream",
     "text": [
      "  1%|          | 26/3370 [00:10<26:39,  2.09it/s] "
     ]
    },
    {
     "name": "stdout",
     "output_type": "stream",
     "text": [
      "we need to sleep to avoid reaching limit\n"
     ]
    },
    {
     "name": "stderr",
     "output_type": "stream",
     "text": [
      "  1%|▏         | 50/3370 [00:19<29:11,  1.90it/s]  "
     ]
    },
    {
     "name": "stdout",
     "output_type": "stream",
     "text": [
      "we need to sleep to avoid reaching limit\n"
     ]
    },
    {
     "name": "stderr",
     "output_type": "stream",
     "text": [
      "  2%|▏         | 75/3370 [00:29<29:13,  1.88it/s]  "
     ]
    },
    {
     "name": "stdout",
     "output_type": "stream",
     "text": [
      "we need to sleep to avoid reaching limit\n"
     ]
    },
    {
     "name": "stderr",
     "output_type": "stream",
     "text": [
      "  3%|▎         | 100/3370 [00:40<42:13,  1.29it/s] "
     ]
    },
    {
     "name": "stdout",
     "output_type": "stream",
     "text": [
      "we need to sleep to avoid reaching limit\n"
     ]
    },
    {
     "name": "stderr",
     "output_type": "stream",
     "text": [
      "  4%|▎         | 125/3370 [00:48<30:26,  1.78it/s]"
     ]
    },
    {
     "name": "stdout",
     "output_type": "stream",
     "text": [
      "we need to sleep to avoid reaching limit\n"
     ]
    },
    {
     "name": "stderr",
     "output_type": "stream",
     "text": [
      "  4%|▍         | 150/3370 [00:55<27:00,  1.99it/s]"
     ]
    },
    {
     "name": "stdout",
     "output_type": "stream",
     "text": [
      "we need to sleep to avoid reaching limit\n"
     ]
    },
    {
     "name": "stderr",
     "output_type": "stream",
     "text": [
      "  7%|▋         | 251/3370 [01:26<33:17,  1.56it/s]  "
     ]
    },
    {
     "name": "stdout",
     "output_type": "stream",
     "text": [
      "we need to sleep to avoid reaching limit\n"
     ]
    },
    {
     "name": "stderr",
     "output_type": "stream",
     "text": [
      "  8%|▊         | 275/3370 [01:32<24:57,  2.07it/s]"
     ]
    },
    {
     "name": "stdout",
     "output_type": "stream",
     "text": [
      "we need to sleep to avoid reaching limit\n"
     ]
    },
    {
     "name": "stderr",
     "output_type": "stream",
     "text": [
      " 10%|▉         | 325/3370 [01:47<24:34,  2.07it/s]"
     ]
    },
    {
     "name": "stdout",
     "output_type": "stream",
     "text": [
      "we need to sleep to avoid reaching limit\n"
     ]
    },
    {
     "name": "stderr",
     "output_type": "stream",
     "text": [
      " 12%|█▏        | 401/3370 [02:14<25:28,  1.94it/s]  "
     ]
    },
    {
     "name": "stdout",
     "output_type": "stream",
     "text": [
      "we need to sleep to avoid reaching limit\n"
     ]
    },
    {
     "name": "stderr",
     "output_type": "stream",
     "text": [
      " 13%|█▎        | 426/3370 [02:21<20:01,  2.45it/s]"
     ]
    },
    {
     "name": "stdout",
     "output_type": "stream",
     "text": [
      "we need to sleep to avoid reaching limit\n"
     ]
    },
    {
     "name": "stderr",
     "output_type": "stream",
     "text": [
      " 13%|█▎        | 451/3370 [02:35<23:29,  2.07it/s]  "
     ]
    },
    {
     "name": "stdout",
     "output_type": "stream",
     "text": [
      "we need to sleep to avoid reaching limit\n"
     ]
    },
    {
     "name": "stderr",
     "output_type": "stream",
     "text": [
      " 14%|█▍        | 476/3370 [02:45<20:30,  2.35it/s]"
     ]
    },
    {
     "name": "stdout",
     "output_type": "stream",
     "text": [
      "we need to sleep to avoid reaching limit\n"
     ]
    },
    {
     "name": "stderr",
     "output_type": "stream",
     "text": [
      " 15%|█▍        | 500/3370 [02:52<24:25,  1.96it/s]"
     ]
    },
    {
     "name": "stdout",
     "output_type": "stream",
     "text": [
      "we need to sleep to avoid reaching limit\n"
     ]
    },
    {
     "name": "stderr",
     "output_type": "stream",
     "text": [
      " 16%|█▌        | 525/3370 [03:01<22:58,  2.06it/s]  "
     ]
    },
    {
     "name": "stdout",
     "output_type": "stream",
     "text": [
      "we need to sleep to avoid reaching limit\n"
     ]
    },
    {
     "name": "stderr",
     "output_type": "stream",
     "text": [
      " 18%|█▊        | 600/3370 [03:20<24:06,  1.92it/s]"
     ]
    },
    {
     "name": "stdout",
     "output_type": "stream",
     "text": [
      "we need to sleep to avoid reaching limit\n"
     ]
    },
    {
     "name": "stderr",
     "output_type": "stream",
     "text": [
      " 19%|█▊        | 625/3370 [03:30<33:38,  1.36it/s]"
     ]
    },
    {
     "name": "stdout",
     "output_type": "stream",
     "text": [
      "we need to sleep to avoid reaching limit\n"
     ]
    },
    {
     "name": "stderr",
     "output_type": "stream",
     "text": [
      " 21%|██        | 700/3370 [03:52<21:25,  2.08it/s]"
     ]
    },
    {
     "name": "stdout",
     "output_type": "stream",
     "text": [
      "we need to sleep to avoid reaching limit\n"
     ]
    },
    {
     "name": "stderr",
     "output_type": "stream",
     "text": [
      " 22%|██▏       | 725/3370 [04:01<22:03,  2.00it/s]"
     ]
    },
    {
     "name": "stdout",
     "output_type": "stream",
     "text": [
      "we need to sleep to avoid reaching limit\n"
     ]
    },
    {
     "name": "stderr",
     "output_type": "stream",
     "text": [
      " 23%|██▎       | 775/3370 [04:19<36:01,  1.20it/s]"
     ]
    },
    {
     "name": "stdout",
     "output_type": "stream",
     "text": [
      "we need to sleep to avoid reaching limit\n"
     ]
    },
    {
     "name": "stderr",
     "output_type": "stream",
     "text": [
      " 24%|██▍       | 801/3370 [04:25<17:50,  2.40it/s]"
     ]
    },
    {
     "name": "stdout",
     "output_type": "stream",
     "text": [
      "we need to sleep to avoid reaching limit\n"
     ]
    },
    {
     "name": "stderr",
     "output_type": "stream",
     "text": [
      " 25%|██▌       | 851/3370 [04:39<17:43,  2.37it/s]"
     ]
    },
    {
     "name": "stdout",
     "output_type": "stream",
     "text": [
      "we need to sleep to avoid reaching limit\n"
     ]
    },
    {
     "name": "stderr",
     "output_type": "stream",
     "text": [
      " 26%|██▌       | 875/3370 [04:45<20:16,  2.05it/s]"
     ]
    },
    {
     "name": "stdout",
     "output_type": "stream",
     "text": [
      "we need to sleep to avoid reaching limit\n"
     ]
    },
    {
     "name": "stderr",
     "output_type": "stream",
     "text": [
      " 27%|██▋       | 900/3370 [04:55<30:48,  1.34it/s]Rate limit reached. Sleeping for: 607\n"
     ]
    },
    {
     "name": "stdout",
     "output_type": "stream",
     "text": [
      "we need to sleep to avoid reaching limit\n"
     ]
    },
    {
     "name": "stderr",
     "output_type": "stream",
     "text": [
      " 30%|██▉       | 1000/3370 [15:33<20:30,  1.93it/s]    "
     ]
    },
    {
     "name": "stdout",
     "output_type": "stream",
     "text": [
      "we need to sleep to avoid reaching limit\n"
     ]
    },
    {
     "name": "stderr",
     "output_type": "stream",
     "text": [
      " 30%|███       | 1026/3370 [15:43<18:08,  2.15it/s]"
     ]
    },
    {
     "name": "stdout",
     "output_type": "stream",
     "text": [
      "we need to sleep to avoid reaching limit\n"
     ]
    },
    {
     "name": "stderr",
     "output_type": "stream",
     "text": [
      " 31%|███       | 1050/3370 [15:52<20:00,  1.93it/s]"
     ]
    },
    {
     "name": "stdout",
     "output_type": "stream",
     "text": [
      "we need to sleep to avoid reaching limit\n"
     ]
    },
    {
     "name": "stderr",
     "output_type": "stream",
     "text": [
      " 32%|███▏      | 1075/3370 [15:59<20:49,  1.84it/s]"
     ]
    },
    {
     "name": "stdout",
     "output_type": "stream",
     "text": [
      "we need to sleep to avoid reaching limit\n"
     ]
    },
    {
     "name": "stderr",
     "output_type": "stream",
     "text": [
      " 33%|███▎      | 1126/3370 [16:17<15:20,  2.44it/s]"
     ]
    },
    {
     "name": "stdout",
     "output_type": "stream",
     "text": [
      "we need to sleep to avoid reaching limit\n"
     ]
    },
    {
     "name": "stderr",
     "output_type": "stream",
     "text": [
      " 34%|███▍      | 1151/3370 [16:26<18:55,  1.95it/s]"
     ]
    },
    {
     "name": "stdout",
     "output_type": "stream",
     "text": [
      "we need to sleep to avoid reaching limit\n"
     ]
    },
    {
     "name": "stderr",
     "output_type": "stream",
     "text": [
      " 35%|███▍      | 1176/3370 [16:32<15:12,  2.40it/s]"
     ]
    },
    {
     "name": "stdout",
     "output_type": "stream",
     "text": [
      "we need to sleep to avoid reaching limit\n"
     ]
    },
    {
     "name": "stderr",
     "output_type": "stream",
     "text": [
      " 36%|███▌      | 1200/3370 [16:38<17:48,  2.03it/s]"
     ]
    },
    {
     "name": "stdout",
     "output_type": "stream",
     "text": [
      "we need to sleep to avoid reaching limit\n"
     ]
    },
    {
     "name": "stderr",
     "output_type": "stream",
     "text": [
      " 37%|███▋      | 1250/3370 [16:53<18:15,  1.93it/s]"
     ]
    },
    {
     "name": "stdout",
     "output_type": "stream",
     "text": [
      "we need to sleep to avoid reaching limit\n"
     ]
    },
    {
     "name": "stderr",
     "output_type": "stream",
     "text": [
      " 39%|███▉      | 1325/3370 [17:18<17:44,  1.92it/s]"
     ]
    },
    {
     "name": "stdout",
     "output_type": "stream",
     "text": [
      "we need to sleep to avoid reaching limit\n"
     ]
    },
    {
     "name": "stderr",
     "output_type": "stream",
     "text": [
      " 40%|████      | 1350/3370 [17:27<18:24,  1.83it/s]"
     ]
    },
    {
     "name": "stdout",
     "output_type": "stream",
     "text": [
      "we need to sleep to avoid reaching limit\n"
     ]
    },
    {
     "name": "stderr",
     "output_type": "stream",
     "text": [
      " 41%|████      | 1375/3370 [17:35<17:30,  1.90it/s]"
     ]
    },
    {
     "name": "stdout",
     "output_type": "stream",
     "text": [
      "we need to sleep to avoid reaching limit\n"
     ]
    },
    {
     "name": "stderr",
     "output_type": "stream",
     "text": [
      " 42%|████▏     | 1426/3370 [17:53<18:11,  1.78it/s]"
     ]
    },
    {
     "name": "stdout",
     "output_type": "stream",
     "text": [
      "we need to sleep to avoid reaching limit\n"
     ]
    },
    {
     "name": "stderr",
     "output_type": "stream",
     "text": [
      " 45%|████▌     | 1526/3370 [18:22<13:36,  2.26it/s]"
     ]
    },
    {
     "name": "stdout",
     "output_type": "stream",
     "text": [
      "we need to sleep to avoid reaching limit\n"
     ]
    },
    {
     "name": "stderr",
     "output_type": "stream",
     "text": [
      " 46%|████▌     | 1551/3370 [18:32<12:35,  2.41it/s]"
     ]
    },
    {
     "name": "stdout",
     "output_type": "stream",
     "text": [
      "we need to sleep to avoid reaching limit\n"
     ]
    },
    {
     "name": "stderr",
     "output_type": "stream",
     "text": [
      " 47%|████▋     | 1575/3370 [18:42<25:35,  1.17it/s]"
     ]
    },
    {
     "name": "stdout",
     "output_type": "stream",
     "text": [
      "we need to sleep to avoid reaching limit\n"
     ]
    },
    {
     "name": "stderr",
     "output_type": "stream",
     "text": [
      " 47%|████▋     | 1600/3370 [18:52<16:55,  1.74it/s]"
     ]
    },
    {
     "name": "stdout",
     "output_type": "stream",
     "text": [
      "we need to sleep to avoid reaching limit\n"
     ]
    },
    {
     "name": "stderr",
     "output_type": "stream",
     "text": [
      " 50%|████▉     | 1675/3370 [19:14<14:30,  1.95it/s]"
     ]
    },
    {
     "name": "stdout",
     "output_type": "stream",
     "text": [
      "we need to sleep to avoid reaching limit\n"
     ]
    },
    {
     "name": "stderr",
     "output_type": "stream",
     "text": [
      " 50%|█████     | 1700/3370 [19:21<13:46,  2.02it/s]"
     ]
    },
    {
     "name": "stdout",
     "output_type": "stream",
     "text": [
      "we need to sleep to avoid reaching limit\n"
     ]
    },
    {
     "name": "stderr",
     "output_type": "stream",
     "text": [
      " 52%|█████▏    | 1750/3370 [19:35<12:45,  2.12it/s]"
     ]
    },
    {
     "name": "stdout",
     "output_type": "stream",
     "text": [
      "we need to sleep to avoid reaching limit\n"
     ]
    },
    {
     "name": "stderr",
     "output_type": "stream",
     "text": [
      " 53%|█████▎    | 1776/3370 [19:45<12:23,  2.14it/s]"
     ]
    },
    {
     "name": "stdout",
     "output_type": "stream",
     "text": [
      "we need to sleep to avoid reaching limit\n"
     ]
    },
    {
     "name": "stderr",
     "output_type": "stream",
     "text": [
      " 53%|█████▎    | 1800/3370 [19:54<14:10,  1.85it/s]Rate limit reached. Sleeping for: 612\n"
     ]
    },
    {
     "name": "stdout",
     "output_type": "stream",
     "text": [
      "we need to sleep to avoid reaching limit\n"
     ]
    },
    {
     "name": "stderr",
     "output_type": "stream",
     "text": [
      " 55%|█████▍    | 1851/3370 [30:23<09:49,  2.58it/s]    "
     ]
    },
    {
     "name": "stdout",
     "output_type": "stream",
     "text": [
      "we need to sleep to avoid reaching limit\n"
     ]
    },
    {
     "name": "stderr",
     "output_type": "stream",
     "text": [
      " 56%|█████▌    | 1875/3370 [30:29<11:29,  2.17it/s]"
     ]
    },
    {
     "name": "stdout",
     "output_type": "stream",
     "text": [
      "we need to sleep to avoid reaching limit\n"
     ]
    },
    {
     "name": "stderr",
     "output_type": "stream",
     "text": [
      " 56%|█████▋    | 1900/3370 [30:37<11:37,  2.11it/s]"
     ]
    },
    {
     "name": "stdout",
     "output_type": "stream",
     "text": [
      "we need to sleep to avoid reaching limit\n"
     ]
    },
    {
     "name": "stderr",
     "output_type": "stream",
     "text": [
      " 57%|█████▋    | 1926/3370 [30:47<19:36,  1.23it/s]"
     ]
    },
    {
     "name": "stdout",
     "output_type": "stream",
     "text": [
      "we need to sleep to avoid reaching limit\n"
     ]
    },
    {
     "name": "stderr",
     "output_type": "stream",
     "text": [
      " 59%|█████▊    | 1975/3370 [30:57<10:57,  2.12it/s]"
     ]
    },
    {
     "name": "stdout",
     "output_type": "stream",
     "text": [
      "we need to sleep to avoid reaching limit\n"
     ]
    },
    {
     "name": "stderr",
     "output_type": "stream",
     "text": [
      " 59%|█████▉    | 2001/3370 [31:07<13:22,  1.71it/s]"
     ]
    },
    {
     "name": "stdout",
     "output_type": "stream",
     "text": [
      "we need to sleep to avoid reaching limit\n"
     ]
    },
    {
     "name": "stderr",
     "output_type": "stream",
     "text": [
      " 60%|██████    | 2026/3370 [31:15<18:19,  1.22it/s]"
     ]
    },
    {
     "name": "stdout",
     "output_type": "stream",
     "text": [
      "we need to sleep to avoid reaching limit\n"
     ]
    },
    {
     "name": "stderr",
     "output_type": "stream",
     "text": [
      " 61%|██████    | 2051/3370 [31:21<10:41,  2.06it/s]"
     ]
    },
    {
     "name": "stdout",
     "output_type": "stream",
     "text": [
      "we need to sleep to avoid reaching limit\n"
     ]
    },
    {
     "name": "stderr",
     "output_type": "stream",
     "text": [
      " 62%|██████▏   | 2076/3370 [31:27<08:31,  2.53it/s]"
     ]
    },
    {
     "name": "stdout",
     "output_type": "stream",
     "text": [
      "we need to sleep to avoid reaching limit\n"
     ]
    },
    {
     "name": "stderr",
     "output_type": "stream",
     "text": [
      " 64%|██████▍   | 2150/3370 [31:44<09:26,  2.15it/s]"
     ]
    },
    {
     "name": "stdout",
     "output_type": "stream",
     "text": [
      "we need to sleep to avoid reaching limit\n"
     ]
    },
    {
     "name": "stderr",
     "output_type": "stream",
     "text": [
      " 66%|██████▌   | 2226/3370 [32:07<07:13,  2.64it/s]"
     ]
    },
    {
     "name": "stdout",
     "output_type": "stream",
     "text": [
      "we need to sleep to avoid reaching limit\n"
     ]
    },
    {
     "name": "stderr",
     "output_type": "stream",
     "text": [
      " 67%|██████▋   | 2250/3370 [32:15<08:49,  2.12it/s]"
     ]
    },
    {
     "name": "stdout",
     "output_type": "stream",
     "text": [
      "we need to sleep to avoid reaching limit\n"
     ]
    },
    {
     "name": "stderr",
     "output_type": "stream",
     "text": [
      " 68%|██████▊   | 2276/3370 [32:23<06:55,  2.63it/s]"
     ]
    },
    {
     "name": "stdout",
     "output_type": "stream",
     "text": [
      "we need to sleep to avoid reaching limit\n"
     ]
    },
    {
     "name": "stderr",
     "output_type": "stream",
     "text": [
      " 68%|██████▊   | 2301/3370 [32:32<07:06,  2.51it/s]"
     ]
    },
    {
     "name": "stdout",
     "output_type": "stream",
     "text": [
      "we need to sleep to avoid reaching limit\n"
     ]
    },
    {
     "name": "stderr",
     "output_type": "stream",
     "text": [
      " 69%|██████▉   | 2325/3370 [32:40<08:24,  2.07it/s]"
     ]
    },
    {
     "name": "stdout",
     "output_type": "stream",
     "text": [
      "we need to sleep to avoid reaching limit\n"
     ]
    },
    {
     "name": "stderr",
     "output_type": "stream",
     "text": [
      " 72%|███████▏  | 2426/3370 [33:07<05:56,  2.65it/s]"
     ]
    },
    {
     "name": "stdout",
     "output_type": "stream",
     "text": [
      "we need to sleep to avoid reaching limit\n"
     ]
    },
    {
     "name": "stderr",
     "output_type": "stream",
     "text": [
      " 73%|███████▎  | 2451/3370 [33:13<05:50,  2.62it/s]"
     ]
    },
    {
     "name": "stdout",
     "output_type": "stream",
     "text": [
      "we need to sleep to avoid reaching limit\n"
     ]
    },
    {
     "name": "stderr",
     "output_type": "stream",
     "text": [
      " 73%|███████▎  | 2476/3370 [33:22<05:49,  2.55it/s]"
     ]
    },
    {
     "name": "stdout",
     "output_type": "stream",
     "text": [
      "we need to sleep to avoid reaching limit\n"
     ]
    },
    {
     "name": "stderr",
     "output_type": "stream",
     "text": [
      " 74%|███████▍  | 2500/3370 [33:28<06:53,  2.10it/s]"
     ]
    },
    {
     "name": "stdout",
     "output_type": "stream",
     "text": [
      "we need to sleep to avoid reaching limit\n"
     ]
    },
    {
     "name": "stderr",
     "output_type": "stream",
     "text": [
      " 75%|███████▍  | 2525/3370 [33:33<06:41,  2.10it/s]"
     ]
    },
    {
     "name": "stdout",
     "output_type": "stream",
     "text": [
      "we need to sleep to avoid reaching limit\n"
     ]
    },
    {
     "name": "stderr",
     "output_type": "stream",
     "text": [
      " 76%|███████▌  | 2550/3370 [33:41<06:19,  2.16it/s]"
     ]
    },
    {
     "name": "stdout",
     "output_type": "stream",
     "text": [
      "we need to sleep to avoid reaching limit\n"
     ]
    },
    {
     "name": "stderr",
     "output_type": "stream",
     "text": [
      " 76%|███████▋  | 2575/3370 [33:48<06:21,  2.08it/s]"
     ]
    },
    {
     "name": "stdout",
     "output_type": "stream",
     "text": [
      "we need to sleep to avoid reaching limit\n"
     ]
    },
    {
     "name": "stderr",
     "output_type": "stream",
     "text": [
      " 77%|███████▋  | 2600/3370 [33:56<05:58,  2.15it/s]"
     ]
    },
    {
     "name": "stdout",
     "output_type": "stream",
     "text": [
      "we need to sleep to avoid reaching limit\n"
     ]
    },
    {
     "name": "stderr",
     "output_type": "stream",
     "text": [
      " 78%|███████▊  | 2625/3370 [34:02<05:52,  2.11it/s]"
     ]
    },
    {
     "name": "stdout",
     "output_type": "stream",
     "text": [
      "we need to sleep to avoid reaching limit\n"
     ]
    },
    {
     "name": "stderr",
     "output_type": "stream",
     "text": [
      " 80%|████████  | 2700/3370 [34:25<01:52,  5.93it/s]Rate limit reached. Sleeping for: 644\n",
      " 82%|████████▏ | 2751/3370 [45:24<03:53,  2.65it/s]    "
     ]
    },
    {
     "name": "stdout",
     "output_type": "stream",
     "text": [
      "we need to sleep to avoid reaching limit\n"
     ]
    },
    {
     "name": "stderr",
     "output_type": "stream",
     "text": [
      " 83%|████████▎ | 2801/3370 [45:37<03:36,  2.63it/s]"
     ]
    },
    {
     "name": "stdout",
     "output_type": "stream",
     "text": [
      "we need to sleep to avoid reaching limit\n"
     ]
    },
    {
     "name": "stderr",
     "output_type": "stream",
     "text": [
      " 85%|████████▌ | 2876/3370 [45:56<03:18,  2.49it/s]"
     ]
    },
    {
     "name": "stdout",
     "output_type": "stream",
     "text": [
      "we need to sleep to avoid reaching limit\n"
     ]
    },
    {
     "name": "stderr",
     "output_type": "stream",
     "text": [
      " 86%|████████▌ | 2901/3370 [46:04<02:58,  2.63it/s]"
     ]
    },
    {
     "name": "stdout",
     "output_type": "stream",
     "text": [
      "we need to sleep to avoid reaching limit\n"
     ]
    },
    {
     "name": "stderr",
     "output_type": "stream",
     "text": [
      " 87%|████████▋ | 2926/3370 [46:10<02:57,  2.50it/s]"
     ]
    },
    {
     "name": "stdout",
     "output_type": "stream",
     "text": [
      "we need to sleep to avoid reaching limit\n"
     ]
    },
    {
     "name": "stderr",
     "output_type": "stream",
     "text": [
      " 88%|████████▊ | 2951/3370 [46:15<02:39,  2.63it/s]"
     ]
    },
    {
     "name": "stdout",
     "output_type": "stream",
     "text": [
      "we need to sleep to avoid reaching limit\n"
     ]
    },
    {
     "name": "stderr",
     "output_type": "stream",
     "text": [
      " 90%|████████▉ | 3026/3370 [46:35<02:14,  2.56it/s]"
     ]
    },
    {
     "name": "stdout",
     "output_type": "stream",
     "text": [
      "we need to sleep to avoid reaching limit\n"
     ]
    },
    {
     "name": "stderr",
     "output_type": "stream",
     "text": [
      " 92%|█████████▏| 3101/3370 [46:52<02:09,  2.07it/s]"
     ]
    },
    {
     "name": "stdout",
     "output_type": "stream",
     "text": [
      "we need to sleep to avoid reaching limit\n"
     ]
    },
    {
     "name": "stderr",
     "output_type": "stream",
     "text": [
      " 93%|█████████▎| 3126/3370 [47:01<02:26,  1.66it/s]"
     ]
    },
    {
     "name": "stdout",
     "output_type": "stream",
     "text": [
      "we need to sleep to avoid reaching limit\n"
     ]
    },
    {
     "name": "stderr",
     "output_type": "stream",
     "text": [
      " 94%|█████████▎| 3151/3370 [47:07<01:29,  2.45it/s]"
     ]
    },
    {
     "name": "stdout",
     "output_type": "stream",
     "text": [
      "we need to sleep to avoid reaching limit\n"
     ]
    },
    {
     "name": "stderr",
     "output_type": "stream",
     "text": [
      " 94%|█████████▍| 3176/3370 [47:15<01:21,  2.37it/s]"
     ]
    },
    {
     "name": "stdout",
     "output_type": "stream",
     "text": [
      "we need to sleep to avoid reaching limit\n"
     ]
    },
    {
     "name": "stderr",
     "output_type": "stream",
     "text": [
      " 96%|█████████▋| 3250/3370 [47:30<00:17,  6.79it/s]"
     ]
    },
    {
     "name": "stdout",
     "output_type": "stream",
     "text": [
      "we need to sleep to avoid reaching limit\n"
     ]
    },
    {
     "name": "stderr",
     "output_type": "stream",
     "text": [
      " 97%|█████████▋| 3276/3370 [47:36<00:36,  2.57it/s]"
     ]
    },
    {
     "name": "stdout",
     "output_type": "stream",
     "text": [
      "we need to sleep to avoid reaching limit\n"
     ]
    },
    {
     "name": "stderr",
     "output_type": "stream",
     "text": [
      " 98%|█████████▊| 3301/3370 [47:44<00:47,  1.45it/s]"
     ]
    },
    {
     "name": "stdout",
     "output_type": "stream",
     "text": [
      "we need to sleep to avoid reaching limit\n"
     ]
    },
    {
     "name": "stderr",
     "output_type": "stream",
     "text": [
      "100%|██████████| 3370/3370 [48:00<00:00,  1.17it/s]\n"
     ]
    }
   ],
   "source": [
    "delete = []\n",
    "text_list = []\n",
    "hashtags_list = []\n",
    "id_list = []\n",
    "location_list = []\n",
    "followers_count_list = []\n",
    "friends_count_list = []\n",
    "country_list = []\n",
    "retweet_count_list = []\n",
    "favorite_count_list = []\n",
    "flag = True\n",
    "for count, i in tqdm_enumerate(iter=df.user_id[::-1]):\n",
    "    try:\n",
    "        status = api.get_status(id=str(i))._json\n",
    "        count += 1\n",
    "    except:\n",
    "        delete.append(i)\n",
    "        continue\n",
    "    else:\n",
    "        text = status['text']\n",
    "        hashtags = status['entities']['hashtags']\n",
    "        if hashtags.__len__() == 0:\n",
    "            hashtext = np.NaN\n",
    "        else:\n",
    "            hashtext = hashtags[0]['text']\n",
    "        id = status['user']['id']\n",
    "        location = status['user']['location']\n",
    "        followers_count = status['user']['followers_count']\n",
    "        friends_count = status['user']['friends_count']\n",
    "        try:\n",
    "            country = status['place']['country']\n",
    "        except:\n",
    "            country = np.NaN\n",
    "        retweet_count = status['retweet_count']\n",
    "        favorite_count = status['favorite_count']\n",
    "        text_list.append(text)\n",
    "        hashtags_list.append(hashtext)\n",
    "        id_list.append(id)\n",
    "        location_list.append(location)\n",
    "        followers_count_list.append(followers_count)\n",
    "        friends_count_list.append(friends_count)\n",
    "        country_list.append(country)\n",
    "        retweet_count_list.append(retweet_count)\n",
    "        favorite_count_list.append(favorite_count)\n",
    "    if count % 25 == 0:\n",
    "        time.sleep(1)\n",
    "        print('we need to sleep to avoid reaching limit')\n",
    "    elif count % 100 == 0:\n",
    "        time.sleep(5)\n",
    "        print('we need to sleep more to avoid reaching limit')\n",
    "    elif count % 500 == 0:\n",
    "        df_temp = pd.DataFrame.from_records({'user_id': id_list, 'text': text_list, 'hashtag': hashtags_list, 'location': location_list, 'follower_count': followers_count_list,\n",
    "                                                'friends_count': friends_count_list, 'country': country_list, 'retweet_count': retweet_count_list, 'favorite_count': favorite_count_list})\n",
    "        df_temp.to_csv('./hate_speech_test2.csv', 'a')\n"
   ]
  },
  {
   "cell_type": "code",
   "execution_count": 14,
   "metadata": {},
   "outputs": [
    {
     "data": {
      "text/plain": [
       "3370"
      ]
     },
     "execution_count": 14,
     "metadata": {},
     "output_type": "execute_result"
    }
   ],
   "source": [
    "count"
   ]
  },
  {
   "cell_type": "code",
   "execution_count": 22,
   "metadata": {},
   "outputs": [
    {
     "data": {
      "text/plain": [
       "0"
      ]
     },
     "execution_count": 22,
     "metadata": {},
     "output_type": "execute_result"
    }
   ],
   "source": [
    "# df_clean.loc[:,'id'] = id_list\n",
    "# df_clean.loc[:,'text'] = text_list\n",
    "# df_clean.loc[:,'hashtag'] = hashtags_list\n",
    "# df_clean.loc[:,'location'] = location_list\n",
    "# df_clean.loc[:,'follower_count'] = followers_count_list\n",
    "# df_clean.loc[:,'friends_count'] = friends_count_list\n",
    "# df_clean.loc[:,'country'] = country_list\n",
    "# df_clean.loc[:,'retweet_count'] = retweet_count_list\n",
    "# df_clean.loc[:,'favorite_count'] = favorite_count_list"
   ]
  },
  {
   "cell_type": "code",
   "execution_count": 15,
   "metadata": {},
   "outputs": [
    {
     "data": {
      "text/html": [
       "<div>\n",
       "<style scoped>\n",
       "    .dataframe tbody tr th:only-of-type {\n",
       "        vertical-align: middle;\n",
       "    }\n",
       "\n",
       "    .dataframe tbody tr th {\n",
       "        vertical-align: top;\n",
       "    }\n",
       "\n",
       "    .dataframe thead th {\n",
       "        text-align: right;\n",
       "    }\n",
       "</style>\n",
       "<table border=\"1\" class=\"dataframe\">\n",
       "  <thead>\n",
       "    <tr style=\"text-align: right;\">\n",
       "      <th></th>\n",
       "      <th>user_id</th>\n",
       "      <th>label</th>\n",
       "      <th>text</th>\n",
       "    </tr>\n",
       "  </thead>\n",
       "  <tbody>\n",
       "    <tr>\n",
       "      <th>0</th>\n",
       "      <td>562874396155850752</td>\n",
       "      <td>none</td>\n",
       "      <td>RT @randi_ebooks: Twitter just switched to mon...</td>\n",
       "    </tr>\n",
       "    <tr>\n",
       "      <th>1</th>\n",
       "      <td>470393182505545728</td>\n",
       "      <td>none</td>\n",
       "      <td>Because if Elliot Rodger had killed just ONE w...</td>\n",
       "    </tr>\n",
       "    <tr>\n",
       "      <th>4</th>\n",
       "      <td>567937595390300160</td>\n",
       "      <td>none</td>\n",
       "      <td>@Grummz @rxptor @Spacekatgal @TheQuinnspiracy ...</td>\n",
       "    </tr>\n",
       "    <tr>\n",
       "      <th>8</th>\n",
       "      <td>575948706039492609</td>\n",
       "      <td>none</td>\n",
       "      <td>My face every time I hear or see Kat....hope i...</td>\n",
       "    </tr>\n",
       "    <tr>\n",
       "      <th>10</th>\n",
       "      <td>537647038649741312</td>\n",
       "      <td>none</td>\n",
       "      <td>Empathy is the social skill that informs all o...</td>\n",
       "    </tr>\n",
       "    <tr>\n",
       "      <th>...</th>\n",
       "      <td>...</td>\n",
       "      <td>...</td>\n",
       "      <td>...</td>\n",
       "    </tr>\n",
       "    <tr>\n",
       "      <th>2521</th>\n",
       "      <td>572330892972068864</td>\n",
       "      <td>none</td>\n",
       "      <td>Beans on toast for dinner tonight. Would score...</td>\n",
       "    </tr>\n",
       "    <tr>\n",
       "      <th>2522</th>\n",
       "      <td>564099641604861952</td>\n",
       "      <td>sexism</td>\n",
       "      <td>Is it lost on most #QuestionsForMen was essent...</td>\n",
       "    </tr>\n",
       "    <tr>\n",
       "      <th>2523</th>\n",
       "      <td>566067783457591297</td>\n",
       "      <td>none</td>\n",
       "      <td>Step 1: post to facebook.\\nStep 2: KiA links t...</td>\n",
       "    </tr>\n",
       "    <tr>\n",
       "      <th>2524</th>\n",
       "      <td>571499576152231936</td>\n",
       "      <td>sexism</td>\n",
       "      <td>RT @fruitondabottom: @MT8_9 Didn't you hear ab...</td>\n",
       "    </tr>\n",
       "    <tr>\n",
       "      <th>2525</th>\n",
       "      <td>575956161670873088</td>\n",
       "      <td>none</td>\n",
       "      <td>Wouldn't it nice if Annie ends up in sudden de...</td>\n",
       "    </tr>\n",
       "  </tbody>\n",
       "</table>\n",
       "<p>1533 rows × 3 columns</p>\n",
       "</div>"
      ],
      "text/plain": [
       "                 user_id   label  \\\n",
       "0     562874396155850752    none   \n",
       "1     470393182505545728    none   \n",
       "4     567937595390300160    none   \n",
       "8     575948706039492609    none   \n",
       "10    537647038649741312    none   \n",
       "...                  ...     ...   \n",
       "2521  572330892972068864    none   \n",
       "2522  564099641604861952  sexism   \n",
       "2523  566067783457591297    none   \n",
       "2524  571499576152231936  sexism   \n",
       "2525  575956161670873088    none   \n",
       "\n",
       "                                                   text  \n",
       "0     RT @randi_ebooks: Twitter just switched to mon...  \n",
       "1     Because if Elliot Rodger had killed just ONE w...  \n",
       "4     @Grummz @rxptor @Spacekatgal @TheQuinnspiracy ...  \n",
       "8     My face every time I hear or see Kat....hope i...  \n",
       "10    Empathy is the social skill that informs all o...  \n",
       "...                                                 ...  \n",
       "2521  Beans on toast for dinner tonight. Would score...  \n",
       "2522  Is it lost on most #QuestionsForMen was essent...  \n",
       "2523  Step 1: post to facebook.\\nStep 2: KiA links t...  \n",
       "2524  RT @fruitondabottom: @MT8_9 Didn't you hear ab...  \n",
       "2525  Wouldn't it nice if Annie ends up in sudden de...  \n",
       "\n",
       "[1533 rows x 3 columns]"
      ]
     },
     "execution_count": 15,
     "metadata": {},
     "output_type": "execute_result"
    }
   ],
   "source": [
    "# with open('hate_speech.csv','a') as fd:\n",
    "#     for count,i in tqdm_enumerate(iter=df.user_id):\n",
    "#         try:\n",
    "#             status = api.get_status(id=str(i))._json\n",
    "#         except:\n",
    "#             continue\n",
    "#         else:\n",
    "#             text = status['text']\n",
    "#             hashtags = status['entities']['hashtags']\n",
    "#             if hashtags.__len__()==0:\n",
    "#                 hashtext = np.NaN\n",
    "#             else:\n",
    "#                 hashtext = hashtags[0]['text']\n",
    "#             id = status['user']['id']\n",
    "#             location = status['user']['location']\n",
    "#             followers_count = status['user']['followers_count']\n",
    "#             friends_count = status['user']['friends_count']\n",
    "#             try:\n",
    "#                 country = status['place']['country']\n",
    "#             except:\n",
    "#                 country = np.NaN\n",
    "#             retweet_count = status['retweet_count']\n",
    "#             favorite_count = status['favorite_count']\n",
    "#             df_temp = pd.DataFrame.from_records()\n"
   ]
  },
  {
   "cell_type": "code",
   "execution_count": 47,
   "metadata": {},
   "outputs": [],
   "source": [
    "df_clean = df.query('user_id not in @delete').copy()\n",
    "df_clean.loc[:,'id'] = id_list\n",
    "df_clean.loc[:,'text'] = text_list\n",
    "df_clean.loc[:,'hashtag'] = hashtags_list\n",
    "df_clean.loc[:,'location'] = location_list\n",
    "df_clean.loc[:,'follower_count'] = followers_count_list\n",
    "df_clean.loc[:,'friends_count'] = friends_count_list\n",
    "df_clean.loc[:,'country'] = country_list\n",
    "df_clean.loc[:,'retweet_count'] = retweet_count_list\n",
    "df_clean.loc[:,'favorite_count'] = favorite_count_list"
   ]
  },
  {
   "cell_type": "code",
   "execution_count": 48,
   "metadata": {},
   "outputs": [
    {
     "data": {
      "text/html": [
       "<div>\n",
       "<style scoped>\n",
       "    .dataframe tbody tr th:only-of-type {\n",
       "        vertical-align: middle;\n",
       "    }\n",
       "\n",
       "    .dataframe tbody tr th {\n",
       "        vertical-align: top;\n",
       "    }\n",
       "\n",
       "    .dataframe thead th {\n",
       "        text-align: right;\n",
       "    }\n",
       "</style>\n",
       "<table border=\"1\" class=\"dataframe\">\n",
       "  <thead>\n",
       "    <tr style=\"text-align: right;\">\n",
       "      <th></th>\n",
       "      <th>user_id</th>\n",
       "      <th>label</th>\n",
       "      <th>id</th>\n",
       "      <th>text</th>\n",
       "      <th>hashtag</th>\n",
       "      <th>location</th>\n",
       "      <th>follower_count</th>\n",
       "      <th>friends_count</th>\n",
       "      <th>country</th>\n",
       "      <th>retweet_count</th>\n",
       "      <th>favorite_count</th>\n",
       "    </tr>\n",
       "  </thead>\n",
       "  <tbody>\n",
       "    <tr>\n",
       "      <th>4164</th>\n",
       "      <td>414469743911763968</td>\n",
       "      <td>sexism</td>\n",
       "      <td>930620467</td>\n",
       "      <td>RT @ZachDuffy72: I guess #Tammy is the next te...</td>\n",
       "      <td>Tammy</td>\n",
       "      <td></td>\n",
       "      <td>18807</td>\n",
       "      <td>263</td>\n",
       "      <td>NaN</td>\n",
       "      <td>1</td>\n",
       "      <td>0</td>\n",
       "    </tr>\n",
       "    <tr>\n",
       "      <th>15765</th>\n",
       "      <td>501228143609659392</td>\n",
       "      <td>none</td>\n",
       "      <td>719655337</td>\n",
       "      <td>#MKR because 5+ minute add breaks are just the...</td>\n",
       "      <td>MKR</td>\n",
       "      <td>Brisbane</td>\n",
       "      <td>134</td>\n",
       "      <td>414</td>\n",
       "      <td>NaN</td>\n",
       "      <td>1</td>\n",
       "      <td>1</td>\n",
       "    </tr>\n",
       "    <tr>\n",
       "      <th>7990</th>\n",
       "      <td>575974815749689344</td>\n",
       "      <td>none</td>\n",
       "      <td>13857342</td>\n",
       "      <td>@undergroundbby I know you're going through a ...</td>\n",
       "      <td>NaN</td>\n",
       "      <td>Seattle, WA</td>\n",
       "      <td>20161</td>\n",
       "      <td>780</td>\n",
       "      <td>NaN</td>\n",
       "      <td>0</td>\n",
       "      <td>1</td>\n",
       "    </tr>\n",
       "    <tr>\n",
       "      <th>16051</th>\n",
       "      <td>537645922461564928</td>\n",
       "      <td>none</td>\n",
       "      <td>20051851</td>\n",
       "      <td>I would have thought the sassy sisters would l...</td>\n",
       "      <td>mkr</td>\n",
       "      <td>Canberra, Australia</td>\n",
       "      <td>608</td>\n",
       "      <td>1129</td>\n",
       "      <td>NaN</td>\n",
       "      <td>0</td>\n",
       "      <td>2</td>\n",
       "    </tr>\n",
       "    <tr>\n",
       "      <th>15686</th>\n",
       "      <td>489515198198194176</td>\n",
       "      <td>none</td>\n",
       "      <td>2949949244</td>\n",
       "      <td>Deconstructed Apple pie...bwilliant #mkr</td>\n",
       "      <td>mkr</td>\n",
       "      <td>Dunwich, Queensland</td>\n",
       "      <td>68</td>\n",
       "      <td>156</td>\n",
       "      <td>NaN</td>\n",
       "      <td>0</td>\n",
       "      <td>1</td>\n",
       "    </tr>\n",
       "  </tbody>\n",
       "</table>\n",
       "</div>"
      ],
      "text/plain": [
       "                  user_id   label          id  \\\n",
       "4164   414469743911763968  sexism   930620467   \n",
       "15765  501228143609659392    none   719655337   \n",
       "7990   575974815749689344    none    13857342   \n",
       "16051  537645922461564928    none    20051851   \n",
       "15686  489515198198194176    none  2949949244   \n",
       "\n",
       "                                                    text hashtag  \\\n",
       "4164   RT @ZachDuffy72: I guess #Tammy is the next te...   Tammy   \n",
       "15765  #MKR because 5+ minute add breaks are just the...     MKR   \n",
       "7990   @undergroundbby I know you're going through a ...     NaN   \n",
       "16051  I would have thought the sassy sisters would l...     mkr   \n",
       "15686           Deconstructed Apple pie...bwilliant #mkr     mkr   \n",
       "\n",
       "                  location  follower_count  friends_count country  \\\n",
       "4164                                 18807            263     NaN   \n",
       "15765             Brisbane             134            414     NaN   \n",
       "7990           Seattle, WA           20161            780     NaN   \n",
       "16051  Canberra, Australia             608           1129     NaN   \n",
       "15686  Dunwich, Queensland              68            156     NaN   \n",
       "\n",
       "       retweet_count  favorite_count  \n",
       "4164               1               0  \n",
       "15765              1               1  \n",
       "7990               0               1  \n",
       "16051              0               2  \n",
       "15686              0               1  "
      ]
     },
     "execution_count": 48,
     "metadata": {},
     "output_type": "execute_result"
    }
   ],
   "source": [
    "df_clean.sample(n=5)"
   ]
  },
  {
   "cell_type": "code",
   "execution_count": 19,
   "metadata": {},
   "outputs": [],
   "source": [
    "df_clean.to_csv('./hate_speech2.csv')"
   ]
  },
  {
   "cell_type": "code",
   "execution_count": 23,
   "metadata": {},
   "outputs": [],
   "source": [
    "df1 = pd.read_csv('./hate_speech.csv',index_col=0)"
   ]
  },
  {
   "cell_type": "code",
   "execution_count": 50,
   "metadata": {},
   "outputs": [],
   "source": [
    "df_clean.drop(['user_id','location'],axis=1,inplace=True)"
   ]
  },
  {
   "cell_type": "code",
   "execution_count": 51,
   "metadata": {},
   "outputs": [
    {
     "data": {
      "text/html": [
       "<div>\n",
       "<style scoped>\n",
       "    .dataframe tbody tr th:only-of-type {\n",
       "        vertical-align: middle;\n",
       "    }\n",
       "\n",
       "    .dataframe tbody tr th {\n",
       "        vertical-align: top;\n",
       "    }\n",
       "\n",
       "    .dataframe thead th {\n",
       "        text-align: right;\n",
       "    }\n",
       "</style>\n",
       "<table border=\"1\" class=\"dataframe\">\n",
       "  <thead>\n",
       "    <tr style=\"text-align: right;\">\n",
       "      <th></th>\n",
       "      <th>label</th>\n",
       "      <th>id</th>\n",
       "      <th>text</th>\n",
       "      <th>hashtag</th>\n",
       "      <th>follower_count</th>\n",
       "      <th>friends_count</th>\n",
       "      <th>country</th>\n",
       "      <th>retweet_count</th>\n",
       "      <th>favorite_count</th>\n",
       "    </tr>\n",
       "  </thead>\n",
       "  <tbody>\n",
       "    <tr>\n",
       "      <th>6113</th>\n",
       "      <td>none</td>\n",
       "      <td>13857342</td>\n",
       "      <td>@GemmaNoon it's what i'm *trying* to do, at le...</td>\n",
       "      <td>NaN</td>\n",
       "      <td>20161</td>\n",
       "      <td>780</td>\n",
       "      <td>NaN</td>\n",
       "      <td>0</td>\n",
       "      <td>0</td>\n",
       "    </tr>\n",
       "    <tr>\n",
       "      <th>6387</th>\n",
       "      <td>none</td>\n",
       "      <td>13857342</td>\n",
       "      <td>Just saw this fly by on my stats display a few...</td>\n",
       "      <td>NaN</td>\n",
       "      <td>20161</td>\n",
       "      <td>780</td>\n",
       "      <td>NaN</td>\n",
       "      <td>0</td>\n",
       "      <td>4</td>\n",
       "    </tr>\n",
       "    <tr>\n",
       "      <th>3289</th>\n",
       "      <td>sexism</td>\n",
       "      <td>82522377</td>\n",
       "      <td>Sauce, capsicum and stock from a packet / jar....</td>\n",
       "      <td>Mkr</td>\n",
       "      <td>4</td>\n",
       "      <td>64</td>\n",
       "      <td>NaN</td>\n",
       "      <td>0</td>\n",
       "      <td>1</td>\n",
       "    </tr>\n",
       "    <tr>\n",
       "      <th>11426</th>\n",
       "      <td>none</td>\n",
       "      <td>13857342</td>\n",
       "      <td>I think I'm just going to play video games all...</td>\n",
       "      <td>NaN</td>\n",
       "      <td>20161</td>\n",
       "      <td>780</td>\n",
       "      <td>NaN</td>\n",
       "      <td>1</td>\n",
       "      <td>30</td>\n",
       "    </tr>\n",
       "    <tr>\n",
       "      <th>15331</th>\n",
       "      <td>none</td>\n",
       "      <td>930620467</td>\n",
       "      <td>@ThelmaSleaze We can fight against systemic pr...</td>\n",
       "      <td>NaN</td>\n",
       "      <td>18807</td>\n",
       "      <td>263</td>\n",
       "      <td>NaN</td>\n",
       "      <td>0</td>\n",
       "      <td>0</td>\n",
       "    </tr>\n",
       "    <tr>\n",
       "      <th>...</th>\n",
       "      <td>...</td>\n",
       "      <td>...</td>\n",
       "      <td>...</td>\n",
       "      <td>...</td>\n",
       "      <td>...</td>\n",
       "      <td>...</td>\n",
       "      <td>...</td>\n",
       "      <td>...</td>\n",
       "      <td>...</td>\n",
       "    </tr>\n",
       "    <tr>\n",
       "      <th>16202</th>\n",
       "      <td>none</td>\n",
       "      <td>2756873076</td>\n",
       "      <td>@LostSailorNY @AJM9588 @CFLancop So true.</td>\n",
       "      <td>NaN</td>\n",
       "      <td>1793</td>\n",
       "      <td>1858</td>\n",
       "      <td>NaN</td>\n",
       "      <td>0</td>\n",
       "      <td>1</td>\n",
       "    </tr>\n",
       "    <tr>\n",
       "      <th>10483</th>\n",
       "      <td>none</td>\n",
       "      <td>13857342</td>\n",
       "      <td>@apfergus i'm reading about it now. :)</td>\n",
       "      <td>NaN</td>\n",
       "      <td>20161</td>\n",
       "      <td>780</td>\n",
       "      <td>United States</td>\n",
       "      <td>0</td>\n",
       "      <td>0</td>\n",
       "    </tr>\n",
       "    <tr>\n",
       "      <th>2090</th>\n",
       "      <td>sexism</td>\n",
       "      <td>2756873076</td>\n",
       "      <td>.@SopranoJM  ...can't relate.  Have to be over...</td>\n",
       "      <td>NaN</td>\n",
       "      <td>1793</td>\n",
       "      <td>1858</td>\n",
       "      <td>NaN</td>\n",
       "      <td>0</td>\n",
       "      <td>1</td>\n",
       "    </tr>\n",
       "    <tr>\n",
       "      <th>10203</th>\n",
       "      <td>none</td>\n",
       "      <td>2522242938</td>\n",
       "      <td>#mkr great catwalk. 10/10</td>\n",
       "      <td>mkr</td>\n",
       "      <td>8</td>\n",
       "      <td>0</td>\n",
       "      <td>NaN</td>\n",
       "      <td>0</td>\n",
       "      <td>0</td>\n",
       "    </tr>\n",
       "    <tr>\n",
       "      <th>9764</th>\n",
       "      <td>none</td>\n",
       "      <td>46076472</td>\n",
       "      <td>I think you've been estimated enough #mkr</td>\n",
       "      <td>mkr</td>\n",
       "      <td>510</td>\n",
       "      <td>792</td>\n",
       "      <td>NaN</td>\n",
       "      <td>0</td>\n",
       "      <td>0</td>\n",
       "    </tr>\n",
       "  </tbody>\n",
       "</table>\n",
       "<p>2000 rows × 9 columns</p>\n",
       "</div>"
      ],
      "text/plain": [
       "        label          id                                               text  \\\n",
       "6113     none    13857342  @GemmaNoon it's what i'm *trying* to do, at le...   \n",
       "6387     none    13857342  Just saw this fly by on my stats display a few...   \n",
       "3289   sexism    82522377  Sauce, capsicum and stock from a packet / jar....   \n",
       "11426    none    13857342  I think I'm just going to play video games all...   \n",
       "15331    none   930620467  @ThelmaSleaze We can fight against systemic pr...   \n",
       "...       ...         ...                                                ...   \n",
       "16202    none  2756873076          @LostSailorNY @AJM9588 @CFLancop So true.   \n",
       "10483    none    13857342             @apfergus i'm reading about it now. :)   \n",
       "2090   sexism  2756873076  .@SopranoJM  ...can't relate.  Have to be over...   \n",
       "10203    none  2522242938                          #mkr great catwalk. 10/10   \n",
       "9764     none    46076472          I think you've been estimated enough #mkr   \n",
       "\n",
       "      hashtag  follower_count  friends_count        country  retweet_count  \\\n",
       "6113      NaN           20161            780            NaN              0   \n",
       "6387      NaN           20161            780            NaN              0   \n",
       "3289      Mkr               4             64            NaN              0   \n",
       "11426     NaN           20161            780            NaN              1   \n",
       "15331     NaN           18807            263            NaN              0   \n",
       "...       ...             ...            ...            ...            ...   \n",
       "16202     NaN            1793           1858            NaN              0   \n",
       "10483     NaN           20161            780  United States              0   \n",
       "2090      NaN            1793           1858            NaN              0   \n",
       "10203     mkr               8              0            NaN              0   \n",
       "9764      mkr             510            792            NaN              0   \n",
       "\n",
       "       favorite_count  \n",
       "6113                0  \n",
       "6387                4  \n",
       "3289                1  \n",
       "11426              30  \n",
       "15331               0  \n",
       "...               ...  \n",
       "16202               1  \n",
       "10483               0  \n",
       "2090                1  \n",
       "10203               0  \n",
       "9764                0  \n",
       "\n",
       "[2000 rows x 9 columns]"
      ]
     },
     "execution_count": 51,
     "metadata": {},
     "output_type": "execute_result"
    }
   ],
   "source": [
    "df_clean"
   ]
  },
  {
   "cell_type": "code",
   "execution_count": 30,
   "metadata": {},
   "outputs": [
    {
     "name": "stderr",
     "output_type": "stream",
     "text": [
      "C:\\Users\\63014\\AppData\\Local\\Temp\\ipykernel_22072\\1665766160.py:1: FutureWarning: The frame.append method is deprecated and will be removed from pandas in a future version. Use pandas.concat instead.\n",
      "  df_ = df_clean.append(df1)\n"
     ]
    }
   ],
   "source": [
    "df_ = df_clean.append(df1)"
   ]
  },
  {
   "cell_type": "code",
   "execution_count": 60,
   "metadata": {},
   "outputs": [],
   "source": [
    "df_.to_csv('./hate_speech_longer.csv')"
   ]
  },
  {
   "cell_type": "code",
   "execution_count": 59,
   "metadata": {},
   "outputs": [],
   "source": [
    "df_.drop('country',axis=1,inplace=True)\n",
    "df_.reset_index(drop=True,inplace=True)"
   ]
  },
  {
   "cell_type": "code",
   "execution_count": 62,
   "metadata": {},
   "outputs": [
    {
     "data": {
      "text/plain": [
       "array(['none', 'sexism', 'racism'], dtype=object)"
      ]
     },
     "execution_count": 62,
     "metadata": {},
     "output_type": "execute_result"
    }
   ],
   "source": [
    "df_.label.unique()"
   ]
  }
 ],
 "metadata": {
  "kernelspec": {
   "display_name": "Python 3.9.12 ('base')",
   "language": "python",
   "name": "python3"
  },
  "language_info": {
   "codemirror_mode": {
    "name": "ipython",
    "version": 3
   },
   "file_extension": ".py",
   "mimetype": "text/x-python",
   "name": "python",
   "nbconvert_exporter": "python",
   "pygments_lexer": "ipython3",
   "version": "3.9.12"
  },
  "orig_nbformat": 4,
  "vscode": {
   "interpreter": {
    "hash": "5179d32cf6ec497baf3f8a3ef987cc77c5d2dc691fdde20a56316522f61a7323"
   }
  }
 },
 "nbformat": 4,
 "nbformat_minor": 2
}
