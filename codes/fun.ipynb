{
 "cells": [
  {
   "cell_type": "markdown",
   "id": "047c761d",
   "metadata": {},
   "source": [
    "**Public Library Function**"
   ]
  },
  {
   "cell_type": "code",
   "execution_count": null,
   "id": "8a12b264",
   "metadata": {},
   "outputs": [],
   "source": [
    "from textblob import TextBlob\n",
    "import pandas as pd\n",
    "import time\n",
    "import numpy as np\n",
    "import re\n",
    "from nltk.corpus import stopwords\n",
    "from nltk.tokenize import sent_tokenize, word_tokenize\n",
    "from nltk.stem import WordNetLemmatizer"
   ]
  },
  {
   "cell_type": "code",
   "execution_count": null,
   "id": "6f3614f2",
   "metadata": {},
   "outputs": [],
   "source": [
    "def correct_sentence_spelling(sentence):  \n",
    "    sentence = TextBlob(sentence)\n",
    "    result = sentence.correct()\n",
    "    return str(result)"
   ]
  },
  {
   "cell_type": "code",
   "execution_count": null,
   "id": "0c1d1a45",
   "metadata": {},
   "outputs": [],
   "source": [
    "def pipeline(input:str):\n",
    "    input = input.lower()\n",
    "    input=re.sub(\"\\\\W\",\" \",input) # remove special chars\n",
    "    str_input = re.sub(pattern=r'[^a-zA-z]',repl=' ',string=input)\n",
    "#     str_output = correct_sentence_spelling(sentence = str_input) # it is too time-consuming\n",
    "    token_list = word_tokenize(str_input)\n",
    "    token_list = [lemmatizer.lemmatize(i) for i in token_list]\n",
    "    word_list = [word for word in token_list if word not in stopwords]\n",
    "    word_str = ' '.join(word_list)\n",
    "    return word_str"
   ]
  }
 ],
 "metadata": {
  "kernelspec": {
   "display_name": "Python 3 (ipykernel)",
   "language": "python",
   "name": "python3"
  },
  "language_info": {
   "codemirror_mode": {
    "name": "ipython",
    "version": 3
   },
   "file_extension": ".py",
   "mimetype": "text/x-python",
   "name": "python",
   "nbconvert_exporter": "python",
   "pygments_lexer": "ipython3",
   "version": "3.9.12"
  }
 },
 "nbformat": 4,
 "nbformat_minor": 5
}
