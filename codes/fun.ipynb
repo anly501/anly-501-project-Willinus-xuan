{
 "cells": [
  {
   "cell_type": "markdown",
   "id": "047c761d",
   "metadata": {},
   "source": [
    "**Public Library Function**"
   ]
  },
  {
   "cell_type": "code",
   "execution_count": null,
   "id": "8a12b264",
   "metadata": {},
   "outputs": [],
   "source": [
    "from textblob import TextBlob\n",
    "import pandas as pd\n",
    "import time\n",
    "import numpy as np\n",
    "import re\n",
    "from nltk.corpus import stopwords\n",
    "from nltk.tokenize import sent_tokenize, word_tokenize\n",
    "from nltk.stem import WordNetLemmatizer"
   ]
  },
  {
   "cell_type": "code",
   "execution_count": null,
   "id": "6f3614f2",
   "metadata": {},
   "outputs": [],
   "source": [
    "def correct_sentence_spelling(sentence):  \n",
    "    sentence = TextBlob(sentence)\n",
    "    result = sentence.correct()\n",
    "    return str(result)"
   ]
  },
  {
   "cell_type": "code",
   "execution_count": null,
   "id": "0c1d1a45",
   "metadata": {},
   "outputs": [],
   "source": [
    "def pipeline(input:str):\n",
    "    input = input.lower()\n",
    "    input=re.sub(\"\\\\W\",\" \",input) # remove special chars\n",
    "    str_input = re.sub(pattern=r'[^a-zA-z]',repl=' ',string=input)\n",
    "#     str_output = correct_sentence_spelling(sentence = str_input) # it is too time-consuming\n",
    "    token_list = word_tokenize(str_input)\n",
    "    token_list = [lemmatizer.lemmatize(i) for i in token_list]\n",
    "    word_list = [word for word in token_list if word not in stopwords]\n",
    "    word_str = ' '.join(word_list)\n",
    "    return word_str"
   ]
  },
  {
   "cell_type": "code",
   "execution_count": null,
   "id": "d6f47a83",
   "metadata": {},
   "outputs": [],
   "source": [
    "def plot_nas(trainData: pd.DataFrame):\n",
    "    if trainData.isnull().sum().sum() != 0:\n",
    "        na_df = (trainData.isnull().sum() / len(trainData)) * 100      \n",
    "        na_df = na_df.drop(na_df[na_df == 0].index).sort_values(ascending=False)\n",
    "        missing_data = pd.DataFrame({'Missing Ratio %' :na_df})\n",
    "        missing_data.plot(kind = \"barh\")\n",
    "        plt.show()\n",
    "    else:\n",
    "        print('No NAs found')"
   ]
  }
 ],
 "metadata": {
  "kernelspec": {
   "display_name": "Python 3.8.3rc1 64-bit",
   "language": "python",
   "name": "python3"
  },
  "language_info": {
   "codemirror_mode": {
    "name": "ipython",
    "version": 3
   },
   "file_extension": ".py",
   "mimetype": "text/x-python",
   "name": "python",
   "nbconvert_exporter": "python",
   "pygments_lexer": "ipython3",
   "version": "3.8.3rc1 (tags/v3.8.3rc1:802eb67, Apr 29 2020, 21:39:14) [MSC v.1924 64 bit (AMD64)]"
  },
  "vscode": {
   "interpreter": {
    "hash": "e56b1909e5772b1b4eafdcd7b36ed3f376566867b931964f3fe09830564a0656"
   }
  }
 },
 "nbformat": 4,
 "nbformat_minor": 5
}
