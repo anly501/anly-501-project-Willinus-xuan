{
 "cells": [
  {
   "cell_type": "raw",
   "metadata": {},
   "source": [
    "---\n",
    "author: \"Haoxuan(Will) Weng\"\n",
    "format: \n",
    "  html:\n",
    "    toc: true\n",
    "    code-fold: true\n",
    "    code-tools: true\n",
    "    number-sections: true\n",
    "    fig-align : center\n",
    "    fontsize : large\n",
    "    mainfont: Source Sans Pro, Helvetica Neue, Helvetica, Arial, sans-serif;\n",
    "---"
   ]
  },
  {
   "cell_type": "markdown",
   "metadata": {},
   "source": [
    "# Method\n",
    "\n",
    "A Support Vector Machine (SVM) is a supervised machine learning algorithm that can be employed for both classification and regression purposes. SVMs are more commonly used in classification problems and as such, this is what we will focus on in this post.\n",
    "\n",
    "SVMs are based on the idea of finding a hyperplane that best divides a dataset into two classes, as shown in the image below.\n",
    "\n",
    "<img src=\"https://s2.loli.net/2022/10/29/Qs9duYNAlkJLWyj.png\" >"
   ]
  },
  {
   "cell_type": "code",
   "execution_count": 1,
   "metadata": {},
   "outputs": [],
   "source": [
    "# import all the required libraries\n",
    "import pandas as pd\n",
    "import numpy as np\n",
    "import matplotlib.pyplot as plt\n",
    "import seaborn as sns\n",
    "import os\n",
    "from sklearn.metrics import confusion_matrix, ConfusionMatrixDisplay\n",
    "from sklearn.model_selection import train_test_split\n",
    "from sklearn.model_selection import GridSearchCV\n",
    "from sklearn.metrics import confusion_matrix\n",
    "from sklearn.metrics import precision_recall_fscore_support\n",
    "from sklearn.metrics import accuracy_score\n",
    "from sklearn.metrics import recall_score\n",
    "from sklearn.metrics import f1_score\n",
    "from sklearn import preprocessing\n",
    "from sklearn.metrics import precision_score\n",
    "from sklearn.svm import SVC"
   ]
  },
  {
   "cell_type": "code",
   "execution_count": 2,
   "metadata": {},
   "outputs": [
    {
     "name": "stdout",
     "output_type": "stream",
     "text": [
      "../../data/clean-twitter_en.csv\n",
      "../../data/clean_kaggle.csv\n",
      "../../data/clean_public.csv\n",
      "../../data/cyberbullying_tweets.csv\n",
      "../../data/hate_speech.csv\n",
      "../../data/labeled_tweets.csv\n",
      "../../data/NAACL_SRW_2016.csv\n",
      "../../data/public_data_labeled.csv\n",
      "../../data/twitter_en.csv\n"
     ]
    }
   ],
   "source": [
    "# walk the downloaded dataset\n",
    "for dirname, _, filenames in os.walk('../../data'):\n",
    "    for filename in filenames:\n",
    "        print(os.path.join(dirname, filename).replace('\\\\','/'))"
   ]
  },
  {
   "cell_type": "code",
   "execution_count": 3,
   "metadata": {},
   "outputs": [
    {
     "data": {
      "text/html": [
       "<div>\n",
       "<style scoped>\n",
       "    .dataframe tbody tr th:only-of-type {\n",
       "        vertical-align: middle;\n",
       "    }\n",
       "\n",
       "    .dataframe tbody tr th {\n",
       "        vertical-align: top;\n",
       "    }\n",
       "\n",
       "    .dataframe thead th {\n",
       "        text-align: right;\n",
       "    }\n",
       "</style>\n",
       "<table border=\"1\" class=\"dataframe\">\n",
       "  <thead>\n",
       "    <tr style=\"text-align: right;\">\n",
       "      <th></th>\n",
       "      <th>id</th>\n",
       "      <th>follower_count</th>\n",
       "      <th>friends_count</th>\n",
       "      <th>retweet_count</th>\n",
       "      <th>favorite_count</th>\n",
       "      <th>word_length</th>\n",
       "      <th>label</th>\n",
       "    </tr>\n",
       "  </thead>\n",
       "  <tbody>\n",
       "    <tr>\n",
       "      <th>0</th>\n",
       "      <td>13857342</td>\n",
       "      <td>20161</td>\n",
       "      <td>780</td>\n",
       "      <td>0</td>\n",
       "      <td>0</td>\n",
       "      <td>10</td>\n",
       "      <td>0</td>\n",
       "    </tr>\n",
       "    <tr>\n",
       "      <th>1</th>\n",
       "      <td>13857342</td>\n",
       "      <td>20161</td>\n",
       "      <td>780</td>\n",
       "      <td>0</td>\n",
       "      <td>4</td>\n",
       "      <td>13</td>\n",
       "      <td>0</td>\n",
       "    </tr>\n",
       "    <tr>\n",
       "      <th>2</th>\n",
       "      <td>82522377</td>\n",
       "      <td>4</td>\n",
       "      <td>64</td>\n",
       "      <td>0</td>\n",
       "      <td>1</td>\n",
       "      <td>15</td>\n",
       "      <td>1</td>\n",
       "    </tr>\n",
       "    <tr>\n",
       "      <th>3</th>\n",
       "      <td>13857342</td>\n",
       "      <td>20161</td>\n",
       "      <td>780</td>\n",
       "      <td>1</td>\n",
       "      <td>30</td>\n",
       "      <td>11</td>\n",
       "      <td>0</td>\n",
       "    </tr>\n",
       "    <tr>\n",
       "      <th>4</th>\n",
       "      <td>930620467</td>\n",
       "      <td>18807</td>\n",
       "      <td>263</td>\n",
       "      <td>0</td>\n",
       "      <td>0</td>\n",
       "      <td>11</td>\n",
       "      <td>0</td>\n",
       "    </tr>\n",
       "  </tbody>\n",
       "</table>\n",
       "</div>"
      ],
      "text/plain": [
       "          id  follower_count  friends_count  retweet_count  favorite_count  \\\n",
       "0   13857342           20161            780              0               0   \n",
       "1   13857342           20161            780              0               4   \n",
       "2   82522377               4             64              0               1   \n",
       "3   13857342           20161            780              1              30   \n",
       "4  930620467           18807            263              0               0   \n",
       "\n",
       "   word_length  label  \n",
       "0           10      0  \n",
       "1           13      0  \n",
       "2           15      1  \n",
       "3           11      0  \n",
       "4           11      0  "
      ]
     },
     "execution_count": 3,
     "metadata": {},
     "output_type": "execute_result"
    }
   ],
   "source": [
    "# read the csv file\n",
    "df = pd.read_csv('../../data/hate_speech.csv',index_col=0)\n",
    "# only use the numerical data to predict the y variable\n",
    "df = df.loc[:,['id','follower_count','friends_count','retweet_count','favorite_count','word_length','label']]\n",
    "df.head(5)\n"
   ]
  },
  {
   "cell_type": "markdown",
   "metadata": {},
   "source": [
    "# Class distribution"
   ]
  },
  {
   "cell_type": "code",
   "execution_count": 4,
   "metadata": {},
   "outputs": [
    {
     "data": {
      "text/plain": [
       "Text(0, 0.5, 'Counts')"
      ]
     },
     "execution_count": 4,
     "metadata": {},
     "output_type": "execute_result"
    },
    {
     "data": {
      "image/png": "[encoded data removed]",
      "text/plain": [
       "<Figure size 432x288 with 1 Axes>"
      ]
     },
     "metadata": {},
     "output_type": "display_data"
    }
   ],
   "source": [
    "#plot the distribution\n",
    "sns.set_theme()\n",
    "plt.hist(df.label.astype('string'))\n",
    "plt.title(\"The distribution of the class\",fontsize=18)\n",
    "plt.xlabel(\"Class\",fontsize=16)\n",
    "plt.ylabel(\"Counts\",fontsize=16)"
   ]
  },
  {
   "cell_type": "markdown",
   "metadata": {},
   "source": [
    "The counts of the two classes are imblanced. The labels are binary value.  In order to maintain the original imblanced distribution of the two classes, the dataset is not modified by means of upper-sampling, SMOTE, and other sampling methods to deal with imblanced issue."
   ]
  },
  {
   "cell_type": "markdown",
   "metadata": {},
   "source": [
    "# Baseline model for comparison"
   ]
  },
  {
   "cell_type": "code",
   "execution_count": 5,
   "metadata": {},
   "outputs": [
    {
     "name": "stdout",
     "output_type": "stream",
     "text": [
      "-----RANDOM CLASSIFIER-----\n",
      "accuracy 0.5069346164732522\n",
      "percision, recall, fscore, (array([0.7458287 , 0.25936599]), array([0.5106626 , 0.49614112]), array([0.6062387 , 0.34065102]), array([2626,  907], dtype=int64))\n"
     ]
    }
   ],
   "source": [
    "#define a baseline model which random assign labels\n",
    "def random_classifier(y_data):\n",
    "    ypred=[]\n",
    "    max_label=np.max(y_data); #print(max_label)\n",
    "    for i in range(0,len(y_data)):\n",
    "        ypred.append(int(np.floor((max_label+1)*np.random.uniform(0,1))))\n",
    "    print(\"-----RANDOM CLASSIFIER-----\")\n",
    "    print(\"accuracy\",accuracy_score(y_data, ypred))\n",
    "    print(\"percision, recall, fscore,\",precision_recall_fscore_support(y_data,ypred))\n",
    "\n",
    "random_classifier(df.label)"
   ]
  },
  {
   "cell_type": "markdown",
   "metadata": {},
   "source": [
    "The accuracy for a random classifier is around 0.5, which makes sense to the random guess. The precision score is biased considering the imbalanced data distribution."
   ]
  },
  {
   "attachments": {},
   "cell_type": "markdown",
   "metadata": {},
   "source": [
    "# Feature Engineering"
   ]
  },
  {
   "cell_type": "code",
   "execution_count": 6,
   "metadata": {},
   "outputs": [],
   "source": [
    "x = df.drop('label',axis=1)\n",
    "y = df.label\n",
    "from imblearn.over_sampling import SMOTE\n",
    "sm = SMOTE(random_state=42)\n",
    "x_smote,y_smote = sm.fit_resample(x, y)"
   ]
  },
  {
   "cell_type": "code",
   "execution_count": 8,
   "metadata": {},
   "outputs": [],
   "source": [
    "# normalize all the data\n",
    "scaler = preprocessing.StandardScaler()\n",
    "X_scaled = scaler.fit_transform(x_smote)\n",
    "# split the data into train,test data set\n",
    "X_train, X_test, y_train, y_test = train_test_split(X_scaled, y_smote, test_size=0.2, stratify = y_smote, random_state=42)"
   ]
  },
  {
   "cell_type": "markdown",
   "metadata": {},
   "source": [
    "Overall, we select 5 numerical variable to represent the record data, and further leverage it to predict the text data."
   ]
  },
  {
   "cell_type": "markdown",
   "metadata": {},
   "source": [
    "# Model Tuning\n",
    "\n",
    "SVM calculate distance, therefore by normalizing the data, we can train our model much faster.\n",
    "Besides, hyperparemeter is significant to train a sub-optimal classification model. In this case, I leverage grid search to find out the best paremeter for my svm model."
   ]
  },
  {
   "cell_type": "code",
   "execution_count": 9,
   "metadata": {},
   "outputs": [
    {
     "name": "stdout",
     "output_type": "stream",
     "text": [
      "The best hyperparametres are: {'C': 100, 'gamma': 0.9, 'kernel': 'rbf'}\n"
     ]
    },
    {
     "data": {
      "text/html": [
       "<style>#sk-container-id-1 {color: black;background-color: white;}#sk-container-id-1 pre{padding: 0;}#sk-container-id-1 div.sk-toggleable {background-color: white;}#sk-container-id-1 label.sk-toggleable__label {cursor: pointer;display: block;width: 100%;margin-bottom: 0;padding: 0.3em;box-sizing: border-box;text-align: center;}#sk-container-id-1 label.sk-toggleable__label-arrow:before {content: \"▸\";float: left;margin-right: 0.25em;color: #696969;}#sk-container-id-1 label.sk-toggleable__label-arrow:hover:before {color: black;}#sk-container-id-1 div.sk-estimator:hover label.sk-toggleable__label-arrow:before {color: black;}#sk-container-id-1 div.sk-toggleable__content {max-height: 0;max-width: 0;overflow: hidden;text-align: left;background-color: #f0f8ff;}#sk-container-id-1 div.sk-toggleable__content pre {margin: 0.2em;color: black;border-radius: 0.25em;background-color: #f0f8ff;}#sk-container-id-1 input.sk-toggleable__control:checked~div.sk-toggleable__content {max-height: 200px;max-width: 100%;overflow: auto;}#sk-container-id-1 input.sk-toggleable__control:checked~label.sk-toggleable__label-arrow:before {content: \"▾\";}#sk-container-id-1 div.sk-estimator input.sk-toggleable__control:checked~label.sk-toggleable__label {background-color: #d4ebff;}#sk-container-id-1 div.sk-label input.sk-toggleable__control:checked~label.sk-toggleable__label {background-color: #d4ebff;}#sk-container-id-1 input.sk-hidden--visually {border: 0;clip: rect(1px 1px 1px 1px);clip: rect(1px, 1px, 1px, 1px);height: 1px;margin: -1px;overflow: hidden;padding: 0;position: absolute;width: 1px;}#sk-container-id-1 div.sk-estimator {font-family: monospace;background-color: #f0f8ff;border: 1px dotted black;border-radius: 0.25em;box-sizing: border-box;margin-bottom: 0.5em;}#sk-container-id-1 div.sk-estimator:hover {background-color: #d4ebff;}#sk-container-id-1 div.sk-parallel-item::after {content: \"\";width: 100%;border-bottom: 1px solid gray;flex-grow: 1;}#sk-container-id-1 div.sk-label:hover label.sk-toggleable__label {background-color: #d4ebff;}#sk-container-id-1 div.sk-serial::before {content: \"\";position: absolute;border-left: 1px solid gray;box-sizing: border-box;top: 0;bottom: 0;left: 50%;z-index: 0;}#sk-container-id-1 div.sk-serial {display: flex;flex-direction: column;align-items: center;background-color: white;padding-right: 0.2em;padding-left: 0.2em;position: relative;}#sk-container-id-1 div.sk-item {position: relative;z-index: 1;}#sk-container-id-1 div.sk-parallel {display: flex;align-items: stretch;justify-content: center;background-color: white;position: relative;}#sk-container-id-1 div.sk-item::before, #sk-container-id-1 div.sk-parallel-item::before {content: \"\";position: absolute;border-left: 1px solid gray;box-sizing: border-box;top: 0;bottom: 0;left: 50%;z-index: -1;}#sk-container-id-1 div.sk-parallel-item {display: flex;flex-direction: column;z-index: 1;position: relative;background-color: white;}#sk-container-id-1 div.sk-parallel-item:first-child::after {align-self: flex-end;width: 50%;}#sk-container-id-1 div.sk-parallel-item:last-child::after {align-self: flex-start;width: 50%;}#sk-container-id-1 div.sk-parallel-item:only-child::after {width: 0;}#sk-container-id-1 div.sk-dashed-wrapped {border: 1px dashed gray;margin: 0 0.4em 0.5em 0.4em;box-sizing: border-box;padding-bottom: 0.4em;background-color: white;}#sk-container-id-1 div.sk-label label {font-family: monospace;font-weight: bold;display: inline-block;line-height: 1.2em;}#sk-container-id-1 div.sk-label-container {text-align: center;}#sk-container-id-1 div.sk-container {/* jupyter's `normalize.less` sets `[hidden] { display: none; }` but bootstrap.min.css set `[hidden] { display: none !important; }` so we also need the `!important` here to be able to override the default hidden behavior on the sphinx rendered scikit-learn.org. See: https://github.com/scikit-learn/scikit-learn/issues/21755 */display: inline-block !important;position: relative;}#sk-container-id-1 div.sk-text-repr-fallback {display: none;}</style><div id=\"sk-container-id-1\" class=\"sk-top-container\"><div class=\"sk-text-repr-fallback\"><pre>GridSearchCV(cv=10, estimator=SVC(),\n",
       "             param_grid=[{&#x27;C&#x27;: [1, 10, 100], &#x27;kernel&#x27;: [&#x27;linear&#x27;]},\n",
       "                         {&#x27;C&#x27;: [1, 10, 100], &#x27;gamma&#x27;: [0.1, 0.3, 0.5, 0.7, 0.9],\n",
       "                          &#x27;kernel&#x27;: [&#x27;rbf&#x27;]}],\n",
       "             scoring=&#x27;accuracy&#x27;)</pre><b>In a Jupyter environment, please rerun this cell to show the HTML representation or trust the notebook. <br />On GitHub, the HTML representation is unable to render, please try loading this page with nbviewer.org.</b></div><div class=\"sk-container\" hidden><div class=\"sk-item sk-dashed-wrapped\"><div class=\"sk-label-container\"><div class=\"sk-label sk-toggleable\"><input class=\"sk-toggleable__control sk-hidden--visually\" id=\"sk-estimator-id-1\" type=\"checkbox\" ><label for=\"sk-estimator-id-1\" class=\"sk-toggleable__label sk-toggleable__label-arrow\">GridSearchCV</label><div class=\"sk-toggleable__content\"><pre>GridSearchCV(cv=10, estimator=SVC(),\n",
       "             param_grid=[{&#x27;C&#x27;: [1, 10, 100], &#x27;kernel&#x27;: [&#x27;linear&#x27;]},\n",
       "                         {&#x27;C&#x27;: [1, 10, 100], &#x27;gamma&#x27;: [0.1, 0.3, 0.5, 0.7, 0.9],\n",
       "                          &#x27;kernel&#x27;: [&#x27;rbf&#x27;]}],\n",
       "             scoring=&#x27;accuracy&#x27;)</pre></div></div></div><div class=\"sk-parallel\"><div class=\"sk-parallel-item\"><div class=\"sk-item\"><div class=\"sk-label-container\"><div class=\"sk-label sk-toggleable\"><input class=\"sk-toggleable__control sk-hidden--visually\" id=\"sk-estimator-id-2\" type=\"checkbox\" ><label for=\"sk-estimator-id-2\" class=\"sk-toggleable__label sk-toggleable__label-arrow\">estimator: SVC</label><div class=\"sk-toggleable__content\"><pre>SVC()</pre></div></div></div><div class=\"sk-serial\"><div class=\"sk-item\"><div class=\"sk-estimator sk-toggleable\"><input class=\"sk-toggleable__control sk-hidden--visually\" id=\"sk-estimator-id-3\" type=\"checkbox\" ><label for=\"sk-estimator-id-3\" class=\"sk-toggleable__label sk-toggleable__label-arrow\">SVC</label><div class=\"sk-toggleable__content\"><pre>SVC()</pre></div></div></div></div></div></div></div></div></div></div>"
      ],
      "text/plain": [
       "GridSearchCV(cv=10, estimator=SVC(),\n",
       "             param_grid=[{'C': [1, 10, 100], 'kernel': ['linear']},\n",
       "                         {'C': [1, 10, 100], 'gamma': [0.1, 0.3, 0.5, 0.7, 0.9],\n",
       "                          'kernel': ['rbf']}],\n",
       "             scoring='accuracy')"
      ]
     },
     "execution_count": 9,
     "metadata": {},
     "output_type": "execute_result"
    }
   ],
   "source": [
    "#find the best hyperparametres with GridSearchCV library\n",
    "parameter=[\n",
    "    {\"C\":[1,10,100],\"kernel\":[\"linear\"]},\n",
    "    {\"C\":[1,10,100],\"kernel\":[\"rbf\"],\"gamma\":[0.1,.3,.5,.7,.9]}\n",
    "]\n",
    "grid_search = GridSearchCV(SVC(), param_grid=parameter, scoring=\"accuracy\",cv=10)\n",
    "grid_search=grid_search.fit(X_train, y_train)\n",
    "print(\"The best hyperparametres are:\",grid_search.best_params_)\n",
    "grid_search"
   ]
  },
  {
   "attachments": {},
   "cell_type": "markdown",
   "metadata": {},
   "source": [
    "In this part, we use “GridSearchCV” function to help us find the beset parametres so that we don’t need to write codes and make some loops manually. The result shows that **we should use rbf kernel and should set C as 100, and the gamma should be 0.9**."
   ]
  },
  {
   "cell_type": "markdown",
   "metadata": {},
   "source": [
    "# Final Result"
   ]
  },
  {
   "cell_type": "code",
   "execution_count": 10,
   "metadata": {},
   "outputs": [],
   "source": [
    "#fit the model with the best hyperparametres\n",
    "clf=SVC(C=100,kernel=\"rbf\",gamma=0.9)\n",
    "clf.fit(X_train,y_train)\n",
    "y_pre=clf.predict(X_test)"
   ]
  },
  {
   "cell_type": "code",
   "execution_count": 11,
   "metadata": {},
   "outputs": [
    {
     "name": "stdout",
     "output_type": "stream",
     "text": [
      "ACCURACY: 0.6917221693625119\n",
      "NEGATIVE RECALL (Y=0): 0.6539923954372624\n",
      "NEGATIVE PRECISION (Y=0): 0.7078189300411523\n",
      "POSITIVE RECALL (Y=1): 0.7295238095238096\n",
      "POSITIVE PRECISION (Y=1): 0.6778761061946903\n",
      "\n"
     ]
    },
    {
     "data": {
      "image/png": "[encoded data removed]",
      "text/plain": [
       "<Figure size 864x576 with 2 Axes>"
      ]
     },
     "metadata": {},
     "output_type": "display_data"
    }
   ],
   "source": [
    "fig,ax = plt.subplots(figsize=(12,8))\n",
    "mx = confusion_matrix(y_test,y_pre)\n",
    "# cmd = ConfusionMatrixDisplay(mx,display_labels=['Positive','Negative'])\n",
    "group_names = ['True Neg','False Neg','False Positive','True Positive']\n",
    "group_counts = [\"{0:0.0f}\".format(value) for value in\n",
    "                mx.flatten()]\n",
    "group_percentages = [\"{:.2%}\".format(value) for value in mx.flatten()/np.sum(mx) ]\n",
    "labels = [f\"{v1}\\n{v2}\\n{v3}\" for v1, v2, v3 in\n",
    "          zip(group_names,group_counts,group_percentages)]\n",
    "labels = np.array(labels).reshape(2,2)\n",
    "sns.heatmap(data=mx,annot=labels,fmt='',cmap='Blues',square=True,annot_kws={\"fontsize\":14})\n",
    "ax.set_title('Confusion matrix',fontsize=16)\n",
    "plt.xlabel('Actual label',fontsize=18)\n",
    "plt.ylabel('Predicted label',fontsize=16)\n",
    "ax.set_xticklabels(['Negative','Positive'],fontsize=16)\n",
    "ax.set_yticklabels(['Negative','Positive'],fontsize=16)\n",
    "plt.savefig('./confusion_matrix.png')\n",
    "print(\n",
    "        \"ACCURACY: \"+str(accuracy_score(y_test,y_pre))+\"\\n\"+\n",
    "        \"NEGATIVE RECALL (Y=0): \"+str(recall_score(y_test,y_pre,pos_label=0))+\"\\n\"+\n",
    "        \"NEGATIVE PRECISION (Y=0): \"+str(precision_score(y_test,y_pre,pos_label=0))+\"\\n\"+\n",
    "        \"POSITIVE RECALL (Y=1): \"+str(recall_score(y_test,y_pre,pos_label=1))+\"\\n\"+\n",
    "        \"POSITIVE PRECISION (Y=1): \"+str(precision_score(y_test,y_pre,pos_label=1))+\"\\n\"\n",
    "    )"
   ]
  },
  {
   "attachments": {},
   "cell_type": "markdown",
   "metadata": {},
   "source": [
    "It seems that we have used the best paremeter, the recall and precision rate for this classification model reaches 70% around, which is better than a random classifier."
   ]
  },
  {
   "cell_type": "markdown",
   "metadata": {},
   "source": [
    "# Conclusion\n",
    "\n",
    "In this tab, we leverage SVM to solve the problems. The accuracy score shows that it is higher than the model we ouput with decision tree. But overall, it should still weak than the ensemble model, using random forest, or other boosting ensemble model such as XGboost."
   ]
  }
 ],
 "metadata": {
  "kernelspec": {
   "display_name": "Python 3.9.12 ('base')",
   "language": "python",
   "name": "python3"
  },
  "language_info": {
   "codemirror_mode": {
    "name": "ipython",
    "version": 3
   },
   "file_extension": ".py",
   "mimetype": "text/x-python",
   "name": "python",
   "nbconvert_exporter": "python",
   "pygments_lexer": "ipython3",
   "version": "3.9.12"
  },
  "orig_nbformat": 4,
  "vscode": {
   "interpreter": {
    "hash": "5179d32cf6ec497baf3f8a3ef987cc77c5d2dc691fdde20a56316522f61a7323"
   }
  }
 },
 "nbformat": 4,
 "nbformat_minor": 2
}
