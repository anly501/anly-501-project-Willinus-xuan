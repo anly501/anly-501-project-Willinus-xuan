{
  "cells": [
    {
      "cell_type": "raw",
      "metadata": {},
      "source": [
        "---\n",
        "pdf-engine: lualatex\n",
        "format:\n",
        "  html:\n",
        "    toc: true\n",
        "    code-fold: true\n",
        "    toc-title: Contents\n",
        "    bibliography: references.bib\n",
        "    number-sections: true\n",
        "execute:\n",
        "  echo: false\n",
        "---"
      ]
    },
    {
      "cell_type": "markdown",
      "metadata": {},
      "source": [
        "# Introduction \n",
        "\n",
        "Here is an example of a citation [@sharma2018nickel]\n",
        "\n",
        "To render the website just run \"quarto preview\" from the command line!! \n",
        "\n",
        "(see here https://quarto.org/docs/websites/)"
      ]
    }
  ],
  "metadata": {
    "kernelspec": {
      "display_name": "Python 3.8.3rc1 64-bit",
      "language": "python",
      "name": "python3"
    },
    "language_info": {
      "codemirror_mode": {
        "name": "ipython",
        "version": 3
      },
      "file_extension": ".py",
      "mimetype": "text/x-python",
      "name": "python",
      "nbconvert_exporter": "python",
      "pygments_lexer": "ipython3",
      "version": "3.8.3"
    },
    "vscode": {
      "interpreter": {
        "hash": "e56b1909e5772b1b4eafdcd7b36ed3f376566867b931964f3fe09830564a0656"
      }
    }
  },
  "nbformat": 4,
  "nbformat_minor": 4
}
