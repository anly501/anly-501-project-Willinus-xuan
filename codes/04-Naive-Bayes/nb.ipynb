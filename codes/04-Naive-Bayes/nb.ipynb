{
 "cells": [
  {
   "cell_type": "raw",
   "metadata": {},
   "source": [
    "---\n",
    "author: \"Haoxuan(Will) Weng\"\n",
    "format: \n",
    "  html:\n",
    "    toc: true\n",
    "    code-fold: true\n",
    "    code-tools: true\n",
    "    number-sections: true\n",
    "    fig-align : center\n",
    "    fontsize : large\n",
    "    mainfont: Source Sans Pro, Helvetica Neue, Helvetica, Arial, sans-serif;\n",
    "---"
   ]
  },
  {
   "attachments": {},
   "cell_type": "markdown",
   "metadata": {},
   "source": [
    "# Introduction\n",
    "\n",
    "Naive Bayes is the most simple algorithm that you can apply to your data. As the name suggests, here this algorithm makes an assumption as all the variables in the dataset is “Naive” i.e not correlated to each other.\n",
    "\n",
    "Naive Bayes is a very popular classification algorithm that is mostly used to get the base accuracy of the dataset."
   ]
  },
  {
   "cell_type": "code",
   "execution_count": 1,
   "metadata": {},
   "outputs": [],
   "source": [
    "import seaborn as sns\n",
    "from matplotlib import pyplot as plt\n",
    "from sklearn.naive_bayes import MultinomialNB\n",
    "from sklearn.metrics import accuracy_score\n",
    "from sklearn.model_selection import train_test_split\n",
    "from imblearn.over_sampling import SMOTE\n",
    "import pandas as pd\n",
    "import numpy as np\n",
    "import os\n",
    "from sklearn.feature_extraction.text import CountVectorizer\n",
    "from sklearn.feature_extraction.text import TfidfTransformer\n",
    "from sklearn.metrics import confusion_matrix\n",
    "from sklearn.metrics import accuracy_score\n",
    "from sklearn.metrics import recall_score\n",
    "from sklearn.metrics import f1_score\n",
    "import warnings\n",
    "warnings.filterwarnings(\"ignore\", category=FutureWarning)"
   ]
  },
  {
   "cell_type": "code",
   "execution_count": 2,
   "metadata": {},
   "outputs": [
    {
     "name": "stdout",
     "output_type": "stream",
     "text": [
      "../../data/clean-twitter_en.csv\n",
      "../../data/clean_kaggle.csv\n",
      "../../data/clean_public.csv\n",
      "../../data/cyberbullying_tweets.csv\n",
      "../../data/hate_speech.csv\n",
      "../../data/labeled_tweets.csv\n",
      "../../data/NAACL_SRW_2016.csv\n",
      "../../data/public_data_labeled.csv\n",
      "../../data/twitter_en.csv\n"
     ]
    }
   ],
   "source": [
    "for dirname, _, filenames in os.walk('../../data'):\n",
    "    for filename in filenames:\n",
    "        print(os.path.join(dirname, filename).replace('\\\\','/'))"
   ]
  },
  {
   "cell_type": "code",
   "execution_count": 3,
   "metadata": {},
   "outputs": [
    {
     "data": {
      "text/html": [
       "<div>\n",
       "<style scoped>\n",
       "    .dataframe tbody tr th:only-of-type {\n",
       "        vertical-align: middle;\n",
       "    }\n",
       "\n",
       "    .dataframe tbody tr th {\n",
       "        vertical-align: top;\n",
       "    }\n",
       "\n",
       "    .dataframe thead th {\n",
       "        text-align: right;\n",
       "    }\n",
       "</style>\n",
       "<table border=\"1\" class=\"dataframe\">\n",
       "  <thead>\n",
       "    <tr style=\"text-align: right;\">\n",
       "      <th></th>\n",
       "      <th>id</th>\n",
       "      <th>follower_count</th>\n",
       "      <th>friends_count</th>\n",
       "      <th>retweet_count</th>\n",
       "      <th>favorite_count</th>\n",
       "      <th>text</th>\n",
       "      <th>word_length</th>\n",
       "      <th>label</th>\n",
       "    </tr>\n",
       "  </thead>\n",
       "  <tbody>\n",
       "    <tr>\n",
       "      <th>0</th>\n",
       "      <td>13857342</td>\n",
       "      <td>20161</td>\n",
       "      <td>780</td>\n",
       "      <td>0</td>\n",
       "      <td>0</td>\n",
       "      <td>trying least targeting specific group cause tr...</td>\n",
       "      <td>10</td>\n",
       "      <td>0</td>\n",
       "    </tr>\n",
       "    <tr>\n",
       "      <th>1</th>\n",
       "      <td>13857342</td>\n",
       "      <td>20161</td>\n",
       "      <td>780</td>\n",
       "      <td>0</td>\n",
       "      <td>4</td>\n",
       "      <td>saw fly stats display time tweetstats hashtag ...</td>\n",
       "      <td>13</td>\n",
       "      <td>0</td>\n",
       "    </tr>\n",
       "    <tr>\n",
       "      <th>2</th>\n",
       "      <td>82522377</td>\n",
       "      <td>4</td>\n",
       "      <td>64</td>\n",
       "      <td>0</td>\n",
       "      <td>1</td>\n",
       "      <td>sauce capsicum stock packet jar quality cookin...</td>\n",
       "      <td>15</td>\n",
       "      <td>1</td>\n",
       "    </tr>\n",
       "    <tr>\n",
       "      <th>3</th>\n",
       "      <td>13857342</td>\n",
       "      <td>20161</td>\n",
       "      <td>780</td>\n",
       "      <td>1</td>\n",
       "      <td>30</td>\n",
       "      <td>think going play video game day super stressfu...</td>\n",
       "      <td>11</td>\n",
       "      <td>0</td>\n",
       "    </tr>\n",
       "    <tr>\n",
       "      <th>4</th>\n",
       "      <td>930620467</td>\n",
       "      <td>18807</td>\n",
       "      <td>263</td>\n",
       "      <td>0</td>\n",
       "      <td>0</td>\n",
       "      <td>fight systemic problem time offering real tip ...</td>\n",
       "      <td>11</td>\n",
       "      <td>0</td>\n",
       "    </tr>\n",
       "  </tbody>\n",
       "</table>\n",
       "</div>"
      ],
      "text/plain": [
       "          id  follower_count  friends_count  retweet_count  favorite_count  \\\n",
       "0   13857342           20161            780              0               0   \n",
       "1   13857342           20161            780              0               4   \n",
       "2   82522377               4             64              0               1   \n",
       "3   13857342           20161            780              1              30   \n",
       "4  930620467           18807            263              0               0   \n",
       "\n",
       "                                                text  word_length  label  \n",
       "0  trying least targeting specific group cause tr...           10      0  \n",
       "1  saw fly stats display time tweetstats hashtag ...           13      0  \n",
       "2  sauce capsicum stock packet jar quality cookin...           15      1  \n",
       "3  think going play video game day super stressfu...           11      0  \n",
       "4  fight systemic problem time offering real tip ...           11      0  "
      ]
     },
     "execution_count": 3,
     "metadata": {},
     "output_type": "execute_result"
    }
   ],
   "source": [
    "df = pd.read_csv('../../data/hate_speech.csv',index_col=0)\n",
    "df = df[~df['text'].isnull()]\n",
    "df.drop_duplicates(inplace=True)\n",
    "df.shape\n",
    "# df.head()"
   ]
  },
  {
   "cell_type": "markdown",
   "metadata": {},
   "source": [
    "# Ont-hot encoding"
   ]
  },
  {
   "attachments": {},
   "cell_type": "markdown",
   "metadata": {},
   "source": [
    "We leveraged only the text data to predict the hate speech in this case. One-hot encoding and tf-idf are two popular and widely used encoding methods to transfer the words into vectors. Both methods get rid of meaning of the words orders,"
   ]
  },
  {
   "cell_type": "code",
   "execution_count": 5,
   "metadata": {},
   "outputs": [],
   "source": [
    "# transfer the raw text data into matrix\n",
    "cv = CountVectorizer(analyzer='word',min_df=0.001)\n",
    "content  = df.text\n",
    "vector = cv.fit_transform(content)\n",
    "data = vector.toarray()\n",
    "index_name = cv.get_feature_names_out()\n",
    "tfidf = TfidfTransformer()\n",
    "x_tf = tfidf.fit_transform(vector)\n",
    "from imblearn.over_sampling import SMOTE\n",
    "sm = SMOTE(random_state=42)\n",
    "x,y = sm.fit_resample(x_tf, df['label'])"
   ]
  },
  {
   "attachments": {},
   "cell_type": "markdown",
   "metadata": {},
   "source": [
    "# SMOTE algorithm"
   ]
  },
  {
   "cell_type": "code",
   "execution_count": null,
   "metadata": {},
   "outputs": [],
   "source": [
    "from imblearn.over_sampling import SMOTE\n",
    "sm = SMOTE(random_state=42)\n",
    "x,y = sm.fit_resample(x_tf, df['label'])"
   ]
  },
  {
   "cell_type": "markdown",
   "metadata": {},
   "source": [
    "# Model training"
   ]
  },
  {
   "cell_type": "code",
   "execution_count": 21,
   "metadata": {},
   "outputs": [],
   "source": [
    "# train and test\n",
    "X_train, X_test, y_train, y_test = train_test_split(x, y, test_size=0.2, stratify=y, random_state=42)\n",
    "clf = MultinomialNB()\n",
    "clf.fit(X_train,y_train)\n",
    "y_pre = clf.predict(X_test)\n",
    "accuracy_score(y_test,y_pre)"
   ]
  },
  {
   "cell_type": "markdown",
   "metadata": {},
   "source": [
    "# confusion matrix"
   ]
  },
  {
   "cell_type": "code",
   "execution_count": 23,
   "metadata": {},
   "outputs": [
    {
     "data": {
      "image/png": "[encoded data removed]",
      "text/plain": [
       "<Figure size 864x576 with 2 Axes>"
      ]
     },
     "metadata": {
      "needs_background": "light"
     },
     "output_type": "display_data"
    }
   ],
   "source": [
    "#confusion matrix\n",
    "from matplotlib.pyplot import xticks\n",
    "from sklearn.metrics import confusion_matrix\n",
    "fig,ax = plt.subplots(figsize=(12,8))\n",
    "mx = confusion_matrix(y_test,y_pre)\n",
    "# cmd = ConfusionMatrixDisplay(mx,display_labels=['Positive','Negative'])\n",
    "group_names = ['True Neg','False Neg','False Positive','True Positive']\n",
    "group_counts = [\"{0:0.0f}\".format(value) for value in\n",
    "                mx.flatten()]\n",
    "group_percentages = [\"{:.2%}\".format(value) for value in mx.flatten()/np.sum(mx) ]\n",
    "labels = [f\"{v1}\\n{v2}\\n{v3}\" for v1, v2, v3 in\n",
    "          zip(group_names,group_counts,group_percentages)]\n",
    "labels = np.array(labels).reshape(2,2)\n",
    "sns.heatmap(data=mx,annot=labels,fmt='',cmap='Blues',square=True,annot_kws={\"fontsize\":14})\n",
    "ax.set_title('Confusion matrix',fontsize=16)\n",
    "plt.xlabel('Actual label',fontsize=18)\n",
    "plt.ylabel('Predicted label',fontsize=16)\n",
    "ax.set_xticklabels(['Negative','Positive'],fontsize=16)\n",
    "ax.set_yticklabels(['Negative','Positive'],fontsize=16)\n",
    "plt.savefig('./confusion_matrix.png')"
   ]
  },
  {
   "cell_type": "markdown",
   "metadata": {},
   "source": [
    "# Learning Curve"
   ]
  },
  {
   "cell_type": "code",
   "execution_count": 29,
   "metadata": {},
   "outputs": [],
   "source": [
    "from sklearn.model_selection import learning_curve\n",
    "train_sizes=np.linspace(0.1, 1.0, 5)\n",
    "train_sizes, train_scores, test_scores,a,b = learning_curve(\n",
    "        estimator=MultinomialNB(),\n",
    "        X=X_train,\n",
    "        y=y_train,\n",
    "        scoring='accuracy',\n",
    "        cv=5,\n",
    "        n_jobs=1,\n",
    "        train_sizes=train_sizes,\n",
    "        return_times=True,\n",
    "    )\n",
    "train_scores_mean = np.mean(train_scores, axis=1)\n",
    "train_scores_std = np.std(train_scores, axis=1)\n",
    "test_scores_mean = np.mean(test_scores, axis=1)\n",
    "test_scores_std = np.std(test_scores, axis=1)\n",
    "# fit_times_mean = np.mean(fit_times, axis=1)\n",
    "# fit_times_std = np.std(fit_times, axis=1)# Plot learning curve\n",
    "# learning curve\n"
   ]
  },
  {
   "cell_type": "code",
   "execution_count": null,
   "metadata": {},
   "outputs": [],
   "source": [
    "from sklearn.model_selection import learning_curve\n",
    "fig,ax = plt.subplots(figsize=(20,8))\n",
    "\n",
    "ax.grid()\n",
    "ax.fill_between(\n",
    "    train_sizes,\n",
    "    train_scores_mean - train_scores_std,\n",
    "    train_scores_mean + train_scores_std,\n",
    "    alpha=0.1,\n",
    "    color=\"r\",\n",
    ")\n",
    "ax.fill_between(\n",
    "    train_sizes,\n",
    "    test_scores_mean - test_scores_std,\n",
    "    test_scores_mean + test_scores_std,\n",
    "    alpha=0.1,\n",
    "    color=\"g\",\n",
    ")\n",
    "ax.plot(\n",
    "    train_sizes, train_scores_mean, \"o-\", color=\"r\", label=\"Training score\"\n",
    ")\n",
    "ax.plot(\n",
    "    train_sizes, test_scores_mean, \"o-\", color=\"g\", label=\"Cross-validation score\"\n",
    ")\n",
    "FS = 14\n",
    "ax.legend(loc=\"best\",fontsize=FS)\n",
    "ax.set_title('Learning Curve(Naive Bayes)',fontsize=FS)\n",
    "ax.set_xlabel('traning_example',fontsize=FS)\n",
    "ax.set_ylabel('accuracy score',fontsize=FS)\n",
    "plt.show()"
   ]
  },
  {
   "cell_type": "markdown",
   "metadata": {},
   "source": [
    "# ROC Curve"
   ]
  },
  {
   "cell_type": "code",
   "execution_count": 31,
   "metadata": {},
   "outputs": [
    {
     "data": {
      "image/png": "[encoded data removed]",
      "text/plain": [
       "<Figure size 864x576 with 1 Axes>"
      ]
     },
     "metadata": {
      "needs_background": "light"
     },
     "output_type": "display_data"
    }
   ],
   "source": [
    "from sklearn.metrics import roc_curve, auc,roc_auc_score\n",
    "plt.figure(figsize=(12,8))\n",
    "y_pred_prob = clf.predict_proba(X_test)[::,1]\n",
    "fpr, tpr, threshold = roc_curve(y_test,y_pred_prob)\n",
    "auc = roc_auc_score(y_test, y_pred_prob)\n",
    "#create ROC curve\n",
    "plt.plot(fpr,tpr,label=\"AUC=\"+str(auc))\n",
    "plt.title('roc curve(Multinomial Naive Bayes)',fontsize=FS)\n",
    "plt.ylabel('True Positive Rate',fontsize=FS)\n",
    "plt.xlabel('False Positive Rate',fontsize=FS)\n",
    "plt.legend(loc='lower right',fontsize=FS)\n",
    "plt.show()"
   ]
  }
 ],
 "metadata": {
  "kernelspec": {
   "display_name": "Python 3.9.12 ('base')",
   "language": "python",
   "name": "python3"
  },
  "language_info": {
   "codemirror_mode": {
    "name": "ipython",
    "version": 3
   },
   "file_extension": ".py",
   "mimetype": "text/x-python",
   "name": "python",
   "nbconvert_exporter": "python",
   "pygments_lexer": "ipython3",
   "version": "3.9.12 (main, Apr  4 2022, 05:22:27) [MSC v.1916 64 bit (AMD64)]"
  },
  "orig_nbformat": 4,
  "vscode": {
   "interpreter": {
    "hash": "5179d32cf6ec497baf3f8a3ef987cc77c5d2dc691fdde20a56316522f61a7323"
   }
  }
 },
 "nbformat": 4,
 "nbformat_minor": 2
}
