{
 "cells": [
  {
   "cell_type": "code",
   "execution_count": 31,
   "id": "eb713c55",
   "metadata": {},
   "outputs": [],
   "source": [
    "import numpy as np\n",
    "import pandas as pd\n",
    "from wordcloud import WordCloud, STOPWORDS, ImageColorGenerator\n",
    "import matplotlib.pyplot as plt #to display our wordcloud\n",
    "from PIL import Image #to load our image\n",
    "import seaborn as sns"
   ]
  },
  {
   "cell_type": "code",
   "execution_count": 126,
   "id": "ff5f2ecb",
   "metadata": {},
   "outputs": [
    {
     "data": {
      "text/html": [
       "<div>\n",
       "<style scoped>\n",
       "    .dataframe tbody tr th:only-of-type {\n",
       "        vertical-align: middle;\n",
       "    }\n",
       "\n",
       "    .dataframe tbody tr th {\n",
       "        vertical-align: top;\n",
       "    }\n",
       "\n",
       "    .dataframe thead th {\n",
       "        text-align: right;\n",
       "    }\n",
       "</style>\n",
       "<table border=\"1\" class=\"dataframe\">\n",
       "  <thead>\n",
       "    <tr style=\"text-align: right;\">\n",
       "      <th></th>\n",
       "      <th>id</th>\n",
       "      <th>follower_count</th>\n",
       "      <th>friends_count</th>\n",
       "      <th>retweet_count</th>\n",
       "      <th>favorite_count</th>\n",
       "      <th>text</th>\n",
       "      <th>word_length</th>\n",
       "      <th>label</th>\n",
       "    </tr>\n",
       "  </thead>\n",
       "  <tbody>\n",
       "    <tr>\n",
       "      <th>0</th>\n",
       "      <td>13857342</td>\n",
       "      <td>20161</td>\n",
       "      <td>780</td>\n",
       "      <td>0</td>\n",
       "      <td>0</td>\n",
       "      <td>trying least targeting specific group cause tr...</td>\n",
       "      <td>10</td>\n",
       "      <td>0</td>\n",
       "    </tr>\n",
       "    <tr>\n",
       "      <th>1</th>\n",
       "      <td>13857342</td>\n",
       "      <td>20161</td>\n",
       "      <td>780</td>\n",
       "      <td>0</td>\n",
       "      <td>4</td>\n",
       "      <td>saw fly stats display time tweetstats hashtag ...</td>\n",
       "      <td>13</td>\n",
       "      <td>0</td>\n",
       "    </tr>\n",
       "    <tr>\n",
       "      <th>2</th>\n",
       "      <td>82522377</td>\n",
       "      <td>4</td>\n",
       "      <td>64</td>\n",
       "      <td>0</td>\n",
       "      <td>1</td>\n",
       "      <td>sauce capsicum stock packet jar quality cookin...</td>\n",
       "      <td>15</td>\n",
       "      <td>1</td>\n",
       "    </tr>\n",
       "    <tr>\n",
       "      <th>3</th>\n",
       "      <td>13857342</td>\n",
       "      <td>20161</td>\n",
       "      <td>780</td>\n",
       "      <td>1</td>\n",
       "      <td>30</td>\n",
       "      <td>think going play video game day super stressfu...</td>\n",
       "      <td>11</td>\n",
       "      <td>0</td>\n",
       "    </tr>\n",
       "    <tr>\n",
       "      <th>4</th>\n",
       "      <td>930620467</td>\n",
       "      <td>18807</td>\n",
       "      <td>263</td>\n",
       "      <td>0</td>\n",
       "      <td>0</td>\n",
       "      <td>fight systemic problem time offering real tip ...</td>\n",
       "      <td>11</td>\n",
       "      <td>0</td>\n",
       "    </tr>\n",
       "  </tbody>\n",
       "</table>\n",
       "</div>"
      ],
      "text/plain": [
       "          id  follower_count  friends_count  retweet_count  favorite_count  \\\n",
       "0   13857342           20161            780              0               0   \n",
       "1   13857342           20161            780              0               4   \n",
       "2   82522377               4             64              0               1   \n",
       "3   13857342           20161            780              1              30   \n",
       "4  930620467           18807            263              0               0   \n",
       "\n",
       "                                                text  word_length  label  \n",
       "0  trying least targeting specific group cause tr...           10      0  \n",
       "1  saw fly stats display time tweetstats hashtag ...           13      0  \n",
       "2  sauce capsicum stock packet jar quality cookin...           15      1  \n",
       "3  think going play video game day super stressfu...           11      0  \n",
       "4  fight systemic problem time offering real tip ...           11      0  "
      ]
     },
     "execution_count": 126,
     "metadata": {},
     "output_type": "execute_result"
    }
   ],
   "source": [
    "df = pd.read_csv('../../data/hate_speech.csv',index_col=0)\n",
    "df.head()"
   ]
  },
  {
   "cell_type": "code",
   "execution_count": 123,
   "id": "5cdd3db6",
   "metadata": {},
   "outputs": [],
   "source": [
    "df = df[~df.text.isnull()]"
   ]
  },
  {
   "cell_type": "code",
   "execution_count": 127,
   "id": "37f6b6b6",
   "metadata": {},
   "outputs": [
    {
     "data": {
      "text/plain": [
       "(3533, 8)"
      ]
     },
     "execution_count": 127,
     "metadata": {},
     "output_type": "execute_result"
    }
   ],
   "source": [
    "df.shape"
   ]
  },
  {
   "cell_type": "code",
   "execution_count": 125,
   "id": "cf2f62b6",
   "metadata": {},
   "outputs": [
    {
     "name": "stdout",
     "output_type": "stream",
     "text": [
      "No NAs found\n"
     ]
    }
   ],
   "source": [
    "def plot_nas(trainData: pd.DataFrame):\n",
    "    if trainData.isnull().sum().sum() != 0:\n",
    "        na_df = (trainData.isnull().sum() / len(trainData)) * 100      \n",
    "        na_df = na_df.drop(na_df[na_df == 0].index).sort_values(ascending=False)\n",
    "        missing_data = pd.DataFrame({'Missing Ratio %' :na_df})\n",
    "        missing_data.plot(kind = \"barh\")\n",
    "        plt.title('Missing data in Variables',fontsize=18)\n",
    "        plt.xlabel('Missing Ratio %',fontsize=16)\n",
    "        plt.ylabel('Variable',fontsize=16)\n",
    "        plt.show()\n",
    "    else:\n",
    "        print('No NAs found')\n",
    "plot_nas(df)"
   ]
  },
  {
   "cell_type": "code",
   "execution_count": 117,
   "id": "67db4991",
   "metadata": {},
   "outputs": [],
   "source": [
    "df_test = df.drop_duplicates('id')"
   ]
  },
  {
   "cell_type": "code",
   "execution_count": 118,
   "id": "b491df20",
   "metadata": {},
   "outputs": [
    {
     "data": {
      "application/vnd.plotly.v1+json": {
       "config": {
        "plotlyServerURL": "https://plot.ly"
       },
       "data": [
        {
         "histnorm": "percent",
         "marker": {
          "color": "#EB89B5"
         },
         "name": "not hate speech",
         "opacity": 0.75,
         "type": "histogram",
         "x": [
          20161,
          18807,
          299,
          861,
          1101,
          14,
          128,
          204,
          349,
          1793,
          31,
          2624,
          332,
          1604,
          189,
          120,
          3411,
          616,
          442,
          427,
          1963,
          216,
          161,
          165,
          9,
          8484,
          301,
          510,
          278,
          24891,
          78,
          38,
          1852,
          107,
          273,
          35,
          203,
          219,
          320,
          1174,
          492,
          33,
          5610,
          9384,
          671,
          1211,
          162,
          454,
          113,
          244,
          57,
          19,
          2605,
          176,
          10939,
          278,
          190,
          140,
          1,
          4642,
          7144,
          110,
          698,
          162,
          1139,
          23,
          137,
          3,
          612,
          33,
          322,
          2,
          49,
          1156,
          25,
          27,
          1171,
          757,
          1772,
          174,
          146,
          393,
          61634,
          115,
          508,
          33,
          739,
          303,
          468,
          491,
          2206,
          59,
          104,
          1874,
          39,
          566,
          677,
          308,
          313,
          233,
          30,
          1199,
          2839,
          19,
          80,
          3,
          864,
          1065,
          931,
          169,
          40,
          1014,
          134,
          255,
          904,
          981,
          30,
          99,
          22,
          421,
          517,
          243,
          6925,
          87,
          467,
          13,
          3364,
          152,
          1410,
          302959,
          144,
          96,
          645,
          216,
          636,
          62,
          325,
          313,
          655,
          1632,
          667,
          1222,
          1954,
          2654,
          2422,
          133,
          190,
          371586,
          178,
          813,
          619,
          704,
          12,
          2,
          7,
          207,
          671,
          100,
          55,
          3,
          1577,
          661,
          185,
          4908,
          278,
          227,
          18,
          790,
          6,
          99,
          581,
          8,
          25,
          58,
          324,
          207,
          695,
          139,
          27,
          31,
          886,
          22,
          2107,
          66112,
          157,
          38,
          350,
          530,
          436,
          3,
          1012,
          350,
          3375,
          60,
          3,
          552,
          305,
          110,
          105,
          30,
          25,
          1179,
          1818,
          176,
          20,
          48,
          98,
          55,
          4,
          685,
          4112,
          50,
          228,
          88,
          23104,
          34,
          3,
          542,
          1227,
          179,
          304,
          1697,
          294,
          21,
          100,
          878,
          153,
          435,
          683,
          15,
          219,
          79,
          140,
          480,
          663,
          390,
          259,
          113,
          5,
          18,
          119,
          90,
          1350,
          1397,
          81,
          839,
          1216,
          676,
          141,
          23,
          1241,
          123,
          68,
          858,
          286,
          338,
          78,
          205,
          296,
          24,
          14,
          12,
          154,
          696,
          31,
          435,
          177,
          26,
          837,
          71,
          341,
          371,
          6,
          58,
          104,
          159,
          505,
          3164,
          67,
          360,
          16,
          60,
          630,
          588,
          943,
          282,
          72,
          608,
          1527,
          4,
          269,
          308,
          560,
          225,
          468,
          318,
          315,
          22201,
          24,
          32,
          113,
          890,
          79,
          3044,
          130,
          100,
          269,
          209,
          37,
          643,
          61,
          1861,
          4358,
          333,
          479,
          197,
          1087,
          906,
          2681,
          77,
          45,
          14,
          159,
          197,
          86,
          479,
          327,
          444,
          34,
          8,
          172,
          730,
          36,
          6,
          856,
          650,
          376,
          54,
          3,
          4716,
          30,
          4,
          123,
          498,
          27,
          1455,
          47,
          2410,
          430,
          474,
          425,
          2900,
          498,
          298,
          5,
          255,
          54,
          181,
          0,
          31,
          1110,
          75,
          2536,
          6,
          234,
          13137,
          106,
          154,
          480,
          9,
          1778,
          85,
          13,
          1416,
          512,
          4692,
          150,
          1214,
          11,
          0,
          237,
          14,
          78,
          634,
          49,
          1783,
          32,
          1056,
          113,
          4739,
          2322,
          3,
          6168,
          299,
          212,
          853,
          24,
          701,
          3311,
          58,
          1117,
          710,
          114,
          9,
          7,
          31847,
          150,
          1612,
          110,
          14335,
          103,
          82,
          348,
          1264,
          407,
          1062,
          33,
          63,
          122,
          54,
          1244,
          420,
          27,
          1104,
          39,
          546,
          987,
          477,
          335,
          45,
          552,
          3,
          246,
          1443,
          13,
          715,
          36662,
          202,
          162,
          34,
          2432,
          1563,
          1176,
          30,
          931,
          41,
          141,
          4,
          517,
          92,
          395,
          1551,
          171,
          3,
          208,
          4038,
          182,
          4,
          46,
          32,
          329,
          18,
          209,
          35,
          425,
          3,
          220,
          23,
          109,
          367,
          1580,
          124,
          541,
          829,
          230,
          2,
          824,
          411,
          68,
          1153,
          54,
          6,
          1562,
          2121,
          143,
          275,
          717,
          59,
          88,
          5560,
          73,
          236,
          2696,
          799,
          107,
          23,
          287
         ]
        },
        {
         "histnorm": "percent",
         "marker": {
          "color": "#330C73"
         },
         "name": "hate speech",
         "opacity": 0.75,
         "type": "histogram",
         "x": [
          4,
          147,
          68,
          198,
          472,
          117,
          46727,
          0,
          560,
          776,
          4,
          12,
          16,
          97,
          27,
          12853,
          99,
          23,
          89,
          2269,
          1122,
          1556,
          12,
          9482,
          229,
          877,
          253,
          66,
          82,
          75,
          59,
          33,
          1660,
          29,
          18,
          29069,
          1002,
          20,
          2008,
          1286,
          564,
          200,
          475,
          3203,
          392,
          632,
          952,
          248,
          1181,
          32,
          7,
          4,
          2,
          501,
          399,
          1198,
          97,
          301,
          590,
          105,
          423,
          160,
          12,
          1506,
          143,
          9,
          292,
          172,
          831,
          1321,
          2256,
          1,
          40,
          16,
          44,
          324,
          135,
          1171,
          484,
          20,
          218,
          1128,
          101,
          525,
          80,
          40,
          374,
          869,
          259,
          25,
          1077,
          602,
          286,
          14,
          95,
          477,
          381,
          5,
          42,
          4519,
          527,
          1974,
          875,
          77,
          330,
          22577,
          20,
          24,
          3285,
          3163,
          62,
          467,
          379,
          254,
          15,
          305,
          361,
          135,
          4,
          9,
          519,
          15,
          100,
          19,
          204,
          310,
          11,
          96,
          215,
          1840,
          6,
          36,
          1908,
          202,
          651,
          29,
          16,
          976,
          510,
          680,
          161,
          22,
          12,
          65
         ]
        }
       ],
       "layout": {
        "bargap": 0.2,
        "bargroupgap": 0.1,
        "template": {
         "data": {
          "bar": [
           {
            "error_x": {
             "color": "#2a3f5f"
            },
            "error_y": {
             "color": "#2a3f5f"
            },
            "marker": {
             "line": {
              "color": "#E5ECF6",
              "width": 0.5
             },
             "pattern": {
              "fillmode": "overlay",
              "size": 10,
              "solidity": 0.2
             }
            },
            "type": "bar"
           }
          ],
          "barpolar": [
           {
            "marker": {
             "line": {
              "color": "#E5ECF6",
              "width": 0.5
             },
             "pattern": {
              "fillmode": "overlay",
              "size": 10,
              "solidity": 0.2
             }
            },
            "type": "barpolar"
           }
          ],
          "carpet": [
           {
            "aaxis": {
             "endlinecolor": "#2a3f5f",
             "gridcolor": "white",
             "linecolor": "white",
             "minorgridcolor": "white",
             "startlinecolor": "#2a3f5f"
            },
            "baxis": {
             "endlinecolor": "#2a3f5f",
             "gridcolor": "white",
             "linecolor": "white",
             "minorgridcolor": "white",
             "startlinecolor": "#2a3f5f"
            },
            "type": "carpet"
           }
          ],
          "choropleth": [
           {
            "colorbar": {
             "outlinewidth": 0,
             "ticks": ""
            },
            "type": "choropleth"
           }
          ],
          "contour": [
           {
            "colorbar": {
             "outlinewidth": 0,
             "ticks": ""
            },
            "colorscale": [
             [
              0,
              "#0d0887"
             ],
             [
              0.1111111111111111,
              "#46039f"
             ],
             [
              0.2222222222222222,
              "#7201a8"
             ],
             [
              0.3333333333333333,
              "#9c179e"
             ],
             [
              0.4444444444444444,
              "#bd3786"
             ],
             [
              0.5555555555555556,
              "#d8576b"
             ],
             [
              0.6666666666666666,
              "#ed7953"
             ],
             [
              0.7777777777777778,
              "#fb9f3a"
             ],
             [
              0.8888888888888888,
              "#fdca26"
             ],
             [
              1,
              "#f0f921"
             ]
            ],
            "type": "contour"
           }
          ],
          "contourcarpet": [
           {
            "colorbar": {
             "outlinewidth": 0,
             "ticks": ""
            },
            "type": "contourcarpet"
           }
          ],
          "heatmap": [
           {
            "colorbar": {
             "outlinewidth": 0,
             "ticks": ""
            },
            "colorscale": [
             [
              0,
              "#0d0887"
             ],
             [
              0.1111111111111111,
              "#46039f"
             ],
             [
              0.2222222222222222,
              "#7201a8"
             ],
             [
              0.3333333333333333,
              "#9c179e"
             ],
             [
              0.4444444444444444,
              "#bd3786"
             ],
             [
              0.5555555555555556,
              "#d8576b"
             ],
             [
              0.6666666666666666,
              "#ed7953"
             ],
             [
              0.7777777777777778,
              "#fb9f3a"
             ],
             [
              0.8888888888888888,
              "#fdca26"
             ],
             [
              1,
              "#f0f921"
             ]
            ],
            "type": "heatmap"
           }
          ],
          "heatmapgl": [
           {
            "colorbar": {
             "outlinewidth": 0,
             "ticks": ""
            },
            "colorscale": [
             [
              0,
              "#0d0887"
             ],
             [
              0.1111111111111111,
              "#46039f"
             ],
             [
              0.2222222222222222,
              "#7201a8"
             ],
             [
              0.3333333333333333,
              "#9c179e"
             ],
             [
              0.4444444444444444,
              "#bd3786"
             ],
             [
              0.5555555555555556,
              "#d8576b"
             ],
             [
              0.6666666666666666,
              "#ed7953"
             ],
             [
              0.7777777777777778,
              "#fb9f3a"
             ],
             [
              0.8888888888888888,
              "#fdca26"
             ],
             [
              1,
              "#f0f921"
             ]
            ],
            "type": "heatmapgl"
           }
          ],
          "histogram": [
           {
            "marker": {
             "pattern": {
              "fillmode": "overlay",
              "size": 10,
              "solidity": 0.2
             }
            },
            "type": "histogram"
           }
          ],
          "histogram2d": [
           {
            "colorbar": {
             "outlinewidth": 0,
             "ticks": ""
            },
            "colorscale": [
             [
              0,
              "#0d0887"
             ],
             [
              0.1111111111111111,
              "#46039f"
             ],
             [
              0.2222222222222222,
              "#7201a8"
             ],
             [
              0.3333333333333333,
              "#9c179e"
             ],
             [
              0.4444444444444444,
              "#bd3786"
             ],
             [
              0.5555555555555556,
              "#d8576b"
             ],
             [
              0.6666666666666666,
              "#ed7953"
             ],
             [
              0.7777777777777778,
              "#fb9f3a"
             ],
             [
              0.8888888888888888,
              "#fdca26"
             ],
             [
              1,
              "#f0f921"
             ]
            ],
            "type": "histogram2d"
           }
          ],
          "histogram2dcontour": [
           {
            "colorbar": {
             "outlinewidth": 0,
             "ticks": ""
            },
            "colorscale": [
             [
              0,
              "#0d0887"
             ],
             [
              0.1111111111111111,
              "#46039f"
             ],
             [
              0.2222222222222222,
              "#7201a8"
             ],
             [
              0.3333333333333333,
              "#9c179e"
             ],
             [
              0.4444444444444444,
              "#bd3786"
             ],
             [
              0.5555555555555556,
              "#d8576b"
             ],
             [
              0.6666666666666666,
              "#ed7953"
             ],
             [
              0.7777777777777778,
              "#fb9f3a"
             ],
             [
              0.8888888888888888,
              "#fdca26"
             ],
             [
              1,
              "#f0f921"
             ]
            ],
            "type": "histogram2dcontour"
           }
          ],
          "mesh3d": [
           {
            "colorbar": {
             "outlinewidth": 0,
             "ticks": ""
            },
            "type": "mesh3d"
           }
          ],
          "parcoords": [
           {
            "line": {
             "colorbar": {
              "outlinewidth": 0,
              "ticks": ""
             }
            },
            "type": "parcoords"
           }
          ],
          "pie": [
           {
            "automargin": true,
            "type": "pie"
           }
          ],
          "scatter": [
           {
            "marker": {
             "colorbar": {
              "outlinewidth": 0,
              "ticks": ""
             }
            },
            "type": "scatter"
           }
          ],
          "scatter3d": [
           {
            "line": {
             "colorbar": {
              "outlinewidth": 0,
              "ticks": ""
             }
            },
            "marker": {
             "colorbar": {
              "outlinewidth": 0,
              "ticks": ""
             }
            },
            "type": "scatter3d"
           }
          ],
          "scattercarpet": [
           {
            "marker": {
             "colorbar": {
              "outlinewidth": 0,
              "ticks": ""
             }
            },
            "type": "scattercarpet"
           }
          ],
          "scattergeo": [
           {
            "marker": {
             "colorbar": {
              "outlinewidth": 0,
              "ticks": ""
             }
            },
            "type": "scattergeo"
           }
          ],
          "scattergl": [
           {
            "marker": {
             "colorbar": {
              "outlinewidth": 0,
              "ticks": ""
             }
            },
            "type": "scattergl"
           }
          ],
          "scattermapbox": [
           {
            "marker": {
             "colorbar": {
              "outlinewidth": 0,
              "ticks": ""
             }
            },
            "type": "scattermapbox"
           }
          ],
          "scatterpolar": [
           {
            "marker": {
             "colorbar": {
              "outlinewidth": 0,
              "ticks": ""
             }
            },
            "type": "scatterpolar"
           }
          ],
          "scatterpolargl": [
           {
            "marker": {
             "colorbar": {
              "outlinewidth": 0,
              "ticks": ""
             }
            },
            "type": "scatterpolargl"
           }
          ],
          "scatterternary": [
           {
            "marker": {
             "colorbar": {
              "outlinewidth": 0,
              "ticks": ""
             }
            },
            "type": "scatterternary"
           }
          ],
          "surface": [
           {
            "colorbar": {
             "outlinewidth": 0,
             "ticks": ""
            },
            "colorscale": [
             [
              0,
              "#0d0887"
             ],
             [
              0.1111111111111111,
              "#46039f"
             ],
             [
              0.2222222222222222,
              "#7201a8"
             ],
             [
              0.3333333333333333,
              "#9c179e"
             ],
             [
              0.4444444444444444,
              "#bd3786"
             ],
             [
              0.5555555555555556,
              "#d8576b"
             ],
             [
              0.6666666666666666,
              "#ed7953"
             ],
             [
              0.7777777777777778,
              "#fb9f3a"
             ],
             [
              0.8888888888888888,
              "#fdca26"
             ],
             [
              1,
              "#f0f921"
             ]
            ],
            "type": "surface"
           }
          ],
          "table": [
           {
            "cells": {
             "fill": {
              "color": "#EBF0F8"
             },
             "line": {
              "color": "white"
             }
            },
            "header": {
             "fill": {
              "color": "#C8D4E3"
             },
             "line": {
              "color": "white"
             }
            },
            "type": "table"
           }
          ]
         },
         "layout": {
          "annotationdefaults": {
           "arrowcolor": "#2a3f5f",
           "arrowhead": 0,
           "arrowwidth": 1
          },
          "autotypenumbers": "strict",
          "coloraxis": {
           "colorbar": {
            "outlinewidth": 0,
            "ticks": ""
           }
          },
          "colorscale": {
           "diverging": [
            [
             0,
             "#8e0152"
            ],
            [
             0.1,
             "#c51b7d"
            ],
            [
             0.2,
             "#de77ae"
            ],
            [
             0.3,
             "#f1b6da"
            ],
            [
             0.4,
             "#fde0ef"
            ],
            [
             0.5,
             "#f7f7f7"
            ],
            [
             0.6,
             "#e6f5d0"
            ],
            [
             0.7,
             "#b8e186"
            ],
            [
             0.8,
             "#7fbc41"
            ],
            [
             0.9,
             "#4d9221"
            ],
            [
             1,
             "#276419"
            ]
           ],
           "sequential": [
            [
             0,
             "#0d0887"
            ],
            [
             0.1111111111111111,
             "#46039f"
            ],
            [
             0.2222222222222222,
             "#7201a8"
            ],
            [
             0.3333333333333333,
             "#9c179e"
            ],
            [
             0.4444444444444444,
             "#bd3786"
            ],
            [
             0.5555555555555556,
             "#d8576b"
            ],
            [
             0.6666666666666666,
             "#ed7953"
            ],
            [
             0.7777777777777778,
             "#fb9f3a"
            ],
            [
             0.8888888888888888,
             "#fdca26"
            ],
            [
             1,
             "#f0f921"
            ]
           ],
           "sequentialminus": [
            [
             0,
             "#0d0887"
            ],
            [
             0.1111111111111111,
             "#46039f"
            ],
            [
             0.2222222222222222,
             "#7201a8"
            ],
            [
             0.3333333333333333,
             "#9c179e"
            ],
            [
             0.4444444444444444,
             "#bd3786"
            ],
            [
             0.5555555555555556,
             "#d8576b"
            ],
            [
             0.6666666666666666,
             "#ed7953"
            ],
            [
             0.7777777777777778,
             "#fb9f3a"
            ],
            [
             0.8888888888888888,
             "#fdca26"
            ],
            [
             1,
             "#f0f921"
            ]
           ]
          },
          "colorway": [
           "#636efa",
           "#EF553B",
           "#00cc96",
           "#ab63fa",
           "#FFA15A",
           "#19d3f3",
           "#FF6692",
           "#B6E880",
           "#FF97FF",
           "#FECB52"
          ],
          "font": {
           "color": "#2a3f5f"
          },
          "geo": {
           "bgcolor": "white",
           "lakecolor": "white",
           "landcolor": "#E5ECF6",
           "showlakes": true,
           "showland": true,
           "subunitcolor": "white"
          },
          "hoverlabel": {
           "align": "left"
          },
          "hovermode": "closest",
          "mapbox": {
           "style": "light"
          },
          "paper_bgcolor": "white",
          "plot_bgcolor": "#E5ECF6",
          "polar": {
           "angularaxis": {
            "gridcolor": "white",
            "linecolor": "white",
            "ticks": ""
           },
           "bgcolor": "#E5ECF6",
           "radialaxis": {
            "gridcolor": "white",
            "linecolor": "white",
            "ticks": ""
           }
          },
          "scene": {
           "xaxis": {
            "backgroundcolor": "#E5ECF6",
            "gridcolor": "white",
            "gridwidth": 2,
            "linecolor": "white",
            "showbackground": true,
            "ticks": "",
            "zerolinecolor": "white"
           },
           "yaxis": {
            "backgroundcolor": "#E5ECF6",
            "gridcolor": "white",
            "gridwidth": 2,
            "linecolor": "white",
            "showbackground": true,
            "ticks": "",
            "zerolinecolor": "white"
           },
           "zaxis": {
            "backgroundcolor": "#E5ECF6",
            "gridcolor": "white",
            "gridwidth": 2,
            "linecolor": "white",
            "showbackground": true,
            "ticks": "",
            "zerolinecolor": "white"
           }
          },
          "shapedefaults": {
           "line": {
            "color": "#2a3f5f"
           }
          },
          "ternary": {
           "aaxis": {
            "gridcolor": "white",
            "linecolor": "white",
            "ticks": ""
           },
           "baxis": {
            "gridcolor": "white",
            "linecolor": "white",
            "ticks": ""
           },
           "bgcolor": "#E5ECF6",
           "caxis": {
            "gridcolor": "white",
            "linecolor": "white",
            "ticks": ""
           }
          },
          "title": {
           "x": 0.05
          },
          "xaxis": {
           "automargin": true,
           "gridcolor": "white",
           "linecolor": "white",
           "ticks": "",
           "title": {
            "standoff": 15
           },
           "zerolinecolor": "white",
           "zerolinewidth": 2
          },
          "yaxis": {
           "automargin": true,
           "gridcolor": "white",
           "linecolor": "white",
           "ticks": "",
           "title": {
            "standoff": 15
           },
           "zerolinecolor": "white",
           "zerolinewidth": 2
          }
         }
        },
        "title": {
         "text": "The distribution of numbers of followers per label ",
         "x": 0.5,
         "xanchor": "center",
         "y": 0.9,
         "yanchor": "top"
        },
        "xaxis": {
         "range": [
          0,
          20000
         ],
         "title": {
          "text": "follower Numbers"
         }
        },
        "yaxis": {
         "title": {
          "text": "Percentage"
         }
        }
       }
      }
     },
     "metadata": {},
     "output_type": "display_data"
    }
   ],
   "source": [
    "import plotly.graph_objects as go\n",
    "\n",
    "import numpy as np\n",
    "x0 = df_test[df_test.loc[:,'label']==0]['follower_count']\n",
    "x1 = df_test[df_test.loc[:,'label']==1]['follower_count']\n",
    "\n",
    "fig = go.Figure()\n",
    "fig.add_trace(go.Histogram(\n",
    "    x=x0,\n",
    "    histnorm='percent',\n",
    "    name='not hate speech', # name used in legend and hover labels\n",
    "    # xbins=dict( # bins used for histogram\n",
    "    #     start=-4.0,\n",
    "    #     end=3.0,\n",
    "    #     size=0.5\n",
    "    # ),\n",
    "    marker_color='#EB89B5',\n",
    "    opacity=0.75\n",
    "))\n",
    "\n",
    "fig.add_trace(go.Histogram(\n",
    "    x=x1,\n",
    "    histnorm='percent',\n",
    "    name='hate speech',\n",
    "    # xbins=dict(\n",
    "    #     start=-3.0,\n",
    "    #     end=4,\n",
    "    #     size=0.5\n",
    "    # ),\n",
    "    marker_color='#330C73',\n",
    "    opacity=0.75\n",
    "))\n",
    "\n",
    "fig.update_layout(\n",
    "    title={\n",
    "        'text': \"The distribution of numbers of followers per label \",\n",
    "        'y':0.9,\n",
    "        'x':0.5,\n",
    "        'xanchor': 'center',\n",
    "        'yanchor': 'top'},\n",
    "    xaxis_title_text='follower Numbers', # xaxis label\n",
    "    yaxis_title_text='Percentage', # yaxis label\n",
    "    bargap=0.2, # gap between bars of adjacent location coordinates\n",
    "    bargroupgap=0.1, # gap between bars of the same location coordinates\n",
    "    xaxis_range=[0,20000]\n",
    ")\n",
    "fig.write_html(\"./file.html\")\n",
    "fig.show()"
   ]
  },
  {
   "cell_type": "code",
   "execution_count": 120,
   "id": "cd294b6d",
   "metadata": {
    "scrolled": true
   },
   "outputs": [
    {
     "data": {
      "application/vnd.plotly.v1+json": {
       "config": {
        "plotlyServerURL": "https://plot.ly"
       },
       "data": [
        {
         "histnorm": "percent",
         "marker": {
          "color": "#EB89B5"
         },
         "name": "not hate speech",
         "opacity": 0.75,
         "type": "histogram",
         "x": [
          780,
          263,
          988,
          322,
          650,
          0,
          462,
          347,
          343,
          1858,
          310,
          1034,
          460,
          1374,
          261,
          992,
          2200,
          181,
          470,
          822,
          2641,
          575,
          327,
          414,
          145,
          8196,
          230,
          792,
          113,
          624,
          880,
          123,
          4911,
          167,
          635,
          351,
          728,
          703,
          422,
          1705,
          1534,
          163,
          2668,
          2183,
          711,
          2594,
          478,
          1787,
          256,
          330,
          182,
          61,
          2461,
          803,
          1416,
          558,
          334,
          335,
          18,
          1493,
          7468,
          164,
          1268,
          455,
          1470,
          46,
          297,
          68,
          1863,
          31,
          342,
          5,
          286,
          2031,
          27,
          90,
          818,
          1582,
          4458,
          1439,
          79,
          207,
          15839,
          409,
          1927,
          321,
          940,
          246,
          501,
          382,
          2208,
          39,
          322,
          1093,
          109,
          684,
          1361,
          87,
          147,
          416,
          44,
          200,
          434,
          278,
          72,
          33,
          346,
          1393,
          908,
          485,
          497,
          1428,
          414,
          849,
          1197,
          394,
          149,
          484,
          84,
          286,
          7,
          643,
          3619,
          147,
          1645,
          80,
          2464,
          695,
          46,
          475,
          201,
          139,
          1605,
          425,
          514,
          380,
          739,
          997,
          1727,
          934,
          599,
          1439,
          1825,
          1589,
          1255,
          370,
          560,
          134,
          946,
          1551,
          4946,
          1203,
          117,
          7,
          41,
          814,
          822,
          904,
          842,
          20,
          1731,
          1438,
          429,
          5165,
          1832,
          570,
          13,
          1155,
          45,
          125,
          727,
          0,
          220,
          166,
          448,
          507,
          3735,
          513,
          53,
          128,
          836,
          105,
          2796,
          1812,
          729,
          79,
          554,
          174,
          1328,
          50,
          817,
          196,
          682,
          146,
          28,
          1760,
          475,
          620,
          54,
          110,
          71,
          607,
          2965,
          291,
          103,
          125,
          78,
          697,
          0,
          1041,
          1591,
          169,
          298,
          394,
          3323,
          115,
          86,
          550,
          843,
          116,
          721,
          1108,
          1352,
          324,
          398,
          2210,
          149,
          417,
          181,
          67,
          342,
          47,
          128,
          276,
          1248,
          528,
          866,
          114,
          0,
          124,
          135,
          97,
          897,
          928,
          436,
          1547,
          43,
          799,
          81,
          184,
          2866,
          242,
          156,
          1878,
          281,
          535,
          419,
          536,
          534,
          0,
          224,
          29,
          402,
          1216,
          433,
          46,
          0,
          661,
          3252,
          114,
          740,
          1485,
          37,
          249,
          234,
          545,
          260,
          2673,
          373,
          34,
          175,
          0,
          1518,
          639,
          135,
          324,
          392,
          1129,
          905,
          14,
          666,
          317,
          911,
          761,
          77,
          833,
          323,
          964,
          108,
          147,
          217,
          978,
          366,
          915,
          0,
          263,
          232,
          117,
          18,
          804,
          167,
          1320,
          1603,
          140,
          710,
          772,
          1715,
          753,
          189,
          400,
          279,
          43,
          233,
          255,
          452,
          972,
          798,
          636,
          85,
          0,
          1466,
          2842,
          11,
          43,
          634,
          579,
          911,
          109,
          60,
          4061,
          107,
          40,
          430,
          486,
          17,
          3261,
          35,
          2897,
          592,
          1402,
          421,
          2388,
          374,
          1102,
          0,
          870,
          421,
          136,
          2,
          147,
          943,
          705,
          2544,
          39,
          315,
          6716,
          363,
          252,
          1231,
          0,
          221,
          578,
          8,
          1019,
          884,
          3759,
          349,
          506,
          18,
          7,
          318,
          50,
          182,
          1031,
          15,
          2073,
          132,
          1270,
          0,
          2846,
          1059,
          10,
          4973,
          439,
          0,
          925,
          111,
          54,
          4244,
          1022,
          1118,
          1187,
          567,
          49,
          60,
          40861,
          349,
          2035,
          337,
          439,
          422,
          198,
          1169,
          536,
          748,
          727,
          95,
          213,
          291,
          146,
          0,
          145,
          80,
          942,
          135,
          869,
          1200,
          598,
          631,
          138,
          98,
          0,
          258,
          1755,
          194,
          2699,
          5141,
          126,
          621,
          178,
          3323,
          229,
          502,
          201,
          1975,
          120,
          0,
          9,
          519,
          390,
          751,
          1058,
          321,
          9,
          155,
          1626,
          199,
          81,
          145,
          158,
          904,
          136,
          163,
          353,
          392,
          0,
          148,
          181,
          98,
          308,
          1907,
          445,
          110,
          270,
          1676,
          46,
          602,
          401,
          126,
          701,
          315,
          28,
          1461,
          1285,
          148,
          1164,
          1507,
          63,
          0,
          58,
          622,
          1558,
          2912,
          3767,
          1526,
          33,
          615
         ]
        },
        {
         "histnorm": "percent",
         "marker": {
          "color": "#330C73"
         },
         "name": "hate speech",
         "opacity": 0.75,
         "type": "histogram",
         "x": [
          64,
          367,
          353,
          155,
          2363,
          69,
          215,
          0,
          1398,
          740,
          10,
          27,
          88,
          0,
          175,
          12125,
          265,
          105,
          230,
          2123,
          755,
          993,
          15,
          746,
          588,
          380,
          197,
          8,
          59,
          442,
          190,
          183,
          1639,
          424,
          109,
          241,
          1005,
          92,
          1809,
          951,
          1280,
          869,
          0,
          671,
          776,
          1715,
          1336,
          243,
          1228,
          115,
          121,
          11,
          0,
          48,
          1690,
          560,
          258,
          474,
          480,
          256,
          624,
          261,
          61,
          2847,
          235,
          165,
          657,
          278,
          824,
          1208,
          1739,
          8,
          57,
          127,
          80,
          629,
          144,
          217,
          823,
          218,
          87,
          4156,
          121,
          572,
          498,
          68,
          1155,
          788,
          686,
          177,
          1085,
          1007,
          1292,
          141,
          227,
          9,
          708,
          72,
          137,
          700,
          585,
          2450,
          1289,
          111,
          81,
          3953,
          70,
          51,
          2316,
          2595,
          209,
          937,
          731,
          842,
          45,
          425,
          881,
          121,
          4,
          65,
          215,
          145,
          331,
          202,
          1123,
          1509,
          66,
          237,
          607,
          2494,
          79,
          134,
          3825,
          1289,
          957,
          88,
          20,
          2418,
          843,
          752,
          560,
          86,
          0,
          110
         ]
        }
       ],
       "layout": {
        "bargap": 0.2,
        "bargroupgap": 0.1,
        "template": {
         "data": {
          "bar": [
           {
            "error_x": {
             "color": "#2a3f5f"
            },
            "error_y": {
             "color": "#2a3f5f"
            },
            "marker": {
             "line": {
              "color": "#E5ECF6",
              "width": 0.5
             },
             "pattern": {
              "fillmode": "overlay",
              "size": 10,
              "solidity": 0.2
             }
            },
            "type": "bar"
           }
          ],
          "barpolar": [
           {
            "marker": {
             "line": {
              "color": "#E5ECF6",
              "width": 0.5
             },
             "pattern": {
              "fillmode": "overlay",
              "size": 10,
              "solidity": 0.2
             }
            },
            "type": "barpolar"
           }
          ],
          "carpet": [
           {
            "aaxis": {
             "endlinecolor": "#2a3f5f",
             "gridcolor": "white",
             "linecolor": "white",
             "minorgridcolor": "white",
             "startlinecolor": "#2a3f5f"
            },
            "baxis": {
             "endlinecolor": "#2a3f5f",
             "gridcolor": "white",
             "linecolor": "white",
             "minorgridcolor": "white",
             "startlinecolor": "#2a3f5f"
            },
            "type": "carpet"
           }
          ],
          "choropleth": [
           {
            "colorbar": {
             "outlinewidth": 0,
             "ticks": ""
            },
            "type": "choropleth"
           }
          ],
          "contour": [
           {
            "colorbar": {
             "outlinewidth": 0,
             "ticks": ""
            },
            "colorscale": [
             [
              0,
              "#0d0887"
             ],
             [
              0.1111111111111111,
              "#46039f"
             ],
             [
              0.2222222222222222,
              "#7201a8"
             ],
             [
              0.3333333333333333,
              "#9c179e"
             ],
             [
              0.4444444444444444,
              "#bd3786"
             ],
             [
              0.5555555555555556,
              "#d8576b"
             ],
             [
              0.6666666666666666,
              "#ed7953"
             ],
             [
              0.7777777777777778,
              "#fb9f3a"
             ],
             [
              0.8888888888888888,
              "#fdca26"
             ],
             [
              1,
              "#f0f921"
             ]
            ],
            "type": "contour"
           }
          ],
          "contourcarpet": [
           {
            "colorbar": {
             "outlinewidth": 0,
             "ticks": ""
            },
            "type": "contourcarpet"
           }
          ],
          "heatmap": [
           {
            "colorbar": {
             "outlinewidth": 0,
             "ticks": ""
            },
            "colorscale": [
             [
              0,
              "#0d0887"
             ],
             [
              0.1111111111111111,
              "#46039f"
             ],
             [
              0.2222222222222222,
              "#7201a8"
             ],
             [
              0.3333333333333333,
              "#9c179e"
             ],
             [
              0.4444444444444444,
              "#bd3786"
             ],
             [
              0.5555555555555556,
              "#d8576b"
             ],
             [
              0.6666666666666666,
              "#ed7953"
             ],
             [
              0.7777777777777778,
              "#fb9f3a"
             ],
             [
              0.8888888888888888,
              "#fdca26"
             ],
             [
              1,
              "#f0f921"
             ]
            ],
            "type": "heatmap"
           }
          ],
          "heatmapgl": [
           {
            "colorbar": {
             "outlinewidth": 0,
             "ticks": ""
            },
            "colorscale": [
             [
              0,
              "#0d0887"
             ],
             [
              0.1111111111111111,
              "#46039f"
             ],
             [
              0.2222222222222222,
              "#7201a8"
             ],
             [
              0.3333333333333333,
              "#9c179e"
             ],
             [
              0.4444444444444444,
              "#bd3786"
             ],
             [
              0.5555555555555556,
              "#d8576b"
             ],
             [
              0.6666666666666666,
              "#ed7953"
             ],
             [
              0.7777777777777778,
              "#fb9f3a"
             ],
             [
              0.8888888888888888,
              "#fdca26"
             ],
             [
              1,
              "#f0f921"
             ]
            ],
            "type": "heatmapgl"
           }
          ],
          "histogram": [
           {
            "marker": {
             "pattern": {
              "fillmode": "overlay",
              "size": 10,
              "solidity": 0.2
             }
            },
            "type": "histogram"
           }
          ],
          "histogram2d": [
           {
            "colorbar": {
             "outlinewidth": 0,
             "ticks": ""
            },
            "colorscale": [
             [
              0,
              "#0d0887"
             ],
             [
              0.1111111111111111,
              "#46039f"
             ],
             [
              0.2222222222222222,
              "#7201a8"
             ],
             [
              0.3333333333333333,
              "#9c179e"
             ],
             [
              0.4444444444444444,
              "#bd3786"
             ],
             [
              0.5555555555555556,
              "#d8576b"
             ],
             [
              0.6666666666666666,
              "#ed7953"
             ],
             [
              0.7777777777777778,
              "#fb9f3a"
             ],
             [
              0.8888888888888888,
              "#fdca26"
             ],
             [
              1,
              "#f0f921"
             ]
            ],
            "type": "histogram2d"
           }
          ],
          "histogram2dcontour": [
           {
            "colorbar": {
             "outlinewidth": 0,
             "ticks": ""
            },
            "colorscale": [
             [
              0,
              "#0d0887"
             ],
             [
              0.1111111111111111,
              "#46039f"
             ],
             [
              0.2222222222222222,
              "#7201a8"
             ],
             [
              0.3333333333333333,
              "#9c179e"
             ],
             [
              0.4444444444444444,
              "#bd3786"
             ],
             [
              0.5555555555555556,
              "#d8576b"
             ],
             [
              0.6666666666666666,
              "#ed7953"
             ],
             [
              0.7777777777777778,
              "#fb9f3a"
             ],
             [
              0.8888888888888888,
              "#fdca26"
             ],
             [
              1,
              "#f0f921"
             ]
            ],
            "type": "histogram2dcontour"
           }
          ],
          "mesh3d": [
           {
            "colorbar": {
             "outlinewidth": 0,
             "ticks": ""
            },
            "type": "mesh3d"
           }
          ],
          "parcoords": [
           {
            "line": {
             "colorbar": {
              "outlinewidth": 0,
              "ticks": ""
             }
            },
            "type": "parcoords"
           }
          ],
          "pie": [
           {
            "automargin": true,
            "type": "pie"
           }
          ],
          "scatter": [
           {
            "marker": {
             "colorbar": {
              "outlinewidth": 0,
              "ticks": ""
             }
            },
            "type": "scatter"
           }
          ],
          "scatter3d": [
           {
            "line": {
             "colorbar": {
              "outlinewidth": 0,
              "ticks": ""
             }
            },
            "marker": {
             "colorbar": {
              "outlinewidth": 0,
              "ticks": ""
             }
            },
            "type": "scatter3d"
           }
          ],
          "scattercarpet": [
           {
            "marker": {
             "colorbar": {
              "outlinewidth": 0,
              "ticks": ""
             }
            },
            "type": "scattercarpet"
           }
          ],
          "scattergeo": [
           {
            "marker": {
             "colorbar": {
              "outlinewidth": 0,
              "ticks": ""
             }
            },
            "type": "scattergeo"
           }
          ],
          "scattergl": [
           {
            "marker": {
             "colorbar": {
              "outlinewidth": 0,
              "ticks": ""
             }
            },
            "type": "scattergl"
           }
          ],
          "scattermapbox": [
           {
            "marker": {
             "colorbar": {
              "outlinewidth": 0,
              "ticks": ""
             }
            },
            "type": "scattermapbox"
           }
          ],
          "scatterpolar": [
           {
            "marker": {
             "colorbar": {
              "outlinewidth": 0,
              "ticks": ""
             }
            },
            "type": "scatterpolar"
           }
          ],
          "scatterpolargl": [
           {
            "marker": {
             "colorbar": {
              "outlinewidth": 0,
              "ticks": ""
             }
            },
            "type": "scatterpolargl"
           }
          ],
          "scatterternary": [
           {
            "marker": {
             "colorbar": {
              "outlinewidth": 0,
              "ticks": ""
             }
            },
            "type": "scatterternary"
           }
          ],
          "surface": [
           {
            "colorbar": {
             "outlinewidth": 0,
             "ticks": ""
            },
            "colorscale": [
             [
              0,
              "#0d0887"
             ],
             [
              0.1111111111111111,
              "#46039f"
             ],
             [
              0.2222222222222222,
              "#7201a8"
             ],
             [
              0.3333333333333333,
              "#9c179e"
             ],
             [
              0.4444444444444444,
              "#bd3786"
             ],
             [
              0.5555555555555556,
              "#d8576b"
             ],
             [
              0.6666666666666666,
              "#ed7953"
             ],
             [
              0.7777777777777778,
              "#fb9f3a"
             ],
             [
              0.8888888888888888,
              "#fdca26"
             ],
             [
              1,
              "#f0f921"
             ]
            ],
            "type": "surface"
           }
          ],
          "table": [
           {
            "cells": {
             "fill": {
              "color": "#EBF0F8"
             },
             "line": {
              "color": "white"
             }
            },
            "header": {
             "fill": {
              "color": "#C8D4E3"
             },
             "line": {
              "color": "white"
             }
            },
            "type": "table"
           }
          ]
         },
         "layout": {
          "annotationdefaults": {
           "arrowcolor": "#2a3f5f",
           "arrowhead": 0,
           "arrowwidth": 1
          },
          "autotypenumbers": "strict",
          "coloraxis": {
           "colorbar": {
            "outlinewidth": 0,
            "ticks": ""
           }
          },
          "colorscale": {
           "diverging": [
            [
             0,
             "#8e0152"
            ],
            [
             0.1,
             "#c51b7d"
            ],
            [
             0.2,
             "#de77ae"
            ],
            [
             0.3,
             "#f1b6da"
            ],
            [
             0.4,
             "#fde0ef"
            ],
            [
             0.5,
             "#f7f7f7"
            ],
            [
             0.6,
             "#e6f5d0"
            ],
            [
             0.7,
             "#b8e186"
            ],
            [
             0.8,
             "#7fbc41"
            ],
            [
             0.9,
             "#4d9221"
            ],
            [
             1,
             "#276419"
            ]
           ],
           "sequential": [
            [
             0,
             "#0d0887"
            ],
            [
             0.1111111111111111,
             "#46039f"
            ],
            [
             0.2222222222222222,
             "#7201a8"
            ],
            [
             0.3333333333333333,
             "#9c179e"
            ],
            [
             0.4444444444444444,
             "#bd3786"
            ],
            [
             0.5555555555555556,
             "#d8576b"
            ],
            [
             0.6666666666666666,
             "#ed7953"
            ],
            [
             0.7777777777777778,
             "#fb9f3a"
            ],
            [
             0.8888888888888888,
             "#fdca26"
            ],
            [
             1,
             "#f0f921"
            ]
           ],
           "sequentialminus": [
            [
             0,
             "#0d0887"
            ],
            [
             0.1111111111111111,
             "#46039f"
            ],
            [
             0.2222222222222222,
             "#7201a8"
            ],
            [
             0.3333333333333333,
             "#9c179e"
            ],
            [
             0.4444444444444444,
             "#bd3786"
            ],
            [
             0.5555555555555556,
             "#d8576b"
            ],
            [
             0.6666666666666666,
             "#ed7953"
            ],
            [
             0.7777777777777778,
             "#fb9f3a"
            ],
            [
             0.8888888888888888,
             "#fdca26"
            ],
            [
             1,
             "#f0f921"
            ]
           ]
          },
          "colorway": [
           "#636efa",
           "#EF553B",
           "#00cc96",
           "#ab63fa",
           "#FFA15A",
           "#19d3f3",
           "#FF6692",
           "#B6E880",
           "#FF97FF",
           "#FECB52"
          ],
          "font": {
           "color": "#2a3f5f"
          },
          "geo": {
           "bgcolor": "white",
           "lakecolor": "white",
           "landcolor": "#E5ECF6",
           "showlakes": true,
           "showland": true,
           "subunitcolor": "white"
          },
          "hoverlabel": {
           "align": "left"
          },
          "hovermode": "closest",
          "mapbox": {
           "style": "light"
          },
          "paper_bgcolor": "white",
          "plot_bgcolor": "#E5ECF6",
          "polar": {
           "angularaxis": {
            "gridcolor": "white",
            "linecolor": "white",
            "ticks": ""
           },
           "bgcolor": "#E5ECF6",
           "radialaxis": {
            "gridcolor": "white",
            "linecolor": "white",
            "ticks": ""
           }
          },
          "scene": {
           "xaxis": {
            "backgroundcolor": "#E5ECF6",
            "gridcolor": "white",
            "gridwidth": 2,
            "linecolor": "white",
            "showbackground": true,
            "ticks": "",
            "zerolinecolor": "white"
           },
           "yaxis": {
            "backgroundcolor": "#E5ECF6",
            "gridcolor": "white",
            "gridwidth": 2,
            "linecolor": "white",
            "showbackground": true,
            "ticks": "",
            "zerolinecolor": "white"
           },
           "zaxis": {
            "backgroundcolor": "#E5ECF6",
            "gridcolor": "white",
            "gridwidth": 2,
            "linecolor": "white",
            "showbackground": true,
            "ticks": "",
            "zerolinecolor": "white"
           }
          },
          "shapedefaults": {
           "line": {
            "color": "#2a3f5f"
           }
          },
          "ternary": {
           "aaxis": {
            "gridcolor": "white",
            "linecolor": "white",
            "ticks": ""
           },
           "baxis": {
            "gridcolor": "white",
            "linecolor": "white",
            "ticks": ""
           },
           "bgcolor": "#E5ECF6",
           "caxis": {
            "gridcolor": "white",
            "linecolor": "white",
            "ticks": ""
           }
          },
          "title": {
           "x": 0.05
          },
          "xaxis": {
           "automargin": true,
           "gridcolor": "white",
           "linecolor": "white",
           "ticks": "",
           "title": {
            "standoff": 15
           },
           "zerolinecolor": "white",
           "zerolinewidth": 2
          },
          "yaxis": {
           "automargin": true,
           "gridcolor": "white",
           "linecolor": "white",
           "ticks": "",
           "title": {
            "standoff": 15
           },
           "zerolinecolor": "white",
           "zerolinewidth": 2
          }
         }
        },
        "title": {
         "text": "The distribution of numbers of friends per account",
         "x": 0.5,
         "xanchor": "center",
         "y": 0.9,
         "yanchor": "top"
        },
        "xaxis": {
         "range": [
          0,
          5000
         ],
         "title": {
          "text": "Friends Count"
         }
        },
        "yaxis": {
         "title": {
          "text": "Percentage"
         }
        }
       }
      }
     },
     "metadata": {},
     "output_type": "display_data"
    }
   ],
   "source": [
    "import plotly.graph_objects as go\n",
    "\n",
    "import numpy as np\n",
    "x0 = df_test[df_test.loc[:,'label']==0]['friends_count']\n",
    "x1 = df_test[df_test.loc[:,'label']==1]['friends_count']\n",
    "\n",
    "fig = go.Figure()\n",
    "fig.add_trace(go.Histogram(\n",
    "    x=x0,\n",
    "    histnorm='percent',\n",
    "    name='not hate speech', # name used in legend and hover labels\n",
    "    # xbins=dict( # bins used for histogram\n",
    "    #     start=-4.0,\n",
    "    #     end=3.0,\n",
    "    #     size=0.5\n",
    "    # ),\n",
    "    marker_color='#EB89B5',\n",
    "    opacity=0.75\n",
    "))\n",
    "\n",
    "fig.add_trace(go.Histogram(\n",
    "    x=x1,\n",
    "    histnorm='percent',\n",
    "    name='hate speech',\n",
    "    # xbins=dict(\n",
    "    #     start=-3.0,\n",
    "    #     end=4,\n",
    "    #     size=0.5\n",
    "    # ),\n",
    "    marker_color='#330C73',\n",
    "    opacity=0.75\n",
    "))\n",
    "\n",
    "fig.update_layout(\n",
    "    title={\n",
    "        'text': \"The distribution of numbers of friends per account\",\n",
    "        'y':0.9,\n",
    "        'x':0.5,\n",
    "        'xanchor': 'center',\n",
    "        'yanchor': 'top'},\n",
    "    xaxis_title_text='Friends Count', # xaxis label\n",
    "    yaxis_title_text='Percentage', # yaxis label\n",
    "    bargap=0.2, # gap between bars of adjacent location coordinates\n",
    "    bargroupgap=0.1, # gap between bars of the same location coordinates\n",
    "    xaxis_range=[0,5000]\n",
    ")\n",
    "fig.show()"
   ]
  },
  {
   "cell_type": "code",
   "execution_count": 84,
   "id": "8608f422",
   "metadata": {},
   "outputs": [
    {
     "data": {
      "text/plain": [
       "<AxesSubplot:>"
      ]
     },
     "execution_count": 84,
     "metadata": {},
     "output_type": "execute_result"
    },
    {
     "data": {
      "image/png": "[encoded data removed]",
      "text/plain": [
       "<Figure size 432x288 with 2 Axes>"
      ]
     },
     "metadata": {
      "needs_background": "light"
     },
     "output_type": "display_data"
    }
   ],
   "source": [
    "mx = df[['follower_count','friends_count','retweet_count','favorite_count','word_length']].corr()\n",
    "sns.heatmap(mx,cmap='crest')"
   ]
  },
  {
   "cell_type": "markdown",
   "id": "9b90b5f2",
   "metadata": {},
   "source": [
    "we can see that 1th percentile equales to 3th percentile of this dataset, which means that the data on the right side of the line in the plot are all outliers. This is the case for both the likes distribution and retweet distribution"
   ]
  },
  {
   "cell_type": "code",
   "execution_count": 92,
   "id": "22704d0b",
   "metadata": {},
   "outputs": [
    {
     "data": {
      "text/html": [
       "<div>\n",
       "<style scoped>\n",
       "    .dataframe tbody tr th:only-of-type {\n",
       "        vertical-align: middle;\n",
       "    }\n",
       "\n",
       "    .dataframe tbody tr th {\n",
       "        vertical-align: top;\n",
       "    }\n",
       "\n",
       "    .dataframe thead th {\n",
       "        text-align: right;\n",
       "    }\n",
       "</style>\n",
       "<table border=\"1\" class=\"dataframe\">\n",
       "  <thead>\n",
       "    <tr style=\"text-align: right;\">\n",
       "      <th></th>\n",
       "      <th>id</th>\n",
       "      <th>follower_count</th>\n",
       "      <th>friends_count</th>\n",
       "      <th>retweet_count</th>\n",
       "      <th>favorite_count</th>\n",
       "      <th>text</th>\n",
       "      <th>word_length</th>\n",
       "      <th>label</th>\n",
       "    </tr>\n",
       "  </thead>\n",
       "  <tbody>\n",
       "    <tr>\n",
       "      <th>0</th>\n",
       "      <td>13857342</td>\n",
       "      <td>20161</td>\n",
       "      <td>780</td>\n",
       "      <td>0</td>\n",
       "      <td>0</td>\n",
       "      <td>trying least targeting specific group cause tr...</td>\n",
       "      <td>10</td>\n",
       "      <td>0</td>\n",
       "    </tr>\n",
       "    <tr>\n",
       "      <th>1</th>\n",
       "      <td>13857342</td>\n",
       "      <td>20161</td>\n",
       "      <td>780</td>\n",
       "      <td>0</td>\n",
       "      <td>4</td>\n",
       "      <td>saw fly stats display time tweetstats hashtag ...</td>\n",
       "      <td>13</td>\n",
       "      <td>0</td>\n",
       "    </tr>\n",
       "    <tr>\n",
       "      <th>2</th>\n",
       "      <td>82522377</td>\n",
       "      <td>4</td>\n",
       "      <td>64</td>\n",
       "      <td>0</td>\n",
       "      <td>1</td>\n",
       "      <td>sauce capsicum stock packet jar quality cookin...</td>\n",
       "      <td>15</td>\n",
       "      <td>1</td>\n",
       "    </tr>\n",
       "    <tr>\n",
       "      <th>3</th>\n",
       "      <td>13857342</td>\n",
       "      <td>20161</td>\n",
       "      <td>780</td>\n",
       "      <td>1</td>\n",
       "      <td>30</td>\n",
       "      <td>think going play video game day super stressfu...</td>\n",
       "      <td>11</td>\n",
       "      <td>0</td>\n",
       "    </tr>\n",
       "    <tr>\n",
       "      <th>4</th>\n",
       "      <td>930620467</td>\n",
       "      <td>18807</td>\n",
       "      <td>263</td>\n",
       "      <td>0</td>\n",
       "      <td>0</td>\n",
       "      <td>fight systemic problem time offering real tip ...</td>\n",
       "      <td>11</td>\n",
       "      <td>0</td>\n",
       "    </tr>\n",
       "    <tr>\n",
       "      <th>...</th>\n",
       "      <td>...</td>\n",
       "      <td>...</td>\n",
       "      <td>...</td>\n",
       "      <td>...</td>\n",
       "      <td>...</td>\n",
       "      <td>...</td>\n",
       "      <td>...</td>\n",
       "      <td>...</td>\n",
       "    </tr>\n",
       "    <tr>\n",
       "      <th>3528</th>\n",
       "      <td>14861476</td>\n",
       "      <td>415</td>\n",
       "      <td>830</td>\n",
       "      <td>0</td>\n",
       "      <td>1</td>\n",
       "      <td>bean toast dinner tonight would score higher t...</td>\n",
       "      <td>12</td>\n",
       "      <td>0</td>\n",
       "    </tr>\n",
       "    <tr>\n",
       "      <th>3529</th>\n",
       "      <td>2756873076</td>\n",
       "      <td>1796</td>\n",
       "      <td>1857</td>\n",
       "      <td>1</td>\n",
       "      <td>3</td>\n",
       "      <td>lost questionsformen wa essentially ford way e...</td>\n",
       "      <td>10</td>\n",
       "      <td>1</td>\n",
       "    </tr>\n",
       "    <tr>\n",
       "      <th>3530</th>\n",
       "      <td>13857342</td>\n",
       "      <td>19172</td>\n",
       "      <td>797</td>\n",
       "      <td>5</td>\n",
       "      <td>5</td>\n",
       "      <td>step post facebook step kia link step get dog ...</td>\n",
       "      <td>15</td>\n",
       "      <td>0</td>\n",
       "    </tr>\n",
       "    <tr>\n",
       "      <th>3531</th>\n",
       "      <td>2756873076</td>\n",
       "      <td>1796</td>\n",
       "      <td>1857</td>\n",
       "      <td>1</td>\n",
       "      <td>0</td>\n",
       "      <td>rt hear abhorrent display sexism good wife tragic</td>\n",
       "      <td>8</td>\n",
       "      <td>1</td>\n",
       "    </tr>\n",
       "    <tr>\n",
       "      <th>3532</th>\n",
       "      <td>49477936</td>\n",
       "      <td>1886</td>\n",
       "      <td>1106</td>\n",
       "      <td>0</td>\n",
       "      <td>5</td>\n",
       "      <td>would nice annie end sudden death kat mkr</td>\n",
       "      <td>8</td>\n",
       "      <td>0</td>\n",
       "    </tr>\n",
       "  </tbody>\n",
       "</table>\n",
       "<p>3485 rows × 8 columns</p>\n",
       "</div>"
      ],
      "text/plain": [
       "              id  follower_count  friends_count  retweet_count  \\\n",
       "0       13857342           20161            780              0   \n",
       "1       13857342           20161            780              0   \n",
       "2       82522377               4             64              0   \n",
       "3       13857342           20161            780              1   \n",
       "4      930620467           18807            263              0   \n",
       "...          ...             ...            ...            ...   \n",
       "3528    14861476             415            830              0   \n",
       "3529  2756873076            1796           1857              1   \n",
       "3530    13857342           19172            797              5   \n",
       "3531  2756873076            1796           1857              1   \n",
       "3532    49477936            1886           1106              0   \n",
       "\n",
       "      favorite_count                                               text  \\\n",
       "0                  0  trying least targeting specific group cause tr...   \n",
       "1                  4  saw fly stats display time tweetstats hashtag ...   \n",
       "2                  1  sauce capsicum stock packet jar quality cookin...   \n",
       "3                 30  think going play video game day super stressfu...   \n",
       "4                  0  fight systemic problem time offering real tip ...   \n",
       "...              ...                                                ...   \n",
       "3528               1  bean toast dinner tonight would score higher t...   \n",
       "3529               3  lost questionsformen wa essentially ford way e...   \n",
       "3530               5  step post facebook step kia link step get dog ...   \n",
       "3531               0  rt hear abhorrent display sexism good wife tragic   \n",
       "3532               5          would nice annie end sudden death kat mkr   \n",
       "\n",
       "      word_length  label  \n",
       "0              10      0  \n",
       "1              13      0  \n",
       "2              15      1  \n",
       "3              11      0  \n",
       "4              11      0  \n",
       "...           ...    ...  \n",
       "3528           12      0  \n",
       "3529           10      1  \n",
       "3530           15      0  \n",
       "3531            8      1  \n",
       "3532            8      0  \n",
       "\n",
       "[3485 rows x 8 columns]"
      ]
     },
     "execution_count": 92,
     "metadata": {},
     "output_type": "execute_result"
    }
   ],
   "source": [
    "df"
   ]
  },
  {
   "cell_type": "code",
   "execution_count": 95,
   "id": "a9548b4c",
   "metadata": {},
   "outputs": [
    {
     "data": {
      "text/plain": [
       "83"
      ]
     },
     "execution_count": 95,
     "metadata": {},
     "output_type": "execute_result"
    }
   ],
   "source": [
    "np.max(df[df['label']==1]['favorite_count'])"
   ]
  },
  {
   "cell_type": "code",
   "execution_count": 105,
   "id": "7b2a7002",
   "metadata": {},
   "outputs": [
    {
     "data": {
      "text/html": [
       "<div>\n",
       "<style scoped>\n",
       "    .dataframe tbody tr th:only-of-type {\n",
       "        vertical-align: middle;\n",
       "    }\n",
       "\n",
       "    .dataframe tbody tr th {\n",
       "        vertical-align: top;\n",
       "    }\n",
       "\n",
       "    .dataframe thead th {\n",
       "        text-align: right;\n",
       "    }\n",
       "</style>\n",
       "<table border=\"1\" class=\"dataframe\">\n",
       "  <thead>\n",
       "    <tr style=\"text-align: right;\">\n",
       "      <th></th>\n",
       "      <th>id</th>\n",
       "      <th>follower_count</th>\n",
       "      <th>friends_count</th>\n",
       "      <th>retweet_count</th>\n",
       "      <th>favorite_count</th>\n",
       "      <th>text</th>\n",
       "      <th>word_length</th>\n",
       "      <th>label</th>\n",
       "    </tr>\n",
       "  </thead>\n",
       "  <tbody>\n",
       "    <tr>\n",
       "      <th>1340</th>\n",
       "      <td>13857342</td>\n",
       "      <td>20161</td>\n",
       "      <td>780</td>\n",
       "      <td>24</td>\n",
       "      <td>83</td>\n",
       "      <td>excuse rave wa promised dead mouse</td>\n",
       "      <td>6</td>\n",
       "      <td>1</td>\n",
       "    </tr>\n",
       "  </tbody>\n",
       "</table>\n",
       "</div>"
      ],
      "text/plain": [
       "            id  follower_count  friends_count  retweet_count  favorite_count  \\\n",
       "1340  13857342           20161            780             24              83   \n",
       "\n",
       "                                    text  word_length  label  \n",
       "1340  excuse rave wa promised dead mouse            6      1  "
      ]
     },
     "execution_count": 105,
     "metadata": {},
     "output_type": "execute_result"
    }
   ],
   "source": [
    "df.loc[(df.label==1) & (df.favorite_count==83)]"
   ]
  },
  {
   "cell_type": "code",
   "execution_count": 85,
   "id": "31dc0e5a",
   "metadata": {},
   "outputs": [
    {
     "data": {
      "text/plain": [
       "[Text(0, 0.5, 'count'),\n",
       " Text(0.5, 1.0, 'The distribution of favorite_count'),\n",
       " Text(0.5, 0, 'favorite_count(number)')]"
      ]
     },
     "execution_count": 85,
     "metadata": {},
     "output_type": "execute_result"
    },
    {
     "data": {
      "image/png": "[encoded data removed]",
      "text/plain": [
       "<Figure size 432x288 with 1 Axes>"
      ]
     },
     "metadata": {
      "needs_background": "light"
     },
     "output_type": "display_data"
    }
   ],
   "source": [
    "sns.boxplot(data=df,x = 'favorite_count').set(ylabel='count',title='The distribution of favorite_count',xlabel='favorite_count(number)')"
   ]
  },
  {
   "cell_type": "code",
   "execution_count": 13,
   "id": "d67fbe4a",
   "metadata": {},
   "outputs": [],
   "source": [
    "# import re\n",
    "# from nltk.corpus import stopwords\n",
    "# from nltk.tokenize import sent_tokenize, word_tokenize\n",
    "# from nltk.stem import WordNetLemmatizer\n",
    "# lemmatizer = WordNetLemmatizer()\n",
    "# stopwords = stopwords.words('English')\n",
    "# def pipeline(input:str):\n",
    "#     str_input = re.sub(pattern=r'[^a-zA-z]',repl=' ',string=input)\n",
    "# #     str_output = correct_sentence_spelling(sentence = str_input)\n",
    "#     token_list = word_tokenize(str_input)\n",
    "#     token_list = [lemmatizer.lemmatize(i) for i in token_list]\n",
    "#     word_list = [word for word in token_list if word not in stopwords]\n",
    "#     word_str = ' '.join(word_list)\n",
    "#     return word_str\n",
    "# df_t = df[~df.text.str.contains('RT')].copy()\n",
    "# df_t.text = df_t.text.apply(pipeline)\n",
    "# df_t.loc[:,'length'] = df_t.text.apply(lambda x:len(x))"
   ]
  },
  {
   "cell_type": "code",
   "execution_count": 106,
   "id": "2255b90d",
   "metadata": {},
   "outputs": [
    {
     "data": {
      "text/plain": [
       "[Text(0.5, 1.0, 'Text Length Contrast Between Labels'),\n",
       " Text(0, 0.5, 'Count (number)'),\n",
       " Text(0.5, 0, 'length (words)')]"
      ]
     },
     "execution_count": 106,
     "metadata": {},
     "output_type": "execute_result"
    },
    {
     "data": {
      "image/png": "[encoded data removed]",
      "text/plain": [
       "<Figure size 432x288 with 1 Axes>"
      ]
     },
     "metadata": {
      "needs_background": "light"
     },
     "output_type": "display_data"
    }
   ],
   "source": [
    "sns.histplot(data=df,x='word_length',kde=True,hue='label',multiple='stack').set(title='Text Length Contrast Between Labels',ylabel='Count (number)',xlabel='length (words)')"
   ]
  },
  {
   "cell_type": "code",
   "execution_count": 112,
   "id": "1ecb5584",
   "metadata": {},
   "outputs": [
    {
     "data": {
      "text/plain": [
       "0       trying least targeting specific group cause tr...\n",
       "1       saw fly stats display time tweetstats hashtag ...\n",
       "2       sauce capsicum stock packet jar quality cookin...\n",
       "3       think going play video game day super stressfu...\n",
       "4       fight systemic problem time offering real tip ...\n",
       "                              ...                        \n",
       "3528    bean toast dinner tonight would score higher t...\n",
       "3529    lost questionsformen wa essentially ford way e...\n",
       "3530    step post facebook step kia link step get dog ...\n",
       "3531       hear abhorrent display sexism good wife tragic\n",
       "3532            would nice annie end sudden death kat mkr\n",
       "Name: text, Length: 3485, dtype: object"
      ]
     },
     "execution_count": 112,
     "metadata": {},
     "output_type": "execute_result"
    }
   ],
   "source": [
    " df.text.apply(lambda x: x.replace('rt',''))"
   ]
  },
  {
   "cell_type": "code",
   "execution_count": 114,
   "id": "67479f50",
   "metadata": {},
   "outputs": [],
   "source": [
    "df.text = df.text.apply(lambda x: x.replace('rt',''))"
   ]
  },
  {
   "cell_type": "code",
   "execution_count": 115,
   "id": "ff4821c3",
   "metadata": {},
   "outputs": [],
   "source": [
    "content = ','.join(df.loc[df.label==1]['text'].tolist())"
   ]
  },
  {
   "cell_type": "code",
   "execution_count": 116,
   "id": "d46fd086",
   "metadata": {},
   "outputs": [
    {
     "data": {
      "image/png": "[encoded data removed]",
      "text/plain": [
       "<Figure size 576x576 with 1 Axes>"
      ]
     },
     "metadata": {
      "needs_background": "light"
     },
     "output_type": "display_data"
    }
   ],
   "source": [
    "stopwords = set(STOPWORDS)\n",
    "wordcloud = WordCloud(width = 600, height = 400,\n",
    "                background_color ='white',\n",
    "                stopwords = stopwords,\n",
    "                prefer_horizontal=0.5,\n",
    "                min_font_size = 10).generate(content)\n",
    "# plot the WordCloud image                      \n",
    "plt.figure(figsize = (8, 8), facecolor = None)\n",
    "plt.imshow(wordcloud)\n",
    "plt.title('Overview of texts',fontsize=20)\n",
    "plt.axis(\"off\")\n",
    "plt.tight_layout(pad = 0)\n",
    "plt.show()"
   ]
  }
 ],
 "metadata": {
  "kernelspec": {
   "display_name": "Python 3.9.12 ('base')",
   "language": "python",
   "name": "python3"
  },
  "language_info": {
   "codemirror_mode": {
    "name": "ipython",
    "version": 3
   },
   "file_extension": ".py",
   "mimetype": "text/x-python",
   "name": "python",
   "nbconvert_exporter": "python",
   "pygments_lexer": "ipython3",
   "version": "3.9.12"
  },
  "vscode": {
   "interpreter": {
    "hash": "5179d32cf6ec497baf3f8a3ef987cc77c5d2dc691fdde20a56316522f61a7323"
   }
  }
 },
 "nbformat": 4,
 "nbformat_minor": 5
}
