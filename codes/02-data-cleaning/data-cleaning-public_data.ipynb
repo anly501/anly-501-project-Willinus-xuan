{
 "cells": [
  {
   "cell_type": "code",
   "execution_count": 38,
   "id": "1dd3242c",
   "metadata": {},
   "outputs": [],
   "source": [
    "import pandas as pd\n",
    "import time\n",
    "import numpy as np\n",
    "import re\n",
    "from nltk.corpus import stopwords\n",
    "from nltk.tokenize import sent_tokenize, word_tokenize\n",
    "from nltk.stem import WordNetLemmatizer\n",
    "import os\n",
    "\n",
    "from wordcloud import WordCloud, STOPWORDS, ImageColorGenerator\n",
    "import matplotlib.pyplot as plt #to display our wordcloud\n",
    "from PIL import Image #to load our image"
   ]
  },
  {
   "cell_type": "code",
   "execution_count": 39,
   "id": "b21d1577",
   "metadata": {},
   "outputs": [
    {
     "name": "stdout",
     "output_type": "stream",
     "text": [
      "../../data/clean-twitter_en.csv\n",
      "../../data/clean_public.csv\n",
      "../../data/labeled_tweets.csv\n",
      "../../data/public_data_labeled.csv\n",
      "../../data/twitter_en.csv\n"
     ]
    }
   ],
   "source": [
    "for dirname, _, filenames in os.walk('../../data'):\n",
    "    for filename in filenames:\n",
    "        print(os.path.join(dirname, filename).replace('\\\\','/'))"
   ]
  },
  {
   "cell_type": "code",
   "execution_count": 40,
   "id": "8e9e6c8e",
   "metadata": {},
   "outputs": [],
   "source": [
    "# read the data\n",
    "df = pd.read_csv('../../data/public_data_labeled.csv')"
   ]
  },
  {
   "cell_type": "code",
   "execution_count": 41,
   "id": "08727f61",
   "metadata": {},
   "outputs": [],
   "source": [
    "# exclude retweets, which is not useful for modeling later\n",
    "df = df[~df.full_text.str.contains('RT')].copy()"
   ]
  },
  {
   "cell_type": "code",
   "execution_count": 42,
   "id": "828f612c",
   "metadata": {},
   "outputs": [],
   "source": [
    "#1.build lemmatize models, and stopwords dictionary\n",
    "lemmatizer = WordNetLemmatizer()\n",
    "stopwords = stopwords.words('English')"
   ]
  },
  {
   "cell_type": "code",
   "execution_count": 21,
   "id": "714f84b4",
   "metadata": {},
   "outputs": [],
   "source": [
    "# the pipeline to process the raw text data\n",
    "def pipeline(input:str):\n",
    "    input = input.lower()\n",
    "    input=re.sub(\"\\\\W\",\" \",input) # remove special chars\n",
    "    str_input = re.sub(pattern=r'[^a-zA-z]',repl=' ',string=input) #remove words except digit and words\n",
    "#     str_output = correct_sentence_spelling(sentence = str_input) # it is too time-consuming\n",
    "    token_list = word_tokenize(str_input)\n",
    "    token_list = [lemmatizer.lemmatize(i) for i in token_list]\n",
    "    word_list = [word for word in token_list if word not in stopwords]\n",
    "    word_str = ' '.join(word_list)\n",
    "    return word_str\n",
    "df.full_text = df.full_text.apply(pipeline)"
   ]
  },
  {
   "cell_type": "code",
   "execution_count": 28,
   "id": "81081779",
   "metadata": {},
   "outputs": [],
   "source": [
    "df.label = df.label.apply(lambda x:1 if x=='Offensive' else 0)\n",
    "df.groupby('label').count()"
   ]
  },
  {
   "cell_type": "code",
   "execution_count": 34,
   "id": "49571031",
   "metadata": {},
   "outputs": [],
   "source": [
    "from sklearn.feature_extraction.text import CountVectorizer\n",
    "vectorize = CountVectorizer(analyzer='word',min_df=0.1)\n",
    "content  = df.full_text\n",
    "vector = vectorize.fit_transform(content)\n",
    "data = vector.toarray()\n",
    "index_name = vectorize.get_feature_names_out()"
   ]
  },
  {
   "cell_type": "code",
   "execution_count": 37,
   "id": "938b7f43",
   "metadata": {},
   "outputs": [],
   "source": [
    "df.to_csv('../../data/clean_twitter_en.csv')"
   ]
  }
 ],
 "metadata": {
  "kernelspec": {
   "display_name": "Python 3.8.3rc1 64-bit",
   "language": "python",
   "name": "python3"
  },
  "language_info": {
   "codemirror_mode": {
    "name": "ipython",
    "version": 3
   },
   "file_extension": ".py",
   "mimetype": "text/x-python",
   "name": "python",
   "nbconvert_exporter": "python",
   "pygments_lexer": "ipython3",
   "version": "3.8.3"
  },
  "vscode": {
   "interpreter": {
    "hash": "e56b1909e5772b1b4eafdcd7b36ed3f376566867b931964f3fe09830564a0656"
   }
  }
 },
 "nbformat": 4,
 "nbformat_minor": 5
}
