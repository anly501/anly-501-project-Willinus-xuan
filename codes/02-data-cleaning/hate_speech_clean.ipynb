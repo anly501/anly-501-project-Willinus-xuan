{
 "cells": [
  {
   "cell_type": "code",
   "execution_count": 4,
   "metadata": {},
   "outputs": [],
   "source": [
    "import pandas as pd\n",
    "import time\n",
    "import numpy as np\n",
    "import re\n",
    "import string\n",
    "from nltk.corpus import stopwords\n",
    "from nltk.tokenize import sent_tokenize, word_tokenize\n",
    "from nltk.stem import WordNetLemmatizer\n",
    "import os\n",
    "from matplotlib import pyplot as plt"
   ]
  },
  {
   "cell_type": "code",
   "execution_count": 5,
   "metadata": {},
   "outputs": [
    {
     "data": {
      "text/html": [
       "<div>\n",
       "<style scoped>\n",
       "    .dataframe tbody tr th:only-of-type {\n",
       "        vertical-align: middle;\n",
       "    }\n",
       "\n",
       "    .dataframe tbody tr th {\n",
       "        vertical-align: top;\n",
       "    }\n",
       "\n",
       "    .dataframe thead th {\n",
       "        text-align: right;\n",
       "    }\n",
       "</style>\n",
       "<table border=\"1\" class=\"dataframe\">\n",
       "  <thead>\n",
       "    <tr style=\"text-align: right;\">\n",
       "      <th></th>\n",
       "      <th>user_id</th>\n",
       "      <th>label</th>\n",
       "      <th>text</th>\n",
       "      <th>hashtag</th>\n",
       "      <th>id</th>\n",
       "      <th>location</th>\n",
       "      <th>follower_count</th>\n",
       "      <th>friends_count</th>\n",
       "      <th>country</th>\n",
       "      <th>retweet_count</th>\n",
       "      <th>favorite_count</th>\n",
       "    </tr>\n",
       "  </thead>\n",
       "  <tbody>\n",
       "    <tr>\n",
       "      <th>1519</th>\n",
       "      <td>574296209394827265</td>\n",
       "      <td>none</td>\n",
       "      <td>@elplatt i'm mostly pondering a few startup in...</td>\n",
       "      <td>NaN</td>\n",
       "      <td>13857342</td>\n",
       "      <td>Portland, OR</td>\n",
       "      <td>19170</td>\n",
       "      <td>797</td>\n",
       "      <td>NaN</td>\n",
       "      <td>0</td>\n",
       "      <td>1</td>\n",
       "    </tr>\n",
       "    <tr>\n",
       "      <th>1089</th>\n",
       "      <td>433412449971081216</td>\n",
       "      <td>none</td>\n",
       "      <td>Here's my review of 99% of games I've ever pla...</td>\n",
       "      <td>NaN</td>\n",
       "      <td>930620467</td>\n",
       "      <td>NaN</td>\n",
       "      <td>19820</td>\n",
       "      <td>258</td>\n",
       "      <td>NaN</td>\n",
       "      <td>2</td>\n",
       "      <td>4</td>\n",
       "    </tr>\n",
       "    <tr>\n",
       "      <th>767</th>\n",
       "      <td>508800404269043712</td>\n",
       "      <td>none</td>\n",
       "      <td>I am sterile. #ThreeWordsSheWantsToHear</td>\n",
       "      <td>ThreeWordsSheWantsToHear</td>\n",
       "      <td>930620467</td>\n",
       "      <td>NaN</td>\n",
       "      <td>19819</td>\n",
       "      <td>258</td>\n",
       "      <td>NaN</td>\n",
       "      <td>2</td>\n",
       "      <td>3</td>\n",
       "    </tr>\n",
       "    <tr>\n",
       "      <th>2493</th>\n",
       "      <td>504674884380016640</td>\n",
       "      <td>none</td>\n",
       "      <td>@diesel_frost but since most of the victims ar...</td>\n",
       "      <td>NaN</td>\n",
       "      <td>930620467</td>\n",
       "      <td>NaN</td>\n",
       "      <td>19819</td>\n",
       "      <td>258</td>\n",
       "      <td>NaN</td>\n",
       "      <td>0</td>\n",
       "      <td>0</td>\n",
       "    </tr>\n",
       "    <tr>\n",
       "      <th>386</th>\n",
       "      <td>563780337549844480</td>\n",
       "      <td>none</td>\n",
       "      <td>@ncweaver i'm glad California is finally getti...</td>\n",
       "      <td>NaN</td>\n",
       "      <td>13857342</td>\n",
       "      <td>Portland, OR</td>\n",
       "      <td>19170</td>\n",
       "      <td>797</td>\n",
       "      <td>NaN</td>\n",
       "      <td>0</td>\n",
       "      <td>0</td>\n",
       "    </tr>\n",
       "  </tbody>\n",
       "</table>\n",
       "</div>"
      ],
      "text/plain": [
       "                 user_id label  \\\n",
       "1519  574296209394827265  none   \n",
       "1089  433412449971081216  none   \n",
       "767   508800404269043712  none   \n",
       "2493  504674884380016640  none   \n",
       "386   563780337549844480  none   \n",
       "\n",
       "                                                   text  \\\n",
       "1519  @elplatt i'm mostly pondering a few startup in...   \n",
       "1089  Here's my review of 99% of games I've ever pla...   \n",
       "767             I am sterile. #ThreeWordsSheWantsToHear   \n",
       "2493  @diesel_frost but since most of the victims ar...   \n",
       "386   @ncweaver i'm glad California is finally getti...   \n",
       "\n",
       "                       hashtag         id      location  follower_count  \\\n",
       "1519                       NaN   13857342  Portland, OR           19170   \n",
       "1089                       NaN  930620467           NaN           19820   \n",
       "767   ThreeWordsSheWantsToHear  930620467           NaN           19819   \n",
       "2493                       NaN  930620467           NaN           19819   \n",
       "386                        NaN   13857342  Portland, OR           19170   \n",
       "\n",
       "      friends_count country  retweet_count  favorite_count  \n",
       "1519            797     NaN              0               1  \n",
       "1089            258     NaN              2               4  \n",
       "767             258     NaN              2               3  \n",
       "2493            258     NaN              0               0  \n",
       "386             797     NaN              0               0  "
      ]
     },
     "execution_count": 5,
     "metadata": {},
     "output_type": "execute_result"
    }
   ],
   "source": [
    "df = pd.read_csv('../01-data-collection/hate_speech.csv',index_col=0)\n",
    "df.sample(n=5)"
   ]
  },
  {
   "cell_type": "code",
   "execution_count": 6,
   "metadata": {},
   "outputs": [
    {
     "data": {
      "image/png": "[encoded data removed]",
      "text/plain": [
       "<Figure size 432x288 with 1 Axes>"
      ]
     },
     "metadata": {
      "needs_background": "light"
     },
     "output_type": "display_data"
    }
   ],
   "source": [
    "def plot_nas(trainData: pd.DataFrame):\n",
    "    if trainData.isnull().sum().sum() != 0:\n",
    "        na_df = (trainData.isnull().sum() / len(trainData)) * 100      \n",
    "        na_df = na_df.drop(na_df[na_df == 0].index).sort_values(ascending=False)\n",
    "        missing_data = pd.DataFrame({'Missing Ratio %' :na_df})\n",
    "        missing_data.plot(kind = \"barh\")\n",
    "        plt.title('Barplot of Missing percentage of incomplete Variables')\n",
    "        plt.show()\n",
    "    else:\n",
    "        print('No NAs found')\n",
    "plot_nas(df)"
   ]
  },
  {
   "cell_type": "code",
   "execution_count": 7,
   "metadata": {},
   "outputs": [
    {
     "data": {
      "text/plain": [
       "array(['none', 'sexism'], dtype=object)"
      ]
     },
     "execution_count": 7,
     "metadata": {},
     "output_type": "execute_result"
    }
   ],
   "source": [
    "df.drop(columns=['user_id','country'],inplace=True)\n",
    "df.label.unique()"
   ]
  },
  {
   "cell_type": "code",
   "execution_count": 8,
   "metadata": {},
   "outputs": [],
   "source": [
    "map = {'none':0,\n",
    "        'sexism':'1',\n",
    "        }\n",
    "df.label = df.label.map(map)"
   ]
  },
  {
   "cell_type": "code",
   "execution_count": 9,
   "metadata": {},
   "outputs": [
    {
     "data": {
      "text/plain": [
       "(1252, 9)"
      ]
     },
     "execution_count": 9,
     "metadata": {},
     "output_type": "execute_result"
    }
   ],
   "source": [
    "df = df[~df.text.str.contains('RT')].copy()\n",
    "df.shape"
   ]
  },
  {
   "cell_type": "code",
   "execution_count": 10,
   "metadata": {},
   "outputs": [],
   "source": [
    "#remove contractions\n",
    "def decontract(text):\n",
    "    text = re.sub(r\"can\\'t\", \"can not\", text)\n",
    "    text = re.sub(r\"n\\'t\", \" not\", text)\n",
    "    text = re.sub(r\"\\'re\", \" are\", text)\n",
    "    text = re.sub(r\"\\'s\", \" is\", text)\n",
    "    text = re.sub(r\"\\'d\", \" would\", text)\n",
    "    text = re.sub(r\"\\'ll\", \" will\", text)\n",
    "    text = re.sub(r\"\\'t\", \" not\", text)\n",
    "    text = re.sub(r\"\\'ve\", \" have\", text)\n",
    "    text = re.sub(r\"\\'m\", \" am\", text)\n",
    "    return text\n",
    "#1.build lemmatize models, and stopwords dictionary\n",
    "stopwords = stopwords.words('English')\n",
    "# the pipeline to process the raw text data\n",
    "def pipeline(text:str):\n",
    "    lm = WordNetLemmatizer()\n",
    "    text = text.lower()\n",
    "    # remove the hashtags and remove all the mentions@\n",
    "    text = ' '.join(re.sub(\"(@[A-Za-z0-9]+)|([^0-9A-Za-z \\t])|(\\w+:\\/\\/\\S+)\",\" \",text).split())\n",
    "    text=re.sub(\"\\\\W\",\" \",text) # remove special chars\n",
    "    str_input = re.sub(pattern=r'[^a-zA-z]',repl=' ',string=text) #remove words except digit and words\n",
    "#     str_output = correct_sentence_spelling(sentence = str_input) # it is too time-consuming\n",
    "    token_list = word_tokenize(str_input)\n",
    "    token_list = [lm.lemmatize(i) for i in token_list]\n",
    "    word_list = [word for word in token_list if word not in stopwords]\n",
    "    word_str = ' '.join(word_list)\n",
    "    return word_str\n",
    "def preprocess(text):\n",
    "    # text = strip_emoji(text)\n",
    "    text = decontract(text)\n",
    "    text = pipeline(text)\n",
    "    return text"
   ]
  },
  {
   "cell_type": "code",
   "execution_count": 11,
   "metadata": {},
   "outputs": [
    {
     "data": {
      "text/html": [
       "<div>\n",
       "<style scoped>\n",
       "    .dataframe tbody tr th:only-of-type {\n",
       "        vertical-align: middle;\n",
       "    }\n",
       "\n",
       "    .dataframe tbody tr th {\n",
       "        vertical-align: top;\n",
       "    }\n",
       "\n",
       "    .dataframe thead th {\n",
       "        text-align: right;\n",
       "    }\n",
       "</style>\n",
       "<table border=\"1\" class=\"dataframe\">\n",
       "  <thead>\n",
       "    <tr style=\"text-align: right;\">\n",
       "      <th></th>\n",
       "      <th>label</th>\n",
       "      <th>text</th>\n",
       "      <th>hashtag</th>\n",
       "      <th>id</th>\n",
       "      <th>location</th>\n",
       "      <th>follower_count</th>\n",
       "      <th>friends_count</th>\n",
       "      <th>retweet_count</th>\n",
       "      <th>favorite_count</th>\n",
       "      <th>texts_cleaned</th>\n",
       "    </tr>\n",
       "  </thead>\n",
       "  <tbody>\n",
       "    <tr>\n",
       "      <th>1</th>\n",
       "      <td>0</td>\n",
       "      <td>Because if Elliot Rodger had killed just ONE w...</td>\n",
       "      <td>YesAllWomen</td>\n",
       "      <td>930620467</td>\n",
       "      <td>NaN</td>\n",
       "      <td>19820</td>\n",
       "      <td>258</td>\n",
       "      <td>19</td>\n",
       "      <td>17</td>\n",
       "      <td>elliot rodger killed one woman rejected date w...</td>\n",
       "    </tr>\n",
       "    <tr>\n",
       "      <th>4</th>\n",
       "      <td>0</td>\n",
       "      <td>@Grummz @rxptor @Spacekatgal @TheQuinnspiracy ...</td>\n",
       "      <td>NaN</td>\n",
       "      <td>13857342</td>\n",
       "      <td>Portland, OR</td>\n",
       "      <td>19172</td>\n",
       "      <td>797</td>\n",
       "      <td>0</td>\n",
       "      <td>2</td>\n",
       "      <td>keep mind volume volume vitriol disproportiona...</td>\n",
       "    </tr>\n",
       "    <tr>\n",
       "      <th>8</th>\n",
       "      <td>0</td>\n",
       "      <td>My face every time I hear or see Kat....hope i...</td>\n",
       "      <td>mkr</td>\n",
       "      <td>482583016</td>\n",
       "      <td>NaN</td>\n",
       "      <td>59</td>\n",
       "      <td>39</td>\n",
       "      <td>0</td>\n",
       "      <td>3</td>\n",
       "      <td>face every time hear see kat hope get stuck mkr</td>\n",
       "    </tr>\n",
       "    <tr>\n",
       "      <th>10</th>\n",
       "      <td>0</td>\n",
       "      <td>Empathy is the social skill that informs all o...</td>\n",
       "      <td>NaN</td>\n",
       "      <td>930620467</td>\n",
       "      <td>NaN</td>\n",
       "      <td>19820</td>\n",
       "      <td>258</td>\n",
       "      <td>1</td>\n",
       "      <td>0</td>\n",
       "      <td>empathy social skill informs others specie wit...</td>\n",
       "    </tr>\n",
       "    <tr>\n",
       "      <th>11</th>\n",
       "      <td>0</td>\n",
       "      <td>@tmclaughbos yo, are you going to #bsdcan? @bs...</td>\n",
       "      <td>bsdcan</td>\n",
       "      <td>13857342</td>\n",
       "      <td>Portland, OR</td>\n",
       "      <td>19170</td>\n",
       "      <td>797</td>\n",
       "      <td>0</td>\n",
       "      <td>1</td>\n",
       "      <td>yo going bsdcan going could cause trouble p</td>\n",
       "    </tr>\n",
       "  </tbody>\n",
       "</table>\n",
       "</div>"
      ],
      "text/plain": [
       "   label                                               text      hashtag  \\\n",
       "1      0  Because if Elliot Rodger had killed just ONE w...  YesAllWomen   \n",
       "4      0  @Grummz @rxptor @Spacekatgal @TheQuinnspiracy ...          NaN   \n",
       "8      0  My face every time I hear or see Kat....hope i...          mkr   \n",
       "10     0  Empathy is the social skill that informs all o...          NaN   \n",
       "11     0  @tmclaughbos yo, are you going to #bsdcan? @bs...       bsdcan   \n",
       "\n",
       "           id      location  follower_count  friends_count  retweet_count  \\\n",
       "1   930620467           NaN           19820            258             19   \n",
       "4    13857342  Portland, OR           19172            797              0   \n",
       "8   482583016           NaN              59             39              0   \n",
       "10  930620467           NaN           19820            258              1   \n",
       "11   13857342  Portland, OR           19170            797              0   \n",
       "\n",
       "    favorite_count                                      texts_cleaned  \n",
       "1               17  elliot rodger killed one woman rejected date w...  \n",
       "4                2  keep mind volume volume vitriol disproportiona...  \n",
       "8                3    face every time hear see kat hope get stuck mkr  \n",
       "10               0  empathy social skill informs others specie wit...  \n",
       "11               1        yo going bsdcan going could cause trouble p  "
      ]
     },
     "execution_count": 11,
     "metadata": {},
     "output_type": "execute_result"
    }
   ],
   "source": [
    "texts_cleaned = []\n",
    "for t in df.text:\n",
    "    texts_cleaned.append(preprocess(t))\n",
    "df.loc[:,'texts_cleaned'] = np.array(texts_cleaned)\n",
    "df.head()"
   ]
  },
  {
   "cell_type": "code",
   "execution_count": 13,
   "metadata": {},
   "outputs": [],
   "source": [
    "df.loc[:,'word_length'] = df.texts_cleaned.apply(lambda x:len(x.split(' ')))"
   ]
  },
  {
   "cell_type": "code",
   "execution_count": 14,
   "metadata": {},
   "outputs": [
    {
     "data": {
      "text/html": [
       "<div>\n",
       "<style scoped>\n",
       "    .dataframe tbody tr th:only-of-type {\n",
       "        vertical-align: middle;\n",
       "    }\n",
       "\n",
       "    .dataframe tbody tr th {\n",
       "        vertical-align: top;\n",
       "    }\n",
       "\n",
       "    .dataframe thead th {\n",
       "        text-align: right;\n",
       "    }\n",
       "</style>\n",
       "<table border=\"1\" class=\"dataframe\">\n",
       "  <thead>\n",
       "    <tr style=\"text-align: right;\">\n",
       "      <th></th>\n",
       "      <th>id</th>\n",
       "      <th>location</th>\n",
       "      <th>follower_count</th>\n",
       "      <th>friends_count</th>\n",
       "      <th>retweet_count</th>\n",
       "      <th>favorite_count</th>\n",
       "      <th>text</th>\n",
       "      <th>word_length</th>\n",
       "      <th>label</th>\n",
       "    </tr>\n",
       "  </thead>\n",
       "  <tbody>\n",
       "    <tr>\n",
       "      <th>1</th>\n",
       "      <td>930620467</td>\n",
       "      <td>NaN</td>\n",
       "      <td>19820</td>\n",
       "      <td>258</td>\n",
       "      <td>19</td>\n",
       "      <td>17</td>\n",
       "      <td>elliot rodger killed one woman rejected date w...</td>\n",
       "      <td>11</td>\n",
       "      <td>0</td>\n",
       "    </tr>\n",
       "    <tr>\n",
       "      <th>4</th>\n",
       "      <td>13857342</td>\n",
       "      <td>Portland, OR</td>\n",
       "      <td>19172</td>\n",
       "      <td>797</td>\n",
       "      <td>0</td>\n",
       "      <td>2</td>\n",
       "      <td>keep mind volume volume vitriol disproportiona...</td>\n",
       "      <td>8</td>\n",
       "      <td>0</td>\n",
       "    </tr>\n",
       "    <tr>\n",
       "      <th>8</th>\n",
       "      <td>482583016</td>\n",
       "      <td>NaN</td>\n",
       "      <td>59</td>\n",
       "      <td>39</td>\n",
       "      <td>0</td>\n",
       "      <td>3</td>\n",
       "      <td>face every time hear see kat hope get stuck mkr</td>\n",
       "      <td>10</td>\n",
       "      <td>0</td>\n",
       "    </tr>\n",
       "    <tr>\n",
       "      <th>10</th>\n",
       "      <td>930620467</td>\n",
       "      <td>NaN</td>\n",
       "      <td>19820</td>\n",
       "      <td>258</td>\n",
       "      <td>1</td>\n",
       "      <td>0</td>\n",
       "      <td>empathy social skill informs others specie wit...</td>\n",
       "      <td>11</td>\n",
       "      <td>0</td>\n",
       "    </tr>\n",
       "    <tr>\n",
       "      <th>11</th>\n",
       "      <td>13857342</td>\n",
       "      <td>Portland, OR</td>\n",
       "      <td>19170</td>\n",
       "      <td>797</td>\n",
       "      <td>0</td>\n",
       "      <td>1</td>\n",
       "      <td>yo going bsdcan going could cause trouble p</td>\n",
       "      <td>8</td>\n",
       "      <td>0</td>\n",
       "    </tr>\n",
       "  </tbody>\n",
       "</table>\n",
       "</div>"
      ],
      "text/plain": [
       "           id      location  follower_count  friends_count  retweet_count  \\\n",
       "1   930620467           NaN           19820            258             19   \n",
       "4    13857342  Portland, OR           19172            797              0   \n",
       "8   482583016           NaN              59             39              0   \n",
       "10  930620467           NaN           19820            258              1   \n",
       "11   13857342  Portland, OR           19170            797              0   \n",
       "\n",
       "    favorite_count                                               text  \\\n",
       "1               17  elliot rodger killed one woman rejected date w...   \n",
       "4                2  keep mind volume volume vitriol disproportiona...   \n",
       "8                3    face every time hear see kat hope get stuck mkr   \n",
       "10               0  empathy social skill informs others specie wit...   \n",
       "11               1        yo going bsdcan going could cause trouble p   \n",
       "\n",
       "    word_length label  \n",
       "1            11     0  \n",
       "4             8     0  \n",
       "8            10     0  \n",
       "10           11     0  \n",
       "11            8     0  "
      ]
     },
     "execution_count": 14,
     "metadata": {},
     "output_type": "execute_result"
    }
   ],
   "source": [
    "df_output = df.loc[:,['id','location','follower_count','friends_count','retweet_count','favorite_count','texts_cleaned','word_length','label']]\n",
    "df_output.rename(columns={'texts_cleaned':'text'},inplace=True)\n",
    "df_output.head()"
   ]
  },
  {
   "cell_type": "code",
   "execution_count": 17,
   "metadata": {},
   "outputs": [
    {
     "data": {
      "text/plain": [
       "(1252, 9)"
      ]
     },
     "execution_count": 17,
     "metadata": {},
     "output_type": "execute_result"
    }
   ],
   "source": [
    "df_output.shape"
   ]
  },
  {
   "cell_type": "code",
   "execution_count": 18,
   "metadata": {},
   "outputs": [],
   "source": [
    "df_output = df_output[~df_output['text'].isnull()]\n",
    "df_output.reset_index(drop=True,inplace=True)\n"
   ]
  },
  {
   "cell_type": "code",
   "execution_count": 19,
   "metadata": {},
   "outputs": [],
   "source": [
    "df_output.to_csv('../../data/hate_speech.csv')"
   ]
  }
 ],
 "metadata": {
  "kernelspec": {
   "display_name": "Python 3.9.12 ('base')",
   "language": "python",
   "name": "python3"
  },
  "language_info": {
   "codemirror_mode": {
    "name": "ipython",
    "version": 3
   },
   "file_extension": ".py",
   "mimetype": "text/x-python",
   "name": "python",
   "nbconvert_exporter": "python",
   "pygments_lexer": "ipython3",
   "version": "3.9.12"
  },
  "orig_nbformat": 4,
  "vscode": {
   "interpreter": {
    "hash": "5179d32cf6ec497baf3f8a3ef987cc77c5d2dc691fdde20a56316522f61a7323"
   }
  }
 },
 "nbformat": 4,
 "nbformat_minor": 2
}
